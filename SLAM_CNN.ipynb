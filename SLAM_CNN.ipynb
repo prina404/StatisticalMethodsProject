{
 "cells": [
  {
   "cell_type": "code",
   "execution_count": 1,
   "metadata": {},
   "outputs": [
    {
     "name": "stderr",
     "output_type": "stream",
     "text": [
      "2024-08-19 10:13:24.532944: I external/local_xla/xla/tsl/cuda/cudart_stub.cc:32] Could not find cuda drivers on your machine, GPU will not be used.\n",
      "2024-08-19 10:13:24.539788: I external/local_xla/xla/tsl/cuda/cudart_stub.cc:32] Could not find cuda drivers on your machine, GPU will not be used.\n",
      "2024-08-19 10:13:24.559181: E external/local_xla/xla/stream_executor/cuda/cuda_fft.cc:485] Unable to register cuFFT factory: Attempting to register factory for plugin cuFFT when one has already been registered\n",
      "2024-08-19 10:13:24.584878: E external/local_xla/xla/stream_executor/cuda/cuda_dnn.cc:8454] Unable to register cuDNN factory: Attempting to register factory for plugin cuDNN when one has already been registered\n",
      "2024-08-19 10:13:24.591500: E external/local_xla/xla/stream_executor/cuda/cuda_blas.cc:1452] Unable to register cuBLAS factory: Attempting to register factory for plugin cuBLAS when one has already been registered\n",
      "2024-08-19 10:13:24.609282: I tensorflow/core/platform/cpu_feature_guard.cc:210] This TensorFlow binary is optimized to use available CPU instructions in performance-critical operations.\n",
      "To enable the following instructions: AVX2 FMA, in other operations, rebuild TensorFlow with the appropriate compiler flags.\n",
      "2024-08-19 10:13:25.973715: W tensorflow/compiler/tf2tensorrt/utils/py_utils.cc:38] TF-TRT Warning: Could not find TensorRT\n"
     ]
    }
   ],
   "source": [
    "import tensorflow as tf\n",
    "import keras\n",
    "import optuna\n",
    "import numpy as np\n",
    "import sklearn as sk\n",
    "import matplotlib.pyplot as plt\n",
    "import pandas as pd\n",
    "import cv2 \n",
    "import json\n",
    "import os\n",
    "import random\n",
    "import logging\n",
    "from sklearn.model_selection import train_test_split\n",
    "from keras import layers"
   ]
  },
  {
   "cell_type": "code",
   "execution_count": 2,
   "metadata": {},
   "outputs": [],
   "source": [
    "IMG_PATH = 'img/'\n",
    "AUTO = tf.data.AUTOTUNE\n",
    "BATCH_SIZE = 32\n",
    "IM_SHAPE = (500,500, 1)"
   ]
  },
  {
   "cell_type": "markdown",
   "metadata": {},
   "source": [
    "## Image preprocessing"
   ]
  },
  {
   "cell_type": "code",
   "execution_count": 3,
   "metadata": {},
   "outputs": [],
   "source": [
    "def square_img(imPath: tf.Tensor):\n",
    "    path = bytes.decode(imPath.numpy())\n",
    "    img = cv2.imread(path, cv2.IMREAD_GRAYSCALE)\n",
    "    h, w = img.shape\n",
    "    h_diff = 0 if h >= w else abs(h - w) // 2\n",
    "    w_diff = 0 if w >= h else abs(h - w) // 2\n",
    "    squared_img = cv2.copyMakeBorder(img, h_diff, h_diff, w_diff, w_diff, cv2.BORDER_CONSTANT, value=205)\n",
    "    squared_img = squared_img / 255.\n",
    "    pad = 25\n",
    "    squared_img = squared_img[pad:-pad, pad:-pad]   # partially remove the gray padding\n",
    "    return cv2.resize(squared_img, IM_SHAPE[:-1], interpolation=cv2.INTER_LINEAR)"
   ]
  },
  {
   "cell_type": "markdown",
   "metadata": {},
   "source": [
    "# Data preprocessing"
   ]
  },
  {
   "cell_type": "markdown",
   "metadata": {},
   "source": [
    "### Read csv files and create datasets"
   ]
  },
  {
   "cell_type": "code",
   "execution_count": 4,
   "metadata": {},
   "outputs": [
    {
     "data": {
      "text/html": [
       "<div>\n",
       "<style scoped>\n",
       "    .dataframe tbody tr th:only-of-type {\n",
       "        vertical-align: middle;\n",
       "    }\n",
       "\n",
       "    .dataframe tbody tr th {\n",
       "        vertical-align: top;\n",
       "    }\n",
       "\n",
       "    .dataframe thead th {\n",
       "        text-align: right;\n",
       "    }\n",
       "</style>\n",
       "<table border=\"1\" class=\"dataframe\">\n",
       "  <thead>\n",
       "    <tr style=\"text-align: right;\">\n",
       "      <th></th>\n",
       "      <th>id</th>\n",
       "      <th>traslErr</th>\n",
       "      <th>rotErr</th>\n",
       "    </tr>\n",
       "  </thead>\n",
       "  <tbody>\n",
       "    <tr>\n",
       "      <th>0</th>\n",
       "      <td>img/32-G5.png</td>\n",
       "      <td>0.549900</td>\n",
       "      <td>0.049978</td>\n",
       "    </tr>\n",
       "    <tr>\n",
       "      <th>1</th>\n",
       "      <td>img/32-G7.png</td>\n",
       "      <td>0.655930</td>\n",
       "      <td>0.048543</td>\n",
       "    </tr>\n",
       "    <tr>\n",
       "      <th>2</th>\n",
       "      <td>img/32-G9.png</td>\n",
       "      <td>0.461634</td>\n",
       "      <td>0.035468</td>\n",
       "    </tr>\n",
       "    <tr>\n",
       "      <th>3</th>\n",
       "      <td>img/32-D8.png</td>\n",
       "      <td>0.518458</td>\n",
       "      <td>0.041766</td>\n",
       "    </tr>\n",
       "    <tr>\n",
       "      <th>4</th>\n",
       "      <td>img/W31-2.png</td>\n",
       "      <td>0.222666</td>\n",
       "      <td>0.017267</td>\n",
       "    </tr>\n",
       "    <tr>\n",
       "      <th>...</th>\n",
       "      <td>...</td>\n",
       "      <td>...</td>\n",
       "      <td>...</td>\n",
       "    </tr>\n",
       "    <tr>\n",
       "      <th>394</th>\n",
       "      <td>img/54-17.png</td>\n",
       "      <td>0.218436</td>\n",
       "      <td>0.009453</td>\n",
       "    </tr>\n",
       "    <tr>\n",
       "      <th>395</th>\n",
       "      <td>img/9-1.png</td>\n",
       "      <td>0.224472</td>\n",
       "      <td>0.013481</td>\n",
       "    </tr>\n",
       "    <tr>\n",
       "      <th>396</th>\n",
       "      <td>img/W59-1.png</td>\n",
       "      <td>0.488963</td>\n",
       "      <td>0.019514</td>\n",
       "    </tr>\n",
       "    <tr>\n",
       "      <th>397</th>\n",
       "      <td>img/E34-3.png</td>\n",
       "      <td>0.152541</td>\n",
       "      <td>0.012658</td>\n",
       "    </tr>\n",
       "    <tr>\n",
       "      <th>398</th>\n",
       "      <td>img/31-0.png</td>\n",
       "      <td>0.036210</td>\n",
       "      <td>0.037065</td>\n",
       "    </tr>\n",
       "  </tbody>\n",
       "</table>\n",
       "<p>399 rows × 3 columns</p>\n",
       "</div>"
      ],
      "text/plain": [
       "                id  traslErr    rotErr\n",
       "0    img/32-G5.png  0.549900  0.049978\n",
       "1    img/32-G7.png  0.655930  0.048543\n",
       "2    img/32-G9.png  0.461634  0.035468\n",
       "3    img/32-D8.png  0.518458  0.041766\n",
       "4    img/W31-2.png  0.222666  0.017267\n",
       "..             ...       ...       ...\n",
       "394  img/54-17.png  0.218436  0.009453\n",
       "395    img/9-1.png  0.224472  0.013481\n",
       "396  img/W59-1.png  0.488963  0.019514\n",
       "397  img/E34-3.png  0.152541  0.012658\n",
       "398   img/31-0.png  0.036210  0.037065\n",
       "\n",
       "[399 rows x 3 columns]"
      ]
     },
     "execution_count": 4,
     "metadata": {},
     "output_type": "execute_result"
    }
   ],
   "source": [
    "df = pd.read_csv('data.csv')\n",
    "df['id'] = df['id'].apply(lambda id: os.path.join(IMG_PATH, id))\n",
    "df"
   ]
  },
  {
   "cell_type": "code",
   "execution_count": 5,
   "metadata": {},
   "outputs": [
    {
     "data": {
      "image/png": "[encoded data removed]",
      "text/plain": [
       "<Figure size 1000x480 with 2 Axes>"
      ]
     },
     "metadata": {},
     "output_type": "display_data"
    }
   ],
   "source": [
    "fig, ax = plt.subplots(1, 2)\n",
    "fig.set_figwidth(10)\n",
    "df['traslErr'].plot.hist(bins=40, title='Average traslational error', ax=ax[0])\n",
    "df['rotErr'].plot.hist(bins=40, title='Average rotational error', ax=ax[1])\n",
    "plt.show()"
   ]
  },
  {
   "cell_type": "markdown",
   "metadata": {},
   "source": [
    "#### Data rescaling"
   ]
  },
  {
   "cell_type": "code",
   "execution_count": 6,
   "metadata": {},
   "outputs": [
    {
     "data": {
      "text/html": [
       "<div>\n",
       "<style scoped>\n",
       "    .dataframe tbody tr th:only-of-type {\n",
       "        vertical-align: middle;\n",
       "    }\n",
       "\n",
       "    .dataframe tbody tr th {\n",
       "        vertical-align: top;\n",
       "    }\n",
       "\n",
       "    .dataframe thead th {\n",
       "        text-align: right;\n",
       "    }\n",
       "</style>\n",
       "<table border=\"1\" class=\"dataframe\">\n",
       "  <thead>\n",
       "    <tr style=\"text-align: right;\">\n",
       "      <th></th>\n",
       "      <th>id</th>\n",
       "      <th>traslErr</th>\n",
       "      <th>rotErr</th>\n",
       "    </tr>\n",
       "  </thead>\n",
       "  <tbody>\n",
       "    <tr>\n",
       "      <th>0</th>\n",
       "      <td>img/32-G5.png</td>\n",
       "      <td>0.266868</td>\n",
       "      <td>0.536063</td>\n",
       "    </tr>\n",
       "    <tr>\n",
       "      <th>1</th>\n",
       "      <td>img/32-G7.png</td>\n",
       "      <td>0.318330</td>\n",
       "      <td>0.520562</td>\n",
       "    </tr>\n",
       "    <tr>\n",
       "      <th>2</th>\n",
       "      <td>img/32-G9.png</td>\n",
       "      <td>0.224028</td>\n",
       "      <td>0.379322</td>\n",
       "    </tr>\n",
       "    <tr>\n",
       "      <th>3</th>\n",
       "      <td>img/32-D8.png</td>\n",
       "      <td>0.251607</td>\n",
       "      <td>0.447355</td>\n",
       "    </tr>\n",
       "    <tr>\n",
       "      <th>4</th>\n",
       "      <td>img/W31-2.png</td>\n",
       "      <td>0.108043</td>\n",
       "      <td>0.182710</td>\n",
       "    </tr>\n",
       "    <tr>\n",
       "      <th>...</th>\n",
       "      <td>...</td>\n",
       "      <td>...</td>\n",
       "      <td>...</td>\n",
       "    </tr>\n",
       "    <tr>\n",
       "      <th>394</th>\n",
       "      <td>img/54-17.png</td>\n",
       "      <td>0.105990</td>\n",
       "      <td>0.098301</td>\n",
       "    </tr>\n",
       "    <tr>\n",
       "      <th>395</th>\n",
       "      <td>img/9-1.png</td>\n",
       "      <td>0.108920</td>\n",
       "      <td>0.141812</td>\n",
       "    </tr>\n",
       "    <tr>\n",
       "      <th>396</th>\n",
       "      <td>img/W59-1.png</td>\n",
       "      <td>0.237292</td>\n",
       "      <td>0.206983</td>\n",
       "    </tr>\n",
       "    <tr>\n",
       "      <th>397</th>\n",
       "      <td>img/E34-3.png</td>\n",
       "      <td>0.074008</td>\n",
       "      <td>0.132922</td>\n",
       "    </tr>\n",
       "    <tr>\n",
       "      <th>398</th>\n",
       "      <td>img/31-0.png</td>\n",
       "      <td>0.017546</td>\n",
       "      <td>0.396574</td>\n",
       "    </tr>\n",
       "  </tbody>\n",
       "</table>\n",
       "<p>399 rows × 3 columns</p>\n",
       "</div>"
      ],
      "text/plain": [
       "                id  traslErr    rotErr\n",
       "0    img/32-G5.png  0.266868  0.536063\n",
       "1    img/32-G7.png  0.318330  0.520562\n",
       "2    img/32-G9.png  0.224028  0.379322\n",
       "3    img/32-D8.png  0.251607  0.447355\n",
       "4    img/W31-2.png  0.108043  0.182710\n",
       "..             ...       ...       ...\n",
       "394  img/54-17.png  0.105990  0.098301\n",
       "395    img/9-1.png  0.108920  0.141812\n",
       "396  img/W59-1.png  0.237292  0.206983\n",
       "397  img/E34-3.png  0.074008  0.132922\n",
       "398   img/31-0.png  0.017546  0.396574\n",
       "\n",
       "[399 rows x 3 columns]"
      ]
     },
     "execution_count": 6,
     "metadata": {},
     "output_type": "execute_result"
    }
   ],
   "source": [
    "rescaler_rot = sk.preprocessing.MinMaxScaler()\n",
    "rescaler_trasl = sk.preprocessing.MinMaxScaler()\n",
    "df['rotErr'] = rescaler_rot.fit_transform(df['rotErr'].values.reshape(-1,1)).squeeze()\n",
    "df['traslErr'] = rescaler_trasl.fit_transform(df['traslErr'].values.reshape(-1,1)).squeeze()\n",
    "df"
   ]
  },
  {
   "cell_type": "markdown",
   "metadata": {},
   "source": [
    "##### Data partitioning and dataset creation"
   ]
  },
  {
   "cell_type": "code",
   "execution_count": 7,
   "metadata": {},
   "outputs": [],
   "source": [
    "train_df, test_df = train_test_split(df, test_size=0.3, random_state=42)\n",
    "val_df, test_df = train_test_split(test_df, test_size=0.5, random_state=42)"
   ]
  },
  {
   "cell_type": "code",
   "execution_count": 25,
   "metadata": {},
   "outputs": [],
   "source": [
    "@tf.function(reduce_retracing=True)\n",
    "def load_image(record: dict):\n",
    "    image = tf.py_function(func=square_img, inp=[record[\"id\"]], Tout=tf.float32)\n",
    "    image = tf.convert_to_tensor(image, dtype=tf.float32)\n",
    "    return image, record[\"values\"]\n",
    "\n",
    "\n",
    "def load_dataset(df: pd.DataFrame) -> tf.data.Dataset:\n",
    "    X = df[\"id\"].values\n",
    "    Y = df[[\"traslErr\", \"rotErr\"]].values\n",
    "    dataset = tf.data.Dataset.from_tensor_slices({\"id\": X, \"values\": Y})\n",
    "    dataset = dataset.shuffle(5000)\n",
    "    dataset = dataset.map(load_image, num_parallel_calls=AUTO)\n",
    "    dataset = dataset.batch(\n",
    "        batch_size=BATCH_SIZE,\n",
    "        num_parallel_calls=AUTO,\n",
    "        deterministic=False,\n",
    "        drop_remainder=False,\n",
    "    )\n",
    "    dataset = dataset.prefetch(AUTO)\n",
    "    return dataset\n",
    "\n",
    "train_data = load_dataset(train_df)\n",
    "val_data = load_dataset(val_df)\n",
    "test_data = load_dataset(test_df)"
   ]
  },
  {
   "cell_type": "code",
   "execution_count": 26,
   "metadata": {},
   "outputs": [
    {
     "data": {
      "image/png": "[encoded data removed]",
      "text/plain": [
       "<Figure size 640x480 with 1 Axes>"
      ]
     },
     "metadata": {},
     "output_type": "display_data"
    }
   ],
   "source": [
    "for b in train_data.as_numpy_iterator():\n",
    "    for r in b:\n",
    "        r, l = b[0], b[1]\n",
    "        plt.imshow(r[0], cmap='gray')\n",
    "        plt.title(l[0])\n",
    "        plt.show()\n",
    "        break\n",
    "    break"
   ]
  },
  {
   "cell_type": "markdown",
   "metadata": {},
   "source": [
    "## Define the CNN structure"
   ]
  },
  {
   "cell_type": "code",
   "execution_count": 27,
   "metadata": {},
   "outputs": [],
   "source": [
    "def create_efficientNet_model(config):  # EfficientNetV2B3\n",
    "    w, h = (300,300)\n",
    "    resize = layers.Resizing(h, w, data_format='channels_last')\n",
    "    effNet = keras.applications.EfficientNetV2B3(include_top=False, input_shape=(w, h, 3) ,pooling='avg')\n",
    "    effNet.trainable = False\n",
    "\n",
    "    input = layers.Input(shape=(500,500,1))\n",
    "    x = resize(input)\n",
    "    x = effNet(x)\n",
    "    out = layers.Dense(2, 'sigmoid')(x)\n",
    "\n",
    "    model = keras.Model(input, out, name='effNetSlam')\n",
    "\n",
    "    model.compile(\n",
    "        optimizer='adam',\n",
    "        loss='mse'\n",
    "    )\n",
    "\n",
    "    return model\n",
    "\n",
    "\n",
    "model = create_efficientNet_model(None)"
   ]
  },
  {
   "cell_type": "code",
   "execution_count": 28,
   "metadata": {},
   "outputs": [
    {
     "name": "stdout",
     "output_type": "stream",
     "text": [
      "\u001b[1m2/2\u001b[0m \u001b[32m━━━━━━━━━━━━━━━━━━━━\u001b[0m\u001b[37m\u001b[0m \u001b[1m14s\u001b[0m 6s/step\n"
     ]
    },
    {
     "data": {
      "text/plain": [
       "array([[0.54508996, 0.5243262 ],\n",
       "       [0.54356915, 0.5224697 ],\n",
       "       [0.52942705, 0.5225498 ],\n",
       "       [0.5481267 , 0.524339  ],\n",
       "       [0.5480106 , 0.5235658 ],\n",
       "       [0.545102  , 0.525019  ],\n",
       "       [0.52758706, 0.5290708 ],\n",
       "       [0.53752327, 0.52308357],\n",
       "       [0.5442417 , 0.5244613 ],\n",
       "       [0.52599406, 0.5160372 ],\n",
       "       [0.5406443 , 0.5190417 ],\n",
       "       [0.54663646, 0.5238096 ],\n",
       "       [0.54554826, 0.5246734 ],\n",
       "       [0.54711205, 0.524616  ],\n",
       "       [0.54757816, 0.524216  ],\n",
       "       [0.547182  , 0.5250718 ],\n",
       "       [0.54883516, 0.5245114 ],\n",
       "       [0.5482816 , 0.524782  ],\n",
       "       [0.54880226, 0.5239344 ],\n",
       "       [0.547537  , 0.5246288 ],\n",
       "       [0.54925454, 0.5245702 ],\n",
       "       [0.5436268 , 0.50961053],\n",
       "       [0.5469516 , 0.52344835],\n",
       "       [0.5452977 , 0.52404815],\n",
       "       [0.5415282 , 0.52221334],\n",
       "       [0.5473437 , 0.5242936 ],\n",
       "       [0.54593146, 0.52432996],\n",
       "       [0.5461709 , 0.5246131 ],\n",
       "       [0.54731786, 0.52505314],\n",
       "       [0.54787457, 0.5240234 ],\n",
       "       [0.54453033, 0.521231  ],\n",
       "       [0.54571116, 0.5247655 ],\n",
       "       [0.54637384, 0.5249067 ],\n",
       "       [0.5402522 , 0.52382904],\n",
       "       [0.5480557 , 0.5245041 ],\n",
       "       [0.5467941 , 0.5225587 ],\n",
       "       [0.5455063 , 0.52457064],\n",
       "       [0.5476886 , 0.5247581 ],\n",
       "       [0.5437525 , 0.5231503 ],\n",
       "       [0.53967756, 0.5209634 ],\n",
       "       [0.54839075, 0.52479684],\n",
       "       [0.54580116, 0.52425885],\n",
       "       [0.5469441 , 0.524397  ],\n",
       "       [0.5483926 , 0.52452534],\n",
       "       [0.5458798 , 0.5235652 ],\n",
       "       [0.5453981 , 0.5244934 ],\n",
       "       [0.5461787 , 0.5251273 ],\n",
       "       [0.54763436, 0.52475446],\n",
       "       [0.52539665, 0.51381725],\n",
       "       [0.5437497 , 0.5225511 ],\n",
       "       [0.54264796, 0.5193115 ],\n",
       "       [0.54302627, 0.5226759 ],\n",
       "       [0.51738816, 0.51924026],\n",
       "       [0.54650027, 0.52508277],\n",
       "       [0.54283476, 0.52531916],\n",
       "       [0.5438043 , 0.52267605],\n",
       "       [0.54556805, 0.5233509 ],\n",
       "       [0.5443032 , 0.52448535],\n",
       "       [0.54659635, 0.5246547 ],\n",
       "       [0.5454988 , 0.524211  ]], dtype=float32)"
      ]
     },
     "execution_count": 28,
     "metadata": {},
     "output_type": "execute_result"
    }
   ],
   "source": [
    "model.predict(test_data, batch_size=BATCH_SIZE)"
   ]
  }
 ],
 "metadata": {
  "kernelspec": {
   "display_name": ".venv",
   "language": "python",
   "name": "python3"
  },
  "language_info": {
   "codemirror_mode": {
    "name": "ipython",
    "version": 3
   },
   "file_extension": ".py",
   "mimetype": "text/x-python",
   "name": "python",
   "nbconvert_exporter": "python",
   "pygments_lexer": "ipython3",
   "version": "3.11.0rc1"
  }
 },
 "nbformat": 4,
 "nbformat_minor": 2
}
