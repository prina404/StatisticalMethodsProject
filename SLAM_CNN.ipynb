{
 "cells": [
  {
   "cell_type": "markdown",
   "metadata": {},
   "source": [
    "## Imports and global parameters"
   ]
  },
  {
   "cell_type": "code",
   "execution_count": 2,
   "metadata": {},
   "outputs": [
    {
     "name": "stderr",
     "output_type": "stream",
     "text": [
      "2024-08-22 11:12:38.686442: I external/local_tsl/tsl/cuda/cudart_stub.cc:31] Could not find cuda drivers on your machine, GPU will not be used.\n",
      "2024-08-22 11:12:38.734009: E external/local_xla/xla/stream_executor/cuda/cuda_dnn.cc:9261] Unable to register cuDNN factory: Attempting to register factory for plugin cuDNN when one has already been registered\n",
      "2024-08-22 11:12:38.734044: E external/local_xla/xla/stream_executor/cuda/cuda_fft.cc:607] Unable to register cuFFT factory: Attempting to register factory for plugin cuFFT when one has already been registered\n",
      "2024-08-22 11:12:38.735270: E external/local_xla/xla/stream_executor/cuda/cuda_blas.cc:1515] Unable to register cuBLAS factory: Attempting to register factory for plugin cuBLAS when one has already been registered\n",
      "2024-08-22 11:12:38.744623: I external/local_tsl/tsl/cuda/cudart_stub.cc:31] Could not find cuda drivers on your machine, GPU will not be used.\n",
      "2024-08-22 11:12:38.745251: I tensorflow/core/platform/cpu_feature_guard.cc:182] This TensorFlow binary is optimized to use available CPU instructions in performance-critical operations.\n",
      "To enable the following instructions: AVX2 FMA, in other operations, rebuild TensorFlow with the appropriate compiler flags.\n",
      "2024-08-22 11:12:40.032074: W tensorflow/compiler/tf2tensorrt/utils/py_utils.cc:38] TF-TRT Warning: Could not find TensorRT\n"
     ]
    }
   ],
   "source": [
    "import tensorflow as tf\n",
    "import tensorflow_hub as hub\n",
    "import keras\n",
    "import optuna\n",
    "import numpy as np\n",
    "import sklearn as sk\n",
    "import matplotlib.pyplot as plt\n",
    "import pandas as pd\n",
    "import cv2 \n",
    "import os\n",
    "import sys\n",
    "import random\n",
    "import logging\n",
    "from sklearn.model_selection import train_test_split, KFold\n",
    "from keras import layers\n",
    "from optuna.visualization import plot_slice"
   ]
  },
  {
   "cell_type": "code",
   "execution_count": 3,
   "metadata": {},
   "outputs": [
    {
     "name": "stdout",
     "output_type": "stream",
     "text": [
      "[]\n"
     ]
    }
   ],
   "source": [
    "print(tf.config.list_physical_devices('GPU'))"
   ]
  },
  {
   "cell_type": "code",
   "execution_count": 4,
   "metadata": {},
   "outputs": [],
   "source": [
    "IMG_PATH = 'img/'\n",
    "AUTO = tf.data.AUTOTUNE\n",
    "BATCH_SIZE = 32\n",
    "IM_SHAPE = (500,500, 3)\n",
    "MAX_EPOCHS = 40\n",
    "MODEL_SELECTION_STEPS = 50\n",
    "\n",
    "BACKBONE_MODEL = 'efficientnet'"
   ]
  },
  {
   "cell_type": "markdown",
   "metadata": {},
   "source": [
    "## Image preprocessing"
   ]
  },
  {
   "cell_type": "markdown",
   "metadata": {},
   "source": [
    "Given any occupancy gridmap, the image is padded and rescaled in order to be a squared picture of size `IM_SHAPE`"
   ]
  },
  {
   "cell_type": "code",
   "execution_count": 5,
   "metadata": {},
   "outputs": [],
   "source": [
    "def square_img(imPath: tf.Tensor):\n",
    "    path = bytes.decode(imPath.numpy())\n",
    "    img = cv2.imread(path, cv2.IMREAD_GRAYSCALE)\n",
    "    h, w = img.shape\n",
    "    h_diff = 0 if h >= w else abs(h - w) // 2\n",
    "    w_diff = 0 if w >= h else abs(h - w) // 2\n",
    "    squared_img = cv2.copyMakeBorder(img, h_diff, h_diff, w_diff, w_diff, cv2.BORDER_CONSTANT, value=205)\n",
    "    pad = 25\n",
    "    squared_img = squared_img[pad:-pad, pad:-pad]   # partially remove the gray padding\n",
    "    square_img = cv2.resize(squared_img, IM_SHAPE[:-1], interpolation=cv2.INTER_LINEAR)\n",
    "    return cv2.cvtColor(square_img, cv2.COLOR_GRAY2RGB) / 255."
   ]
  },
  {
   "cell_type": "markdown",
   "metadata": {},
   "source": [
    "# Data preprocessing"
   ]
  },
  {
   "cell_type": "markdown",
   "metadata": {},
   "source": [
    "### Read csv files and create datasets"
   ]
  },
  {
   "cell_type": "code",
   "execution_count": 6,
   "metadata": {},
   "outputs": [
    {
     "data": {
      "text/html": [
       "<div>\n",
       "<style scoped>\n",
       "    .dataframe tbody tr th:only-of-type {\n",
       "        vertical-align: middle;\n",
       "    }\n",
       "\n",
       "    .dataframe tbody tr th {\n",
       "        vertical-align: top;\n",
       "    }\n",
       "\n",
       "    .dataframe thead th {\n",
       "        text-align: right;\n",
       "    }\n",
       "</style>\n",
       "<table border=\"1\" class=\"dataframe\">\n",
       "  <thead>\n",
       "    <tr style=\"text-align: right;\">\n",
       "      <th></th>\n",
       "      <th>id</th>\n",
       "      <th>translErr</th>\n",
       "      <th>rotErr</th>\n",
       "    </tr>\n",
       "  </thead>\n",
       "  <tbody>\n",
       "    <tr>\n",
       "      <th>0</th>\n",
       "      <td>img/32-G5.png</td>\n",
       "      <td>0.549900</td>\n",
       "      <td>0.049978</td>\n",
       "    </tr>\n",
       "    <tr>\n",
       "      <th>1</th>\n",
       "      <td>img/32-G7.png</td>\n",
       "      <td>0.655930</td>\n",
       "      <td>0.048543</td>\n",
       "    </tr>\n",
       "    <tr>\n",
       "      <th>2</th>\n",
       "      <td>img/32-G9.png</td>\n",
       "      <td>0.461634</td>\n",
       "      <td>0.035468</td>\n",
       "    </tr>\n",
       "    <tr>\n",
       "      <th>3</th>\n",
       "      <td>img/32-D8.png</td>\n",
       "      <td>0.518458</td>\n",
       "      <td>0.041766</td>\n",
       "    </tr>\n",
       "    <tr>\n",
       "      <th>4</th>\n",
       "      <td>img/W31-2.png</td>\n",
       "      <td>0.222666</td>\n",
       "      <td>0.017267</td>\n",
       "    </tr>\n",
       "  </tbody>\n",
       "</table>\n",
       "</div>"
      ],
      "text/plain": [
       "              id  translErr    rotErr\n",
       "0  img/32-G5.png   0.549900  0.049978\n",
       "1  img/32-G7.png   0.655930  0.048543\n",
       "2  img/32-G9.png   0.461634  0.035468\n",
       "3  img/32-D8.png   0.518458  0.041766\n",
       "4  img/W31-2.png   0.222666  0.017267"
      ]
     },
     "execution_count": 6,
     "metadata": {},
     "output_type": "execute_result"
    }
   ],
   "source": [
    "df = pd.read_csv('data.csv')\n",
    "df['id'] = df['id'].apply(lambda id: os.path.join(IMG_PATH, id))\n",
    "df.head()"
   ]
  },
  {
   "cell_type": "code",
   "execution_count": 10,
   "metadata": {},
   "outputs": [
    {
     "data": {
      "image/png": "[encoded data removed]",
      "text/plain": [
       "<Figure size 1000x480 with 2 Axes>"
      ]
     },
     "metadata": {},
     "output_type": "display_data"
    }
   ],
   "source": [
    "fig, ax = plt.subplots(1, 2)\n",
    "fig.set_figwidth(10)\n",
    "df['translErr'].plot.hist(bins=60, title='Average translational error', ax=ax[0])\n",
    "df['rotErr'].plot.hist(bins=40, title='Average rotational error', ax=ax[1])\n",
    "plt.show()"
   ]
  },
  {
   "cell_type": "markdown",
   "metadata": {},
   "source": [
    "#### Data rescaling"
   ]
  },
  {
   "cell_type": "code",
   "execution_count": 7,
   "metadata": {},
   "outputs": [
    {
     "data": {
      "text/html": [
       "<div>\n",
       "<style scoped>\n",
       "    .dataframe tbody tr th:only-of-type {\n",
       "        vertical-align: middle;\n",
       "    }\n",
       "\n",
       "    .dataframe tbody tr th {\n",
       "        vertical-align: top;\n",
       "    }\n",
       "\n",
       "    .dataframe thead th {\n",
       "        text-align: right;\n",
       "    }\n",
       "</style>\n",
       "<table border=\"1\" class=\"dataframe\">\n",
       "  <thead>\n",
       "    <tr style=\"text-align: right;\">\n",
       "      <th></th>\n",
       "      <th>id</th>\n",
       "      <th>translErr</th>\n",
       "      <th>rotErr</th>\n",
       "    </tr>\n",
       "  </thead>\n",
       "  <tbody>\n",
       "    <tr>\n",
       "      <th>0</th>\n",
       "      <td>img/32-G5.png</td>\n",
       "      <td>0.266868</td>\n",
       "      <td>0.536063</td>\n",
       "    </tr>\n",
       "    <tr>\n",
       "      <th>1</th>\n",
       "      <td>img/32-G7.png</td>\n",
       "      <td>0.318330</td>\n",
       "      <td>0.520562</td>\n",
       "    </tr>\n",
       "    <tr>\n",
       "      <th>2</th>\n",
       "      <td>img/32-G9.png</td>\n",
       "      <td>0.224028</td>\n",
       "      <td>0.379322</td>\n",
       "    </tr>\n",
       "    <tr>\n",
       "      <th>3</th>\n",
       "      <td>img/32-D8.png</td>\n",
       "      <td>0.251607</td>\n",
       "      <td>0.447355</td>\n",
       "    </tr>\n",
       "    <tr>\n",
       "      <th>4</th>\n",
       "      <td>img/W31-2.png</td>\n",
       "      <td>0.108043</td>\n",
       "      <td>0.182710</td>\n",
       "    </tr>\n",
       "  </tbody>\n",
       "</table>\n",
       "</div>"
      ],
      "text/plain": [
       "              id  translErr    rotErr\n",
       "0  img/32-G5.png   0.266868  0.536063\n",
       "1  img/32-G7.png   0.318330  0.520562\n",
       "2  img/32-G9.png   0.224028  0.379322\n",
       "3  img/32-D8.png   0.251607  0.447355\n",
       "4  img/W31-2.png   0.108043  0.182710"
      ]
     },
     "execution_count": 7,
     "metadata": {},
     "output_type": "execute_result"
    }
   ],
   "source": [
    "# TODO: ragiona bene su scaling dei dati\n",
    "rescaler_rot = sk.preprocessing.MinMaxScaler()\n",
    "rescaler_transl = sk.preprocessing.MinMaxScaler()\n",
    "df['rotErr'] = rescaler_rot.fit_transform(df['rotErr'].values.reshape(-1,1)).squeeze()\n",
    "df['translErr'] = rescaler_transl.fit_transform(df['translErr'].values.reshape(-1,1)).squeeze()\n",
    "df.head()"
   ]
  },
  {
   "cell_type": "markdown",
   "metadata": {},
   "source": [
    "##### Data partitioning and dataset creation"
   ]
  },
  {
   "cell_type": "code",
   "execution_count": 8,
   "metadata": {},
   "outputs": [],
   "source": [
    "train_df, test_df = train_test_split(df, test_size=0.3, random_state=42)\n",
    "val_df, test_df = train_test_split(test_df, test_size=0.5, random_state=42)"
   ]
  },
  {
   "cell_type": "code",
   "execution_count": 32,
   "metadata": {},
   "outputs": [],
   "source": [
    "@tf.function(reduce_retracing=True)\n",
    "def load_image(id: tf.Tensor):\n",
    "    image = tf.py_function(func=square_img, inp=[id], Tout=tf.float32)\n",
    "    image.set_shape(IM_SHAPE)\n",
    "    image = tf.convert_to_tensor(image, dtype=tf.float32)\n",
    "    return image\n",
    "\n",
    "def data_augmentation(img: np.ndarray):\n",
    "    rotation = random.randint(0, 3)\n",
    "    img = tf.image.rot90(img, k=rotation)\n",
    "    img = tf.image.random_flip_up_down(img)\n",
    "    img = tf.image.random_flip_left_right(img)\n",
    "    return img\n",
    "\n",
    "\n",
    "def load_dataset(df: pd.DataFrame, augment=False) -> tf.data.Dataset:\n",
    "    X = tf.data.Dataset.from_tensor_slices(df[\"id\"].values)\n",
    "    Y = tf.data.Dataset.from_tensor_slices(df[[\"translErr\", \"rotErr\"]].values)\n",
    "\n",
    "    X = X.map(load_image, num_parallel_calls=AUTO)\n",
    "    \n",
    "    if augment:\n",
    "        X = X.map(lambda img: data_augmentation(img), num_parallel_calls=AUTO)\n",
    "\n",
    "    dataset = tf.data.Dataset.zip(X, Y)\n",
    "    dataset = dataset.shuffle(500)\n",
    "    dataset = dataset.batch(\n",
    "        batch_size=BATCH_SIZE,\n",
    "        num_parallel_calls=AUTO,\n",
    "        deterministic=False,\n",
    "        drop_remainder=False,\n",
    "    )\n",
    "    dataset = dataset.prefetch(AUTO)\n",
    "    return dataset\n",
    "\n",
    "\n",
    "train_data = load_dataset(train_df, augment=True)\n",
    "val_data = load_dataset(val_df)\n",
    "test_data = load_dataset(test_df)"
   ]
  },
  {
   "cell_type": "code",
   "execution_count": 41,
   "metadata": {},
   "outputs": [
    {
     "data": {
      "text/plain": [
       "(<tf.Tensor: shape=(32, 500, 500, 3), dtype=float32, numpy=\n",
       " array([[[[0.8039216, 0.8039216, 0.8039216],\n",
       "          [0.8039216, 0.8039216, 0.8039216],\n",
       "          [0.8039216, 0.8039216, 0.8039216],\n",
       "          ...,\n",
       "          [0.8039216, 0.8039216, 0.8039216],\n",
       "          [0.8039216, 0.8039216, 0.8039216],\n",
       "          [0.8039216, 0.8039216, 0.8039216]],\n",
       " \n",
       "         [[0.8039216, 0.8039216, 0.8039216],\n",
       "          [0.8039216, 0.8039216, 0.8039216],\n",
       "          [0.8039216, 0.8039216, 0.8039216],\n",
       "          ...,\n",
       "          [0.8039216, 0.8039216, 0.8039216],\n",
       "          [0.8039216, 0.8039216, 0.8039216],\n",
       "          [0.8039216, 0.8039216, 0.8039216]],\n",
       " \n",
       "         [[0.8039216, 0.8039216, 0.8039216],\n",
       "          [0.8039216, 0.8039216, 0.8039216],\n",
       "          [0.8039216, 0.8039216, 0.8039216],\n",
       "          ...,\n",
       "          [0.8039216, 0.8039216, 0.8039216],\n",
       "          [0.8039216, 0.8039216, 0.8039216],\n",
       "          [0.8039216, 0.8039216, 0.8039216]],\n",
       " \n",
       "         ...,\n",
       " \n",
       "         [[0.8039216, 0.8039216, 0.8039216],\n",
       "          [0.8039216, 0.8039216, 0.8039216],\n",
       "          [0.8039216, 0.8039216, 0.8039216],\n",
       "          ...,\n",
       "          [0.8039216, 0.8039216, 0.8039216],\n",
       "          [0.8039216, 0.8039216, 0.8039216],\n",
       "          [0.8039216, 0.8039216, 0.8039216]],\n",
       " \n",
       "         [[0.8039216, 0.8039216, 0.8039216],\n",
       "          [0.8039216, 0.8039216, 0.8039216],\n",
       "          [0.8039216, 0.8039216, 0.8039216],\n",
       "          ...,\n",
       "          [0.8039216, 0.8039216, 0.8039216],\n",
       "          [0.8039216, 0.8039216, 0.8039216],\n",
       "          [0.8039216, 0.8039216, 0.8039216]],\n",
       " \n",
       "         [[0.8039216, 0.8039216, 0.8039216],\n",
       "          [0.8039216, 0.8039216, 0.8039216],\n",
       "          [0.8039216, 0.8039216, 0.8039216],\n",
       "          ...,\n",
       "          [0.8039216, 0.8039216, 0.8039216],\n",
       "          [0.8039216, 0.8039216, 0.8039216],\n",
       "          [0.8039216, 0.8039216, 0.8039216]]],\n",
       " \n",
       " \n",
       "        [[[0.8039216, 0.8039216, 0.8039216],\n",
       "          [0.8039216, 0.8039216, 0.8039216],\n",
       "          [0.8039216, 0.8039216, 0.8039216],\n",
       "          ...,\n",
       "          [0.8039216, 0.8039216, 0.8039216],\n",
       "          [0.8039216, 0.8039216, 0.8039216],\n",
       "          [0.8039216, 0.8039216, 0.8039216]],\n",
       " \n",
       "         [[0.8039216, 0.8039216, 0.8039216],\n",
       "          [0.8039216, 0.8039216, 0.8039216],\n",
       "          [0.8039216, 0.8039216, 0.8039216],\n",
       "          ...,\n",
       "          [0.8039216, 0.8039216, 0.8039216],\n",
       "          [0.8039216, 0.8039216, 0.8039216],\n",
       "          [0.8039216, 0.8039216, 0.8039216]],\n",
       " \n",
       "         [[0.8039216, 0.8039216, 0.8039216],\n",
       "          [0.8039216, 0.8039216, 0.8039216],\n",
       "          [0.8039216, 0.8039216, 0.8039216],\n",
       "          ...,\n",
       "          [0.8039216, 0.8039216, 0.8039216],\n",
       "          [0.8039216, 0.8039216, 0.8039216],\n",
       "          [0.8039216, 0.8039216, 0.8039216]],\n",
       " \n",
       "         ...,\n",
       " \n",
       "         [[0.8039216, 0.8039216, 0.8039216],\n",
       "          [0.8039216, 0.8039216, 0.8039216],\n",
       "          [0.8039216, 0.8039216, 0.8039216],\n",
       "          ...,\n",
       "          [0.8039216, 0.8039216, 0.8039216],\n",
       "          [0.8039216, 0.8039216, 0.8039216],\n",
       "          [0.8039216, 0.8039216, 0.8039216]],\n",
       " \n",
       "         [[0.8039216, 0.8039216, 0.8039216],\n",
       "          [0.8039216, 0.8039216, 0.8039216],\n",
       "          [0.8039216, 0.8039216, 0.8039216],\n",
       "          ...,\n",
       "          [0.8039216, 0.8039216, 0.8039216],\n",
       "          [0.8039216, 0.8039216, 0.8039216],\n",
       "          [0.8039216, 0.8039216, 0.8039216]],\n",
       " \n",
       "         [[0.8039216, 0.8039216, 0.8039216],\n",
       "          [0.8039216, 0.8039216, 0.8039216],\n",
       "          [0.8039216, 0.8039216, 0.8039216],\n",
       "          ...,\n",
       "          [0.8039216, 0.8039216, 0.8039216],\n",
       "          [0.8039216, 0.8039216, 0.8039216],\n",
       "          [0.8039216, 0.8039216, 0.8039216]]],\n",
       " \n",
       " \n",
       "        [[[0.8039216, 0.8039216, 0.8039216],\n",
       "          [0.8039216, 0.8039216, 0.8039216],\n",
       "          [0.8039216, 0.8039216, 0.8039216],\n",
       "          ...,\n",
       "          [0.8039216, 0.8039216, 0.8039216],\n",
       "          [0.8039216, 0.8039216, 0.8039216],\n",
       "          [0.8039216, 0.8039216, 0.8039216]],\n",
       " \n",
       "         [[0.8039216, 0.8039216, 0.8039216],\n",
       "          [0.8039216, 0.8039216, 0.8039216],\n",
       "          [0.8039216, 0.8039216, 0.8039216],\n",
       "          ...,\n",
       "          [0.8039216, 0.8039216, 0.8039216],\n",
       "          [0.8039216, 0.8039216, 0.8039216],\n",
       "          [0.8039216, 0.8039216, 0.8039216]],\n",
       " \n",
       "         [[0.8039216, 0.8039216, 0.8039216],\n",
       "          [0.8039216, 0.8039216, 0.8039216],\n",
       "          [0.8039216, 0.8039216, 0.8039216],\n",
       "          ...,\n",
       "          [0.8039216, 0.8039216, 0.8039216],\n",
       "          [0.8039216, 0.8039216, 0.8039216],\n",
       "          [0.8039216, 0.8039216, 0.8039216]],\n",
       " \n",
       "         ...,\n",
       " \n",
       "         [[0.8039216, 0.8039216, 0.8039216],\n",
       "          [0.8039216, 0.8039216, 0.8039216],\n",
       "          [0.8039216, 0.8039216, 0.8039216],\n",
       "          ...,\n",
       "          [0.8039216, 0.8039216, 0.8039216],\n",
       "          [0.8039216, 0.8039216, 0.8039216],\n",
       "          [0.8039216, 0.8039216, 0.8039216]],\n",
       " \n",
       "         [[0.8039216, 0.8039216, 0.8039216],\n",
       "          [0.8039216, 0.8039216, 0.8039216],\n",
       "          [0.8039216, 0.8039216, 0.8039216],\n",
       "          ...,\n",
       "          [0.8039216, 0.8039216, 0.8039216],\n",
       "          [0.8039216, 0.8039216, 0.8039216],\n",
       "          [0.8039216, 0.8039216, 0.8039216]],\n",
       " \n",
       "         [[0.8039216, 0.8039216, 0.8039216],\n",
       "          [0.8039216, 0.8039216, 0.8039216],\n",
       "          [0.8039216, 0.8039216, 0.8039216],\n",
       "          ...,\n",
       "          [0.8039216, 0.8039216, 0.8039216],\n",
       "          [0.8039216, 0.8039216, 0.8039216],\n",
       "          [0.8039216, 0.8039216, 0.8039216]]],\n",
       " \n",
       " \n",
       "        ...,\n",
       " \n",
       " \n",
       "        [[[0.8039216, 0.8039216, 0.8039216],\n",
       "          [0.8039216, 0.8039216, 0.8039216],\n",
       "          [0.8039216, 0.8039216, 0.8039216],\n",
       "          ...,\n",
       "          [0.8039216, 0.8039216, 0.8039216],\n",
       "          [0.8039216, 0.8039216, 0.8039216],\n",
       "          [0.8039216, 0.8039216, 0.8039216]],\n",
       " \n",
       "         [[0.8039216, 0.8039216, 0.8039216],\n",
       "          [0.8039216, 0.8039216, 0.8039216],\n",
       "          [0.8039216, 0.8039216, 0.8039216],\n",
       "          ...,\n",
       "          [0.8039216, 0.8039216, 0.8039216],\n",
       "          [0.8039216, 0.8039216, 0.8039216],\n",
       "          [0.8039216, 0.8039216, 0.8039216]],\n",
       " \n",
       "         [[0.8039216, 0.8039216, 0.8039216],\n",
       "          [0.8039216, 0.8039216, 0.8039216],\n",
       "          [0.8039216, 0.8039216, 0.8039216],\n",
       "          ...,\n",
       "          [0.8039216, 0.8039216, 0.8039216],\n",
       "          [0.8039216, 0.8039216, 0.8039216],\n",
       "          [0.8039216, 0.8039216, 0.8039216]],\n",
       " \n",
       "         ...,\n",
       " \n",
       "         [[0.8039216, 0.8039216, 0.8039216],\n",
       "          [0.8039216, 0.8039216, 0.8039216],\n",
       "          [0.8039216, 0.8039216, 0.8039216],\n",
       "          ...,\n",
       "          [0.8039216, 0.8039216, 0.8039216],\n",
       "          [0.8039216, 0.8039216, 0.8039216],\n",
       "          [0.8039216, 0.8039216, 0.8039216]],\n",
       " \n",
       "         [[0.8039216, 0.8039216, 0.8039216],\n",
       "          [0.8039216, 0.8039216, 0.8039216],\n",
       "          [0.8039216, 0.8039216, 0.8039216],\n",
       "          ...,\n",
       "          [0.8039216, 0.8039216, 0.8039216],\n",
       "          [0.8039216, 0.8039216, 0.8039216],\n",
       "          [0.8039216, 0.8039216, 0.8039216]],\n",
       " \n",
       "         [[0.8039216, 0.8039216, 0.8039216],\n",
       "          [0.8039216, 0.8039216, 0.8039216],\n",
       "          [0.8039216, 0.8039216, 0.8039216],\n",
       "          ...,\n",
       "          [0.8039216, 0.8039216, 0.8039216],\n",
       "          [0.8039216, 0.8039216, 0.8039216],\n",
       "          [0.8039216, 0.8039216, 0.8039216]]],\n",
       " \n",
       " \n",
       "        [[[0.8039216, 0.8039216, 0.8039216],\n",
       "          [0.8039216, 0.8039216, 0.8039216],\n",
       "          [0.8039216, 0.8039216, 0.8039216],\n",
       "          ...,\n",
       "          [0.8039216, 0.8039216, 0.8039216],\n",
       "          [0.8039216, 0.8039216, 0.8039216],\n",
       "          [0.8039216, 0.8039216, 0.8039216]],\n",
       " \n",
       "         [[0.8039216, 0.8039216, 0.8039216],\n",
       "          [0.8039216, 0.8039216, 0.8039216],\n",
       "          [0.8039216, 0.8039216, 0.8039216],\n",
       "          ...,\n",
       "          [0.8039216, 0.8039216, 0.8039216],\n",
       "          [0.8039216, 0.8039216, 0.8039216],\n",
       "          [0.8039216, 0.8039216, 0.8039216]],\n",
       " \n",
       "         [[0.8039216, 0.8039216, 0.8039216],\n",
       "          [0.8039216, 0.8039216, 0.8039216],\n",
       "          [0.8039216, 0.8039216, 0.8039216],\n",
       "          ...,\n",
       "          [0.8039216, 0.8039216, 0.8039216],\n",
       "          [0.8039216, 0.8039216, 0.8039216],\n",
       "          [0.8039216, 0.8039216, 0.8039216]],\n",
       " \n",
       "         ...,\n",
       " \n",
       "         [[0.8039216, 0.8039216, 0.8039216],\n",
       "          [0.8039216, 0.8039216, 0.8039216],\n",
       "          [0.8039216, 0.8039216, 0.8039216],\n",
       "          ...,\n",
       "          [0.8039216, 0.8039216, 0.8039216],\n",
       "          [0.8039216, 0.8039216, 0.8039216],\n",
       "          [0.8039216, 0.8039216, 0.8039216]],\n",
       " \n",
       "         [[0.8039216, 0.8039216, 0.8039216],\n",
       "          [0.8039216, 0.8039216, 0.8039216],\n",
       "          [0.8039216, 0.8039216, 0.8039216],\n",
       "          ...,\n",
       "          [0.8039216, 0.8039216, 0.8039216],\n",
       "          [0.8039216, 0.8039216, 0.8039216],\n",
       "          [0.8039216, 0.8039216, 0.8039216]],\n",
       " \n",
       "         [[0.8039216, 0.8039216, 0.8039216],\n",
       "          [0.8039216, 0.8039216, 0.8039216],\n",
       "          [0.8039216, 0.8039216, 0.8039216],\n",
       "          ...,\n",
       "          [0.8039216, 0.8039216, 0.8039216],\n",
       "          [0.8039216, 0.8039216, 0.8039216],\n",
       "          [0.8039216, 0.8039216, 0.8039216]]],\n",
       " \n",
       " \n",
       "        [[[0.8039216, 0.8039216, 0.8039216],\n",
       "          [0.8039216, 0.8039216, 0.8039216],\n",
       "          [0.8039216, 0.8039216, 0.8039216],\n",
       "          ...,\n",
       "          [0.8039216, 0.8039216, 0.8039216],\n",
       "          [0.8039216, 0.8039216, 0.8039216],\n",
       "          [0.8039216, 0.8039216, 0.8039216]],\n",
       " \n",
       "         [[0.8039216, 0.8039216, 0.8039216],\n",
       "          [0.8039216, 0.8039216, 0.8039216],\n",
       "          [0.8039216, 0.8039216, 0.8039216],\n",
       "          ...,\n",
       "          [0.8039216, 0.8039216, 0.8039216],\n",
       "          [0.8039216, 0.8039216, 0.8039216],\n",
       "          [0.8039216, 0.8039216, 0.8039216]],\n",
       " \n",
       "         [[0.8039216, 0.8039216, 0.8039216],\n",
       "          [0.8039216, 0.8039216, 0.8039216],\n",
       "          [0.8039216, 0.8039216, 0.8039216],\n",
       "          ...,\n",
       "          [0.8039216, 0.8039216, 0.8039216],\n",
       "          [0.8039216, 0.8039216, 0.8039216],\n",
       "          [0.8039216, 0.8039216, 0.8039216]],\n",
       " \n",
       "         ...,\n",
       " \n",
       "         [[0.8039216, 0.8039216, 0.8039216],\n",
       "          [0.8039216, 0.8039216, 0.8039216],\n",
       "          [0.8039216, 0.8039216, 0.8039216],\n",
       "          ...,\n",
       "          [0.8039216, 0.8039216, 0.8039216],\n",
       "          [0.8039216, 0.8039216, 0.8039216],\n",
       "          [0.8039216, 0.8039216, 0.8039216]],\n",
       " \n",
       "         [[0.8039216, 0.8039216, 0.8039216],\n",
       "          [0.8039216, 0.8039216, 0.8039216],\n",
       "          [0.8039216, 0.8039216, 0.8039216],\n",
       "          ...,\n",
       "          [0.8039216, 0.8039216, 0.8039216],\n",
       "          [0.8039216, 0.8039216, 0.8039216],\n",
       "          [0.8039216, 0.8039216, 0.8039216]],\n",
       " \n",
       "         [[0.8039216, 0.8039216, 0.8039216],\n",
       "          [0.8039216, 0.8039216, 0.8039216],\n",
       "          [0.8039216, 0.8039216, 0.8039216],\n",
       "          ...,\n",
       "          [0.8039216, 0.8039216, 0.8039216],\n",
       "          [0.8039216, 0.8039216, 0.8039216],\n",
       "          [0.8039216, 0.8039216, 0.8039216]]]], dtype=float32)>,\n",
       " <tf.Tensor: shape=(32, 2), dtype=float64, numpy=\n",
       " array([[0.10500697, 0.09202467],\n",
       "        [0.21337404, 0.14861785],\n",
       "        [0.17476554, 0.18720361],\n",
       "        [0.19250574, 0.24070733],\n",
       "        [0.13635845, 0.19115725],\n",
       "        [0.28501239, 0.05595584],\n",
       "        [0.26743964, 0.59907316],\n",
       "        [0.13402535, 0.16500492],\n",
       "        [0.34559728, 0.01123438],\n",
       "        [0.01202515, 0.36702926],\n",
       "        [0.04911061, 0.10405842],\n",
       "        [0.26240603, 0.0108887 ],\n",
       "        [0.84055808, 0.4130362 ],\n",
       "        [0.1877512 , 0.23149298],\n",
       "        [0.13505479, 0.20187312],\n",
       "        [0.17291585, 0.19963704],\n",
       "        [0.17152628, 0.14952524],\n",
       "        [0.2792988 , 0.16956348],\n",
       "        [0.38729749, 0.10278375],\n",
       "        [0.10570491, 0.10713707],\n",
       "        [0.22402758, 0.37932226],\n",
       "        [0.28792938, 0.00647057],\n",
       "        [0.37755739, 0.27274691],\n",
       "        [0.41468994, 0.34335065],\n",
       "        [0.39033824, 0.21234053],\n",
       "        [0.30972762, 1.        ],\n",
       "        [0.18917766, 0.22866279],\n",
       "        [0.01595458, 0.40355179],\n",
       "        [0.0129512 , 0.25035377],\n",
       "        [0.19953367, 0.4409385 ],\n",
       "        [0.97624432, 0.06199432],\n",
       "        [0.25999867, 0.16713297]])>)"
      ]
     },
     "execution_count": 41,
     "metadata": {},
     "output_type": "execute_result"
    }
   ],
   "source": [
    "train_data.take(1).get_single_element()"
   ]
  },
  {
   "cell_type": "code",
   "execution_count": 27,
   "metadata": {},
   "outputs": [
    {
     "data": {
      "image/png": "[encoded data removed]",
      "text/plain": [
       "<Figure size 640x480 with 1 Axes>"
      ]
     },
     "metadata": {},
     "output_type": "display_data"
    }
   ],
   "source": [
    "for r in val_data.take(1).as_numpy_iterator():\n",
    "    r, l = r[0], r[1]\n",
    "    plt.imshow(r[0], cmap='gray')\n",
    "    plt.title(l[0])\n",
    "    plt.show()\n",
    "    break"
   ]
  },
  {
   "cell_type": "code",
   "execution_count": 11,
   "metadata": {},
   "outputs": [],
   "source": [
    "def plot_history(hst: keras.callbacks.History):\n",
    "    metrics = [\"loss\"]\n",
    "    _, ax = plt.subplots(1, len(metrics), figsize=(15, 5))\n",
    "    for _, metric in enumerate(metrics):\n",
    "        ax.plot(hst.history[metric])\n",
    "        ax.plot(hst.history[\"val_\" + metric])\n",
    "        ax.set(title=\"model \" + metric, ylabel=metric, xlabel=\"epoch\")\n",
    "        ax.legend([metric, \"val_\" + metric], loc=\"upper left\")\n",
    "    plt.show()"
   ]
  },
  {
   "cell_type": "markdown",
   "metadata": {},
   "source": [
    "## Define the CNN structure"
   ]
  },
  {
   "cell_type": "code",
   "execution_count": 12,
   "metadata": {},
   "outputs": [],
   "source": [
    "def _build_efficientNet(input: layers.Layer):\n",
    "    w, h = (300, 300)\n",
    "    resize = layers.Resizing(h, w)\n",
    "    effNet = keras.applications.EfficientNetV2B3(include_top=False, input_shape=(w, h, 3), pooling=\"avg\")\n",
    "    effNet.trainable = False\n",
    "    x = resize(input)\n",
    "    return effNet(x)\n",
    "\n",
    "\n",
    "def _build_mobileNet(input: layers.Layer):\n",
    "    w, h = (224, 224)\n",
    "    resize = layers.Resizing(h, w)\n",
    "    mobNet = keras.applications.MobileNetV3Large(include_top=False, input_shape=(w, h, 3), pooling=\"avg\")\n",
    "    mobNet.trainable = False\n",
    "    x = resize(input)\n",
    "    return mobNet(x)\n",
    "\n",
    "\n",
    "def build_model(config: dict) -> keras.Model:  # EfficientNetV2B3\n",
    "    backbone_builder = {\n",
    "        \"efficientnet\": _build_efficientNet,\n",
    "        \"mobilenet\": _build_mobileNet,\n",
    "    }\n",
    "\n",
    "    backbone = backbone_builder[BACKBONE_MODEL]\n",
    "    input_layer = layers.Input(shape=IM_SHAPE)\n",
    "    x = backbone(input_layer)\n",
    "\n",
    "    for i in range(config[\"nLayers\"]):\n",
    "        x = layers.Dense(units=config[f\"layer{i}_units\"], name=f\"dense_{i}\")(x)\n",
    "        if config[\"batchNorm\"]:\n",
    "            x = layers.BatchNormalization()(x)\n",
    "\n",
    "        x = layers.Activation(\"relu\")(x)\n",
    "\n",
    "        if config[\"dropout\"]:\n",
    "            x = layers.Dropout(0.3)(x)\n",
    "\n",
    "    out = layers.Dense(2, \"sigmoid\", name=\"out_layer\")(x)\n",
    "\n",
    "    model = keras.Model(input_layer, out, name=f\"{BACKBONE_MODEL}_model\")\n",
    "\n",
    "    model.compile(\n",
    "        optimizer=keras.optimizers.Adam(learning_rate=config[\"lr\"]), loss=\"mse\"\n",
    "    )\n",
    "    return model"
   ]
  },
  {
   "cell_type": "code",
   "execution_count": null,
   "metadata": {},
   "outputs": [],
   "source": [
    "baselineHyperparameters = {\n",
    "    \"lr\": 1e-4,\n",
    "    \"nLayers\": 3,\n",
    "    \"batchNorm\": False,\n",
    "    \"dropout\": True,\n",
    "    \"layer0_units\": 1024,\n",
    "    \"layer1_units\": 512,\n",
    "    \"layer2_units\": 128,\n",
    "}\n",
    "m = build_model(baselineHyperparameters)\n",
    "\n",
    "# Sanity check to verify that dataset and model have been built correctly\n",
    "m.fit(train_data, batch_size=BATCH_SIZE, epochs=1, validation_data=val_data)"
   ]
  },
  {
   "cell_type": "markdown",
   "metadata": {},
   "source": [
    "### Hyperparameter tuning"
   ]
  },
  {
   "cell_type": "code",
   "execution_count": 28,
   "metadata": {},
   "outputs": [],
   "source": [
    "def objective(trial: optuna.Trial) -> float:\n",
    "    best_val_loss = np.inf\n",
    "    patience = 0\n",
    "    config = {\n",
    "        \"lr\": trial.suggest_float(\"lr\", 1e-6, 1e-3, log=True),\n",
    "        \"nLayers\": trial.suggest_int(\"nLayers\", 1, 7),\n",
    "        \"batchNorm\": trial.suggest_categorical(\"batchNorm\", [True, False]),\n",
    "        \"dropout\": trial.suggest_categorical(\"dropout\", [True, False]),\n",
    "    }\n",
    "    for i in range(config[\"nLayers\"]):\n",
    "        config[f\"layer{i}_units\"] = trial.suggest_categorical(\n",
    "            f\"layer{i}_units\", [64, 128, 256, 512, 1024]\n",
    "        )\n",
    "\n",
    "    model = build_model(config)\n",
    "\n",
    "    for train_step in range(MAX_EPOCHS):\n",
    "        history = model.fit(train_data, batch_size=BATCH_SIZE, validation_data=val_data)\n",
    "        val_loss = history.history[\"val_loss\"][0]\n",
    "        # Implement earlystopping\n",
    "        if val_loss < best_val_loss:\n",
    "            best_val_loss = val_loss\n",
    "            patience = 0\n",
    "        else:\n",
    "            patience += 1\n",
    "\n",
    "        if patience > 5:\n",
    "            break\n",
    "\n",
    "        trial.report(val_loss, train_step)\n",
    "        if trial.should_prune():\n",
    "            raise optuna.TrialPruned()\n",
    "\n",
    "    return best_val_loss"
   ]
  },
  {
   "cell_type": "code",
   "execution_count": 31,
   "metadata": {},
   "outputs": [],
   "source": [
    "def kFoldCV(hyperPar: dict, training_set: pd.DataFrame, k: int) -> float:\n",
    "    df = training_set.reset_index(drop=True)\n",
    "    kf = KFold(n_splits=k, shuffle=True)\n",
    "    scores = []\n",
    "    for trainIdx, valIdx in kf.split(df):\n",
    "        train_data = load_dataset(df.iloc[trainIdx], augment=True)\n",
    "        val_data = load_dataset(df.iloc[valIdx])\n",
    "\n",
    "        model = build_model(hyperPar)\n",
    "        es = keras.callbacks.EarlyStopping(patience=5, restore_best_weights=True)\n",
    "        model.fit(train_data, \n",
    "                  batch_size=BATCH_SIZE,\n",
    "                  validation_data=val_data,\n",
    "                  epochs=MAX_EPOCHS,\n",
    "                  callbacks=[es]\n",
    "                  )\n",
    "        \n",
    "        result = model.evaluate(val_data, batch_size=BATCH_SIZE)\n",
    "        scores.append(result)\n",
    "    return np.avg(scores)   # TODO: magari ritorna tutto l'array così calcoli varianza sui fold?"
   ]
  },
  {
   "cell_type": "markdown",
   "metadata": {},
   "source": [
    "#### Optimize EfficientNetV2"
   ]
  },
  {
   "cell_type": "code",
   "execution_count": null,
   "metadata": {},
   "outputs": [],
   "source": [
    "optuna.logging.get_logger(\"optuna\").addHandler(logging.StreamHandler(sys.stdout))\n",
    "study = optuna.create_study(\n",
    "    direction=\"minimize\",\n",
    "    sampler=optuna.samplers.TPESampler(),\n",
    "    pruner=optuna.pruners.HyperbandPruner(),\n",
    "    study_name='efficientNet_study'\n",
    ")\n",
    "\n",
    "study.enqueue_trial(baselineHyperparameters)    # Test on baseline parameters first and optimize from there\n",
    "study.optimize(objective, n_trials=MODEL_SELECTION_STEPS, gc_after_trial=True)"
   ]
  },
  {
   "cell_type": "code",
   "execution_count": 15,
   "metadata": {},
   "outputs": [
    {
     "data": {
      "application/vnd.plotly.v1+json": {
       "config": {
        "plotlyServerURL": "https://plot.ly"
       },
       "data": [
        {
         "marker": {
          "color": [
           0
          ],
          "colorbar": {
           "title": {
            "text": "Trial"
           },
           "x": 1,
           "xpad": 40
          },
          "colorscale": [
           [
            0,
            "rgb(247,251,255)"
           ],
           [
            0.125,
            "rgb(222,235,247)"
           ],
           [
            0.25,
            "rgb(198,219,239)"
           ],
           [
            0.375,
            "rgb(158,202,225)"
           ],
           [
            0.5,
            "rgb(107,174,214)"
           ],
           [
            0.625,
            "rgb(66,146,198)"
           ],
           [
            0.75,
            "rgb(33,113,181)"
           ],
           [
            0.875,
            "rgb(8,81,156)"
           ],
           [
            1,
            "rgb(8,48,107)"
           ]
          ],
          "line": {
           "color": "Grey",
           "width": 0.5
          },
          "showscale": true
         },
         "mode": "markers",
         "name": "Feasible Trial",
         "showlegend": false,
         "type": "scatter",
         "x": [
          true
         ],
         "xaxis": "x",
         "y": [
          0.018668627366423607
         ],
         "yaxis": "y"
        },
        {
         "marker": {
          "color": [
           0
          ],
          "colorbar": {
           "title": {
            "text": "Trial"
           },
           "x": 1,
           "xpad": 40
          },
          "colorscale": [
           [
            0,
            "rgb(247,251,255)"
           ],
           [
            0.125,
            "rgb(222,235,247)"
           ],
           [
            0.25,
            "rgb(198,219,239)"
           ],
           [
            0.375,
            "rgb(158,202,225)"
           ],
           [
            0.5,
            "rgb(107,174,214)"
           ],
           [
            0.625,
            "rgb(66,146,198)"
           ],
           [
            0.75,
            "rgb(33,113,181)"
           ],
           [
            0.875,
            "rgb(8,81,156)"
           ],
           [
            1,
            "rgb(8,48,107)"
           ]
          ],
          "line": {
           "color": "Grey",
           "width": 0.5
          },
          "showscale": false
         },
         "mode": "markers",
         "name": "Feasible Trial",
         "showlegend": false,
         "type": "scatter",
         "x": [
          false
         ],
         "xaxis": "x2",
         "y": [
          0.018668627366423607
         ],
         "yaxis": "y2"
        },
        {
         "marker": {
          "color": [
           0
          ],
          "colorbar": {
           "title": {
            "text": "Trial"
           },
           "x": 1,
           "xpad": 40
          },
          "colorscale": [
           [
            0,
            "rgb(247,251,255)"
           ],
           [
            0.125,
            "rgb(222,235,247)"
           ],
           [
            0.25,
            "rgb(198,219,239)"
           ],
           [
            0.375,
            "rgb(158,202,225)"
           ],
           [
            0.5,
            "rgb(107,174,214)"
           ],
           [
            0.625,
            "rgb(66,146,198)"
           ],
           [
            0.75,
            "rgb(33,113,181)"
           ],
           [
            0.875,
            "rgb(8,81,156)"
           ],
           [
            1,
            "rgb(8,48,107)"
           ]
          ],
          "line": {
           "color": "Grey",
           "width": 0.5
          },
          "showscale": false
         },
         "mode": "markers",
         "name": "Feasible Trial",
         "showlegend": false,
         "type": "scatter",
         "x": [
          896
         ],
         "xaxis": "x3",
         "y": [
          0.018668627366423607
         ],
         "yaxis": "y3"
        },
        {
         "marker": {
          "color": [
           0
          ],
          "colorbar": {
           "title": {
            "text": "Trial"
           },
           "x": 1,
           "xpad": 40
          },
          "colorscale": [
           [
            0,
            "rgb(247,251,255)"
           ],
           [
            0.125,
            "rgb(222,235,247)"
           ],
           [
            0.25,
            "rgb(198,219,239)"
           ],
           [
            0.375,
            "rgb(158,202,225)"
           ],
           [
            0.5,
            "rgb(107,174,214)"
           ],
           [
            0.625,
            "rgb(66,146,198)"
           ],
           [
            0.75,
            "rgb(33,113,181)"
           ],
           [
            0.875,
            "rgb(8,81,156)"
           ],
           [
            1,
            "rgb(8,48,107)"
           ]
          ],
          "line": {
           "color": "Grey",
           "width": 0.5
          },
          "showscale": false
         },
         "mode": "markers",
         "name": "Feasible Trial",
         "showlegend": false,
         "type": "scatter",
         "x": [
          896
         ],
         "xaxis": "x4",
         "y": [
          0.018668627366423607
         ],
         "yaxis": "y4"
        },
        {
         "marker": {
          "color": [
           0
          ],
          "colorbar": {
           "title": {
            "text": "Trial"
           },
           "x": 1,
           "xpad": 40
          },
          "colorscale": [
           [
            0,
            "rgb(247,251,255)"
           ],
           [
            0.125,
            "rgb(222,235,247)"
           ],
           [
            0.25,
            "rgb(198,219,239)"
           ],
           [
            0.375,
            "rgb(158,202,225)"
           ],
           [
            0.5,
            "rgb(107,174,214)"
           ],
           [
            0.625,
            "rgb(66,146,198)"
           ],
           [
            0.75,
            "rgb(33,113,181)"
           ],
           [
            0.875,
            "rgb(8,81,156)"
           ],
           [
            1,
            "rgb(8,48,107)"
           ]
          ],
          "line": {
           "color": "Grey",
           "width": 0.5
          },
          "showscale": false
         },
         "mode": "markers",
         "name": "Feasible Trial",
         "showlegend": false,
         "type": "scatter",
         "x": [
          192
         ],
         "xaxis": "x5",
         "y": [
          0.018668627366423607
         ],
         "yaxis": "y5"
        },
        {
         "marker": {
          "color": [
           0
          ],
          "colorbar": {
           "title": {
            "text": "Trial"
           },
           "x": 1,
           "xpad": 40
          },
          "colorscale": [
           [
            0,
            "rgb(247,251,255)"
           ],
           [
            0.125,
            "rgb(222,235,247)"
           ],
           [
            0.25,
            "rgb(198,219,239)"
           ],
           [
            0.375,
            "rgb(158,202,225)"
           ],
           [
            0.5,
            "rgb(107,174,214)"
           ],
           [
            0.625,
            "rgb(66,146,198)"
           ],
           [
            0.75,
            "rgb(33,113,181)"
           ],
           [
            0.875,
            "rgb(8,81,156)"
           ],
           [
            1,
            "rgb(8,48,107)"
           ]
          ],
          "line": {
           "color": "Grey",
           "width": 0.5
          },
          "showscale": false
         },
         "mode": "markers",
         "name": "Feasible Trial",
         "showlegend": false,
         "type": "scatter",
         "x": [
          0.00013819486436156665
         ],
         "xaxis": "x6",
         "y": [
          0.018668627366423607
         ],
         "yaxis": "y6"
        },
        {
         "marker": {
          "color": [
           0
          ],
          "colorbar": {
           "title": {
            "text": "Trial"
           },
           "x": 1,
           "xpad": 40
          },
          "colorscale": [
           [
            0,
            "rgb(247,251,255)"
           ],
           [
            0.125,
            "rgb(222,235,247)"
           ],
           [
            0.25,
            "rgb(198,219,239)"
           ],
           [
            0.375,
            "rgb(158,202,225)"
           ],
           [
            0.5,
            "rgb(107,174,214)"
           ],
           [
            0.625,
            "rgb(66,146,198)"
           ],
           [
            0.75,
            "rgb(33,113,181)"
           ],
           [
            0.875,
            "rgb(8,81,156)"
           ],
           [
            1,
            "rgb(8,48,107)"
           ]
          ],
          "line": {
           "color": "Grey",
           "width": 0.5
          },
          "showscale": false
         },
         "mode": "markers",
         "name": "Feasible Trial",
         "showlegend": false,
         "type": "scatter",
         "x": [
          3
         ],
         "xaxis": "x7",
         "y": [
          0.018668627366423607
         ],
         "yaxis": "y7"
        }
       ],
       "layout": {
        "template": {
         "data": {
          "bar": [
           {
            "error_x": {
             "color": "#2a3f5f"
            },
            "error_y": {
             "color": "#2a3f5f"
            },
            "marker": {
             "line": {
              "color": "#E5ECF6",
              "width": 0.5
             },
             "pattern": {
              "fillmode": "overlay",
              "size": 10,
              "solidity": 0.2
             }
            },
            "type": "bar"
           }
          ],
          "barpolar": [
           {
            "marker": {
             "line": {
              "color": "#E5ECF6",
              "width": 0.5
             },
             "pattern": {
              "fillmode": "overlay",
              "size": 10,
              "solidity": 0.2
             }
            },
            "type": "barpolar"
           }
          ],
          "carpet": [
           {
            "aaxis": {
             "endlinecolor": "#2a3f5f",
             "gridcolor": "white",
             "linecolor": "white",
             "minorgridcolor": "white",
             "startlinecolor": "#2a3f5f"
            },
            "baxis": {
             "endlinecolor": "#2a3f5f",
             "gridcolor": "white",
             "linecolor": "white",
             "minorgridcolor": "white",
             "startlinecolor": "#2a3f5f"
            },
            "type": "carpet"
           }
          ],
          "choropleth": [
           {
            "colorbar": {
             "outlinewidth": 0,
             "ticks": ""
            },
            "type": "choropleth"
           }
          ],
          "contour": [
           {
            "colorbar": {
             "outlinewidth": 0,
             "ticks": ""
            },
            "colorscale": [
             [
              0,
              "#0d0887"
             ],
             [
              0.1111111111111111,
              "#46039f"
             ],
             [
              0.2222222222222222,
              "#7201a8"
             ],
             [
              0.3333333333333333,
              "#9c179e"
             ],
             [
              0.4444444444444444,
              "#bd3786"
             ],
             [
              0.5555555555555556,
              "#d8576b"
             ],
             [
              0.6666666666666666,
              "#ed7953"
             ],
             [
              0.7777777777777778,
              "#fb9f3a"
             ],
             [
              0.8888888888888888,
              "#fdca26"
             ],
             [
              1,
              "#f0f921"
             ]
            ],
            "type": "contour"
           }
          ],
          "contourcarpet": [
           {
            "colorbar": {
             "outlinewidth": 0,
             "ticks": ""
            },
            "type": "contourcarpet"
           }
          ],
          "heatmap": [
           {
            "colorbar": {
             "outlinewidth": 0,
             "ticks": ""
            },
            "colorscale": [
             [
              0,
              "#0d0887"
             ],
             [
              0.1111111111111111,
              "#46039f"
             ],
             [
              0.2222222222222222,
              "#7201a8"
             ],
             [
              0.3333333333333333,
              "#9c179e"
             ],
             [
              0.4444444444444444,
              "#bd3786"
             ],
             [
              0.5555555555555556,
              "#d8576b"
             ],
             [
              0.6666666666666666,
              "#ed7953"
             ],
             [
              0.7777777777777778,
              "#fb9f3a"
             ],
             [
              0.8888888888888888,
              "#fdca26"
             ],
             [
              1,
              "#f0f921"
             ]
            ],
            "type": "heatmap"
           }
          ],
          "heatmapgl": [
           {
            "colorbar": {
             "outlinewidth": 0,
             "ticks": ""
            },
            "colorscale": [
             [
              0,
              "#0d0887"
             ],
             [
              0.1111111111111111,
              "#46039f"
             ],
             [
              0.2222222222222222,
              "#7201a8"
             ],
             [
              0.3333333333333333,
              "#9c179e"
             ],
             [
              0.4444444444444444,
              "#bd3786"
             ],
             [
              0.5555555555555556,
              "#d8576b"
             ],
             [
              0.6666666666666666,
              "#ed7953"
             ],
             [
              0.7777777777777778,
              "#fb9f3a"
             ],
             [
              0.8888888888888888,
              "#fdca26"
             ],
             [
              1,
              "#f0f921"
             ]
            ],
            "type": "heatmapgl"
           }
          ],
          "histogram": [
           {
            "marker": {
             "pattern": {
              "fillmode": "overlay",
              "size": 10,
              "solidity": 0.2
             }
            },
            "type": "histogram"
           }
          ],
          "histogram2d": [
           {
            "colorbar": {
             "outlinewidth": 0,
             "ticks": ""
            },
            "colorscale": [
             [
              0,
              "#0d0887"
             ],
             [
              0.1111111111111111,
              "#46039f"
             ],
             [
              0.2222222222222222,
              "#7201a8"
             ],
             [
              0.3333333333333333,
              "#9c179e"
             ],
             [
              0.4444444444444444,
              "#bd3786"
             ],
             [
              0.5555555555555556,
              "#d8576b"
             ],
             [
              0.6666666666666666,
              "#ed7953"
             ],
             [
              0.7777777777777778,
              "#fb9f3a"
             ],
             [
              0.8888888888888888,
              "#fdca26"
             ],
             [
              1,
              "#f0f921"
             ]
            ],
            "type": "histogram2d"
           }
          ],
          "histogram2dcontour": [
           {
            "colorbar": {
             "outlinewidth": 0,
             "ticks": ""
            },
            "colorscale": [
             [
              0,
              "#0d0887"
             ],
             [
              0.1111111111111111,
              "#46039f"
             ],
             [
              0.2222222222222222,
              "#7201a8"
             ],
             [
              0.3333333333333333,
              "#9c179e"
             ],
             [
              0.4444444444444444,
              "#bd3786"
             ],
             [
              0.5555555555555556,
              "#d8576b"
             ],
             [
              0.6666666666666666,
              "#ed7953"
             ],
             [
              0.7777777777777778,
              "#fb9f3a"
             ],
             [
              0.8888888888888888,
              "#fdca26"
             ],
             [
              1,
              "#f0f921"
             ]
            ],
            "type": "histogram2dcontour"
           }
          ],
          "mesh3d": [
           {
            "colorbar": {
             "outlinewidth": 0,
             "ticks": ""
            },
            "type": "mesh3d"
           }
          ],
          "parcoords": [
           {
            "line": {
             "colorbar": {
              "outlinewidth": 0,
              "ticks": ""
             }
            },
            "type": "parcoords"
           }
          ],
          "pie": [
           {
            "automargin": true,
            "type": "pie"
           }
          ],
          "scatter": [
           {
            "fillpattern": {
             "fillmode": "overlay",
             "size": 10,
             "solidity": 0.2
            },
            "type": "scatter"
           }
          ],
          "scatter3d": [
           {
            "line": {
             "colorbar": {
              "outlinewidth": 0,
              "ticks": ""
             }
            },
            "marker": {
             "colorbar": {
              "outlinewidth": 0,
              "ticks": ""
             }
            },
            "type": "scatter3d"
           }
          ],
          "scattercarpet": [
           {
            "marker": {
             "colorbar": {
              "outlinewidth": 0,
              "ticks": ""
             }
            },
            "type": "scattercarpet"
           }
          ],
          "scattergeo": [
           {
            "marker": {
             "colorbar": {
              "outlinewidth": 0,
              "ticks": ""
             }
            },
            "type": "scattergeo"
           }
          ],
          "scattergl": [
           {
            "marker": {
             "colorbar": {
              "outlinewidth": 0,
              "ticks": ""
             }
            },
            "type": "scattergl"
           }
          ],
          "scattermapbox": [
           {
            "marker": {
             "colorbar": {
              "outlinewidth": 0,
              "ticks": ""
             }
            },
            "type": "scattermapbox"
           }
          ],
          "scatterpolar": [
           {
            "marker": {
             "colorbar": {
              "outlinewidth": 0,
              "ticks": ""
             }
            },
            "type": "scatterpolar"
           }
          ],
          "scatterpolargl": [
           {
            "marker": {
             "colorbar": {
              "outlinewidth": 0,
              "ticks": ""
             }
            },
            "type": "scatterpolargl"
           }
          ],
          "scatterternary": [
           {
            "marker": {
             "colorbar": {
              "outlinewidth": 0,
              "ticks": ""
             }
            },
            "type": "scatterternary"
           }
          ],
          "surface": [
           {
            "colorbar": {
             "outlinewidth": 0,
             "ticks": ""
            },
            "colorscale": [
             [
              0,
              "#0d0887"
             ],
             [
              0.1111111111111111,
              "#46039f"
             ],
             [
              0.2222222222222222,
              "#7201a8"
             ],
             [
              0.3333333333333333,
              "#9c179e"
             ],
             [
              0.4444444444444444,
              "#bd3786"
             ],
             [
              0.5555555555555556,
              "#d8576b"
             ],
             [
              0.6666666666666666,
              "#ed7953"
             ],
             [
              0.7777777777777778,
              "#fb9f3a"
             ],
             [
              0.8888888888888888,
              "#fdca26"
             ],
             [
              1,
              "#f0f921"
             ]
            ],
            "type": "surface"
           }
          ],
          "table": [
           {
            "cells": {
             "fill": {
              "color": "#EBF0F8"
             },
             "line": {
              "color": "white"
             }
            },
            "header": {
             "fill": {
              "color": "#C8D4E3"
             },
             "line": {
              "color": "white"
             }
            },
            "type": "table"
           }
          ]
         },
         "layout": {
          "annotationdefaults": {
           "arrowcolor": "#2a3f5f",
           "arrowhead": 0,
           "arrowwidth": 1
          },
          "autotypenumbers": "strict",
          "coloraxis": {
           "colorbar": {
            "outlinewidth": 0,
            "ticks": ""
           }
          },
          "colorscale": {
           "diverging": [
            [
             0,
             "#8e0152"
            ],
            [
             0.1,
             "#c51b7d"
            ],
            [
             0.2,
             "#de77ae"
            ],
            [
             0.3,
             "#f1b6da"
            ],
            [
             0.4,
             "#fde0ef"
            ],
            [
             0.5,
             "#f7f7f7"
            ],
            [
             0.6,
             "#e6f5d0"
            ],
            [
             0.7,
             "#b8e186"
            ],
            [
             0.8,
             "#7fbc41"
            ],
            [
             0.9,
             "#4d9221"
            ],
            [
             1,
             "#276419"
            ]
           ],
           "sequential": [
            [
             0,
             "#0d0887"
            ],
            [
             0.1111111111111111,
             "#46039f"
            ],
            [
             0.2222222222222222,
             "#7201a8"
            ],
            [
             0.3333333333333333,
             "#9c179e"
            ],
            [
             0.4444444444444444,
             "#bd3786"
            ],
            [
             0.5555555555555556,
             "#d8576b"
            ],
            [
             0.6666666666666666,
             "#ed7953"
            ],
            [
             0.7777777777777778,
             "#fb9f3a"
            ],
            [
             0.8888888888888888,
             "#fdca26"
            ],
            [
             1,
             "#f0f921"
            ]
           ],
           "sequentialminus": [
            [
             0,
             "#0d0887"
            ],
            [
             0.1111111111111111,
             "#46039f"
            ],
            [
             0.2222222222222222,
             "#7201a8"
            ],
            [
             0.3333333333333333,
             "#9c179e"
            ],
            [
             0.4444444444444444,
             "#bd3786"
            ],
            [
             0.5555555555555556,
             "#d8576b"
            ],
            [
             0.6666666666666666,
             "#ed7953"
            ],
            [
             0.7777777777777778,
             "#fb9f3a"
            ],
            [
             0.8888888888888888,
             "#fdca26"
            ],
            [
             1,
             "#f0f921"
            ]
           ]
          },
          "colorway": [
           "#636efa",
           "#EF553B",
           "#00cc96",
           "#ab63fa",
           "#FFA15A",
           "#19d3f3",
           "#FF6692",
           "#B6E880",
           "#FF97FF",
           "#FECB52"
          ],
          "font": {
           "color": "#2a3f5f"
          },
          "geo": {
           "bgcolor": "white",
           "lakecolor": "white",
           "landcolor": "#E5ECF6",
           "showlakes": true,
           "showland": true,
           "subunitcolor": "white"
          },
          "hoverlabel": {
           "align": "left"
          },
          "hovermode": "closest",
          "mapbox": {
           "style": "light"
          },
          "paper_bgcolor": "white",
          "plot_bgcolor": "#E5ECF6",
          "polar": {
           "angularaxis": {
            "gridcolor": "white",
            "linecolor": "white",
            "ticks": ""
           },
           "bgcolor": "#E5ECF6",
           "radialaxis": {
            "gridcolor": "white",
            "linecolor": "white",
            "ticks": ""
           }
          },
          "scene": {
           "xaxis": {
            "backgroundcolor": "#E5ECF6",
            "gridcolor": "white",
            "gridwidth": 2,
            "linecolor": "white",
            "showbackground": true,
            "ticks": "",
            "zerolinecolor": "white"
           },
           "yaxis": {
            "backgroundcolor": "#E5ECF6",
            "gridcolor": "white",
            "gridwidth": 2,
            "linecolor": "white",
            "showbackground": true,
            "ticks": "",
            "zerolinecolor": "white"
           },
           "zaxis": {
            "backgroundcolor": "#E5ECF6",
            "gridcolor": "white",
            "gridwidth": 2,
            "linecolor": "white",
            "showbackground": true,
            "ticks": "",
            "zerolinecolor": "white"
           }
          },
          "shapedefaults": {
           "line": {
            "color": "#2a3f5f"
           }
          },
          "ternary": {
           "aaxis": {
            "gridcolor": "white",
            "linecolor": "white",
            "ticks": ""
           },
           "baxis": {
            "gridcolor": "white",
            "linecolor": "white",
            "ticks": ""
           },
           "bgcolor": "#E5ECF6",
           "caxis": {
            "gridcolor": "white",
            "linecolor": "white",
            "ticks": ""
           }
          },
          "title": {
           "x": 0.05
          },
          "xaxis": {
           "automargin": true,
           "gridcolor": "white",
           "linecolor": "white",
           "ticks": "",
           "title": {
            "standoff": 15
           },
           "zerolinecolor": "white",
           "zerolinewidth": 2
          },
          "yaxis": {
           "automargin": true,
           "gridcolor": "white",
           "linecolor": "white",
           "ticks": "",
           "title": {
            "standoff": 15
           },
           "zerolinecolor": "white",
           "zerolinewidth": 2
          }
         }
        },
        "title": {
         "text": "Slice Plot"
        },
        "width": 2100,
        "xaxis": {
         "anchor": "y",
         "categoryarray": [
          true,
          false
         ],
         "categoryorder": "array",
         "domain": [
          0,
          0.1183673469387755
         ],
         "title": {
          "text": "bNorm"
         },
         "type": "category"
        },
        "xaxis2": {
         "anchor": "y2",
         "categoryarray": [
          true,
          false
         ],
         "categoryorder": "array",
         "domain": [
          0.14693877551020407,
          0.26530612244897955
         ],
         "title": {
          "text": "dropout"
         },
         "type": "category"
        },
        "xaxis3": {
         "anchor": "y3",
         "domain": [
          0.29387755102040813,
          0.4122448979591836
         ],
         "title": {
          "text": "layer1_units"
         }
        },
        "xaxis4": {
         "anchor": "y4",
         "domain": [
          0.4408163265306122,
          0.5591836734693877
         ],
         "title": {
          "text": "layer2_units"
         }
        },
        "xaxis5": {
         "anchor": "y5",
         "domain": [
          0.5877551020408163,
          0.7061224489795918
         ],
         "title": {
          "text": "layer3_units"
         }
        },
        "xaxis6": {
         "anchor": "y6",
         "domain": [
          0.7346938775510204,
          0.8530612244897959
         ],
         "title": {
          "text": "lr"
         },
         "type": "log"
        },
        "xaxis7": {
         "anchor": "y7",
         "domain": [
          0.8816326530612244,
          0.9999999999999999
         ],
         "title": {
          "text": "nLayers"
         }
        },
        "yaxis": {
         "anchor": "x",
         "domain": [
          0,
          1
         ],
         "title": {
          "text": "Objective Value"
         }
        },
        "yaxis2": {
         "anchor": "x2",
         "domain": [
          0,
          1
         ],
         "matches": "y",
         "showticklabels": false
        },
        "yaxis3": {
         "anchor": "x3",
         "domain": [
          0,
          1
         ],
         "matches": "y",
         "showticklabels": false
        },
        "yaxis4": {
         "anchor": "x4",
         "domain": [
          0,
          1
         ],
         "matches": "y",
         "showticklabels": false
        },
        "yaxis5": {
         "anchor": "x5",
         "domain": [
          0,
          1
         ],
         "matches": "y",
         "showticklabels": false
        },
        "yaxis6": {
         "anchor": "x6",
         "domain": [
          0,
          1
         ],
         "matches": "y",
         "showticklabels": false
        },
        "yaxis7": {
         "anchor": "x7",
         "domain": [
          0,
          1
         ],
         "matches": "y",
         "showticklabels": false
        }
       }
      }
     },
     "metadata": {},
     "output_type": "display_data"
    }
   ],
   "source": [
    "plot_slice(study)"
   ]
  },
  {
   "cell_type": "code",
   "execution_count": 23,
   "metadata": {},
   "outputs": [],
   "source": [
    "study.best_params"
   ]
  },
  {
   "cell_type": "code",
   "execution_count": null,
   "metadata": {},
   "outputs": [],
   "source": [
    "CV_loss_effNet = kFoldCV(study.best_params, train_df, 5)"
   ]
  },
  {
   "cell_type": "code",
   "execution_count": null,
   "metadata": {},
   "outputs": [],
   "source": [
    "model = build_model(study.best_params)\n",
    "es = keras.callbacks.EarlyStopping(patience=5, restore_best_weights=True)\n",
    "model.fit(test_data, epochs=MAX_EPOCHS, batch_size=BATCH_SIZE, callbacks=[es])\n",
    "model.save('models/efficientNet_model.keras')\n",
    "\n",
    "test_loss_effNet = model.evaluate(test_data)"
   ]
  },
  {
   "cell_type": "code",
   "execution_count": null,
   "metadata": {},
   "outputs": [],
   "source": [
    "print(f'CV loss over training set: {CV_loss_effNet}\\nLoss over the test set: {test_loss_effNet}')"
   ]
  },
  {
   "cell_type": "markdown",
   "metadata": {},
   "source": [
    "#### Optimize MobileNetV3_large"
   ]
  },
  {
   "cell_type": "code",
   "execution_count": null,
   "metadata": {},
   "outputs": [],
   "source": [
    "BACKBONE_MODEL = 'mobilenet'"
   ]
  },
  {
   "cell_type": "code",
   "execution_count": null,
   "metadata": {},
   "outputs": [],
   "source": [
    "study = optuna.create_study(\n",
    "    direction=\"minimize\",\n",
    "    sampler=optuna.samplers.TPESampler(),\n",
    "    pruner=optuna.pruners.HyperbandPruner(),\n",
    "    study_name='mobileNet_study'\n",
    ")\n",
    "\n",
    "study.enqueue_trial(baselineHyperparameters)    # Test on baseline parameters first and optimize from there\n",
    "study.optimize(objective, n_trials=MODEL_SELECTION_STEPS, gc_after_trial=True)"
   ]
  },
  {
   "cell_type": "code",
   "execution_count": null,
   "metadata": {},
   "outputs": [],
   "source": [
    "plot_slice(study)"
   ]
  },
  {
   "cell_type": "code",
   "execution_count": null,
   "metadata": {},
   "outputs": [],
   "source": [
    "study.best_params"
   ]
  },
  {
   "cell_type": "code",
   "execution_count": null,
   "metadata": {},
   "outputs": [],
   "source": [
    "CV_loss_mobNet = kFoldCV(study.best_params, train_df, 5)"
   ]
  },
  {
   "cell_type": "code",
   "execution_count": null,
   "metadata": {},
   "outputs": [],
   "source": [
    "model = build_model(study.best_params)\n",
    "es = keras.callbacks.EarlyStopping(patience=5, restore_best_weights=True)\n",
    "model.fit(test_data, epochs=MAX_EPOCHS, batch_size=BATCH_SIZE, callbacks=[es])\n",
    "model.save('models/mobileNet_model.keras')\n",
    "\n",
    "test_loss_mobNet = model.evaluate(test_data)"
   ]
  },
  {
   "cell_type": "code",
   "execution_count": null,
   "metadata": {},
   "outputs": [],
   "source": [
    "print(f'CV loss over training set: {CV_loss_mobNet}\\nLoss over the test set: {test_loss_mobNet}')"
   ]
  },
  {
   "cell_type": "markdown",
   "metadata": {},
   "source": [
    "## Experimenting with Vision Transformers"
   ]
  },
  {
   "cell_type": "code",
   "execution_count": null,
   "metadata": {},
   "outputs": [],
   "source": [
    "def build_ViT(config):\n",
    "    VIT = hub.KerasLayer(\"https://www.kaggle.com/models/spsayakpaul/vision-transformer/TensorFlow2/vit-b16-fe/1\")\n",
    "    VIT.trainable = config[\"fine_tune\"]\n",
    "\n",
    "    input_layer = layers.Input(shape=IM_SHAPE)\n",
    "    x = layers.Resizing(224,224)(input_layer)\n",
    "    x = VIT(x)\n",
    "    x = layers.Dense(units=config['layer0_units'], activation='relu')(x)\n",
    "\n",
    "    if config['dropout']:\n",
    "        x = layers.Dropout(0.3)(x)\n",
    "\n",
    "    out = layers.Dense(2, \"sigmoid\", name=\"out_layer\")(x)\n",
    "\n",
    "    model = keras.Model(input_layer, out, name=f\"{BACKBONE_MODEL}_model\")\n",
    "\n",
    "    model.compile(\n",
    "        optimizer=keras.optimizers.Adam(learning_rate=config[\"lr\"]), loss=\"mse\"\n",
    "    )\n",
    "    return model"
   ]
  },
  {
   "cell_type": "code",
   "execution_count": null,
   "metadata": {},
   "outputs": [],
   "source": [
    "def objective_ViT(trial: optuna.Trial):\n",
    "    best_val_loss = np.inf\n",
    "    patience = 0\n",
    "    config = {\n",
    "        \"lr\": trial.suggest_float(\"lr\", 1e-6, 1e-3, log=True),\n",
    "        \"dropout\": trial.suggest_categorical(\"dropout\", [True, False]),\n",
    "        \"layer0_units\": trial.suggest_categorical(\"layer0_units\", [64, 128, 256, 512]),\n",
    "        \"fine_tune\": trial.suggest_categorical(\"fine_tune\", [True, False]),\n",
    "    }\n",
    "\n",
    "    model = build_ViT(config)\n",
    "\n",
    "    for train_step in range(MAX_EPOCHS):\n",
    "        history = model.fit(train_data, batch_size=BATCH_SIZE, validation_data=val_data)\n",
    "        val_loss = history.history[\"val_loss\"][0]\n",
    "        # Implement earlystopping\n",
    "        if val_loss < best_val_loss:\n",
    "            best_val_loss = val_loss\n",
    "            patience = 0\n",
    "        else:\n",
    "            patience += 1\n",
    "\n",
    "        if patience > 5:\n",
    "            break\n",
    "\n",
    "        trial.report(val_loss, train_step)\n",
    "        if trial.should_prune():\n",
    "            raise optuna.TrialPruned()\n",
    "\n",
    "    return best_val_loss"
   ]
  },
  {
   "cell_type": "code",
   "execution_count": 14,
   "metadata": {},
   "outputs": [],
   "source": [
    "baselineConfig = {\n",
    "        \"lr\": 1e-4,\n",
    "        \"dropout\": True,\n",
    "        \"layer0_units\": 256,\n",
    "        \"fine_tune\": True\n",
    "    }\n",
    "\n",
    "optuna.logging.get_logger(\"optuna\").addHandler(logging.StreamHandler(sys.stdout))\n",
    "study = optuna.create_study(\n",
    "    direction=\"minimize\",\n",
    "    sampler=optuna.samplers.TPESampler(),\n",
    "    pruner=optuna.pruners.HyperbandPruner(),\n",
    "    study_name='ViT_study'\n",
    ")\n",
    "\n",
    "study.enqueue_trial(baselineConfig)    # Test on baseline parameters first and optimize from there\n",
    "study.optimize(objective, n_trials=MODEL_SELECTION_STEPS, gc_after_trial=True)"
   ]
  },
  {
   "cell_type": "code",
   "execution_count": 24,
   "metadata": {},
   "outputs": [],
   "source": [
    "plot_slice(study)"
   ]
  },
  {
   "cell_type": "code",
   "execution_count": null,
   "metadata": {},
   "outputs": [],
   "source": [
    "study.best_params"
   ]
  },
  {
   "cell_type": "code",
   "execution_count": 23,
   "metadata": {},
   "outputs": [
    {
     "name": "stdout",
     "output_type": "stream",
     "text": [
      "Model: \"model\"\n",
      "_________________________________________________________________\n",
      " Layer (type)                Output Shape              Param #   \n",
      "=================================================================\n",
      " input_6 (InputLayer)        [(None, 500, 500, 3)]     0         \n",
      "                                                                 \n",
      " resizing_2 (Resizing)       (None, 224, 224, 3)       0         \n",
      "                                                                 \n",
      " keras_layer (KerasLayer)    (None, 768)               85798656  \n",
      "                                                                 \n",
      " dense (Dense)               (None, 1024)              787456    \n",
      "                                                                 \n",
      " dense_1 (Dense)             (None, 256)               262400    \n",
      "                                                                 \n",
      " dense_2 (Dense)             (None, 2)                 514       \n",
      "                                                                 \n",
      "=================================================================\n",
      "Total params: 86849026 (331.30 MB)\n",
      "Trainable params: 1050370 (4.01 MB)\n",
      "Non-trainable params: 85798656 (327.30 MB)\n",
      "_________________________________________________________________\n"
     ]
    }
   ],
   "source": [
    "model = build_ViT(study.best_params)\n",
    "es = keras.callbacks.EarlyStopping(patience=5, restore_best_weights=True)\n",
    "hst = model.fit(test_data, epochs=MAX_EPOCHS, batch_size=BATCH_SIZE, callbacks=[es])\n",
    "model.save('models/ViT_model.keras')\n",
    "\n",
    "test_loss_ViT = model.evaluate(test_data)"
   ]
  },
  {
   "cell_type": "code",
   "execution_count": null,
   "metadata": {},
   "outputs": [],
   "source": [
    "plot_history(hst)"
   ]
  },
  {
   "cell_type": "code",
   "execution_count": null,
   "metadata": {},
   "outputs": [],
   "source": [
    "print(f\"Vision transformer test loss: {test_loss_ViT}\")"
   ]
  }
 ],
 "metadata": {
  "kernelspec": {
   "display_name": "Python 3 (ipykernel)",
   "language": "python",
   "name": "python3"
  },
  "language_info": {
   "codemirror_mode": {
    "name": "ipython",
    "version": 3
   },
   "file_extension": ".py",
   "mimetype": "text/x-python",
   "name": "python",
   "nbconvert_exporter": "python",
   "pygments_lexer": "ipython3",
   "version": "3.11.0rc1"
  }
 },
 "nbformat": 4,
 "nbformat_minor": 4
}
