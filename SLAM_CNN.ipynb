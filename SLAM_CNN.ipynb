{
 "cells": [
  {
   "cell_type": "markdown",
   "metadata": {},
   "source": [
    "## Imports and global parameters"
   ]
  },
  {
   "cell_type": "code",
   "execution_count": 78,
   "metadata": {},
   "outputs": [],
   "source": [
    "import logging\n",
    "logging.getLogger('tensorflow').setLevel(logging.FATAL)"
   ]
  },
  {
   "cell_type": "code",
   "execution_count": 79,
   "metadata": {},
   "outputs": [],
   "source": [
    "import tensorflow as tf\n",
    "import tensorflow_hub as hub\n",
    "import keras\n",
    "import optuna\n",
    "import numpy as np\n",
    "import sklearn as sk\n",
    "import matplotlib.pyplot as plt\n",
    "import plotly\n",
    "import time\n",
    "import pandas as pd\n",
    "import os\n",
    "import sys\n",
    "import random\n",
    "import math\n",
    "import logging\n",
    "from sklearn.model_selection import train_test_split, KFold\n",
    "from keras import layers\n",
    "from optuna.visualization import plot_slice"
   ]
  },
  {
   "cell_type": "code",
   "execution_count": 80,
   "metadata": {},
   "outputs": [
    {
     "name": "stdout",
     "output_type": "stream",
     "text": [
      "[]\n"
     ]
    }
   ],
   "source": [
    "!mkdir -p models\n",
    "\n",
    "gpus = tf.config.experimental.list_physical_devices('GPU')\n",
    "print(gpus)\n",
    "\n",
    "if len(gpus) > 0:\n",
    "    tf.config.experimental.set_memory_growth(gpus[0], True)"
   ]
  },
  {
   "cell_type": "code",
   "execution_count": 81,
   "metadata": {},
   "outputs": [],
   "source": [
    "IMG_PATH = 'data/img/'\n",
    "AUTO = tf.data.AUTOTUNE\n",
    "BATCH_SIZE = 64\n",
    "IM_SHAPE = (500,500, 3)\n",
    "MAX_EPOCHS = 40\n",
    "MODEL_SELECTION_STEPS = 50\n",
    "\n",
    "BACKBONE_MODEL = 'efficientnet'"
   ]
  },
  {
   "cell_type": "markdown",
   "metadata": {},
   "source": [
    "# Data preprocessing"
   ]
  },
  {
   "cell_type": "markdown",
   "metadata": {},
   "source": [
    "### Read csv files and create datasets"
   ]
  },
  {
   "cell_type": "code",
   "execution_count": 82,
   "metadata": {},
   "outputs": [
    {
     "data": {
      "text/plain": [
       "0.04335412000000012"
      ]
     },
     "execution_count": 82,
     "metadata": {},
     "output_type": "execute_result"
    }
   ],
   "source": [
    "df = pd.read_csv('data/data.csv')\n",
    "df['id'] = df['id'].apply(lambda id: os.path.join(IMG_PATH, id))\n",
    "df.rotErr.quantile(.99)"
   ]
  },
  {
   "cell_type": "code",
   "execution_count": 83,
   "metadata": {},
   "outputs": [
    {
     "data": {
      "image/png": "[encoded data removed]",
      "text/plain": [
       "<Figure size 1000x480 with 2 Axes>"
      ]
     },
     "metadata": {},
     "output_type": "display_data"
    }
   ],
   "source": [
    "fig, ax = plt.subplots(1, 2)\n",
    "fig.set_figwidth(10)\n",
    "df['translErr'].plot.hist(bins=60, title='Average translational error', ax=ax[0])\n",
    "df['rotErr'].plot.hist(bins=40, title='Average rotational error', ax=ax[1])\n",
    "plt.show()"
   ]
  },
  {
   "cell_type": "markdown",
   "metadata": {},
   "source": [
    "#### Feature Clipping\n",
    "To perform data rescaling, every value that is above $k = 99th\\ percentile$ is clipped to $k$."
   ]
  },
  {
   "cell_type": "code",
   "execution_count": 84,
   "metadata": {},
   "outputs": [],
   "source": [
    "rot = df['rotErr'].copy()\n",
    "rot[rot > rot.quantile(.995)] = rot.quantile(.995)\n",
    "df['rotErr'] = rot\n",
    "\n",
    "transl = df['translErr'].copy()\n",
    "transl[transl > transl.quantile(.995)] = transl.quantile(.995)\n",
    "df['translErr'] = transl\n"
   ]
  },
  {
   "cell_type": "markdown",
   "metadata": {},
   "source": [
    "#### Data rescaling"
   ]
  },
  {
   "cell_type": "code",
   "execution_count": 85,
   "metadata": {},
   "outputs": [
    {
     "data": {
      "text/html": [
       "<div>\n",
       "<style scoped>\n",
       "    .dataframe tbody tr th:only-of-type {\n",
       "        vertical-align: middle;\n",
       "    }\n",
       "\n",
       "    .dataframe tbody tr th {\n",
       "        vertical-align: top;\n",
       "    }\n",
       "\n",
       "    .dataframe thead th {\n",
       "        text-align: right;\n",
       "    }\n",
       "</style>\n",
       "<table border=\"1\" class=\"dataframe\">\n",
       "  <thead>\n",
       "    <tr style=\"text-align: right;\">\n",
       "      <th></th>\n",
       "      <th>id</th>\n",
       "      <th>translErr</th>\n",
       "      <th>rotErr</th>\n",
       "      <th>area</th>\n",
       "    </tr>\n",
       "  </thead>\n",
       "  <tbody>\n",
       "    <tr>\n",
       "      <th>0</th>\n",
       "      <td>data/img/32-G5.png</td>\n",
       "      <td>0.651595</td>\n",
       "      <td>1.000000</td>\n",
       "      <td>0.097354</td>\n",
       "    </tr>\n",
       "    <tr>\n",
       "      <th>1</th>\n",
       "      <td>data/img/32-G7.png</td>\n",
       "      <td>0.777247</td>\n",
       "      <td>0.984398</td>\n",
       "      <td>0.193957</td>\n",
       "    </tr>\n",
       "    <tr>\n",
       "      <th>2</th>\n",
       "      <td>data/img/32-G9.png</td>\n",
       "      <td>0.546994</td>\n",
       "      <td>0.718890</td>\n",
       "      <td>0.101897</td>\n",
       "    </tr>\n",
       "    <tr>\n",
       "      <th>3</th>\n",
       "      <td>data/img/32-D8.png</td>\n",
       "      <td>0.614334</td>\n",
       "      <td>0.846781</td>\n",
       "      <td>0.147976</td>\n",
       "    </tr>\n",
       "    <tr>\n",
       "      <th>4</th>\n",
       "      <td>data/img/W31-2.png</td>\n",
       "      <td>0.263803</td>\n",
       "      <td>0.349292</td>\n",
       "      <td>0.081962</td>\n",
       "    </tr>\n",
       "  </tbody>\n",
       "</table>\n",
       "</div>"
      ],
      "text/plain": [
       "                   id  translErr    rotErr      area\n",
       "0  data/img/32-G5.png   0.651595  1.000000  0.097354\n",
       "1  data/img/32-G7.png   0.777247  0.984398  0.193957\n",
       "2  data/img/32-G9.png   0.546994  0.718890  0.101897\n",
       "3  data/img/32-D8.png   0.614334  0.846781  0.147976\n",
       "4  data/img/W31-2.png   0.263803  0.349292  0.081962"
      ]
     },
     "execution_count": 85,
     "metadata": {},
     "output_type": "execute_result"
    }
   ],
   "source": [
    "# TODO: ragiona bene su scaling + clipping dei dati\n",
    "rescaler_rot = sk.preprocessing.MinMaxScaler()\n",
    "rescaler_transl = sk.preprocessing.MinMaxScaler()\n",
    "df['rotErr'] = rescaler_rot.fit_transform(df['rotErr'].values.reshape(-1,1)).squeeze()\n",
    "df['translErr'] = rescaler_transl.fit_transform(df['translErr'].values.reshape(-1,1)).squeeze()\n",
    "df['area'] /= df['area'].max()\n",
    "df.head()"
   ]
  },
  {
   "cell_type": "code",
   "execution_count": 86,
   "metadata": {},
   "outputs": [
    {
     "data": {
      "image/png": "[encoded data removed]",
      "text/plain": [
       "<Figure size 1000x480 with 2 Axes>"
      ]
     },
     "metadata": {},
     "output_type": "display_data"
    }
   ],
   "source": [
    "fig, ax = plt.subplots(1, 2)\n",
    "fig.set_figwidth(10)\n",
    "df['translErr'].plot.hist(bins=60, title='Average translational error', ax=ax[0])\n",
    "df['rotErr'].plot.hist(bins=40, title='Average rotational error', ax=ax[1])\n",
    "plt.show()"
   ]
  },
  {
   "cell_type": "markdown",
   "metadata": {},
   "source": [
    "##### Data partitioning and dataset creation"
   ]
  },
  {
   "cell_type": "code",
   "execution_count": 87,
   "metadata": {},
   "outputs": [],
   "source": [
    "train_df, test_df = train_test_split(df, test_size=0.3, random_state=42)\n",
    "val_df, test_df = train_test_split(test_df, test_size=0.5, random_state=42)"
   ]
  },
  {
   "cell_type": "code",
   "execution_count": 88,
   "metadata": {},
   "outputs": [],
   "source": [
    "def load_image(id: tf.types.experimental):\n",
    "    image = tf.io.read_file(id)\n",
    "    image = tf.image.decode_png(image)\n",
    "    return image\n",
    "\n",
    "def data_augmentation(img: np.ndarray):\n",
    "    rotation = random.randint(0, 3)\n",
    "    img = tf.image.rot90(img, k=rotation)\n",
    "    img = tf.image.random_flip_up_down(img)\n",
    "    img = tf.image.random_flip_left_right(img)\n",
    "    return img\n",
    "\n",
    "\n",
    "def load_dataset(df: pd.DataFrame, augment=False) -> tf.data.Dataset:\n",
    "    X = tf.data.Dataset.from_tensor_slices(df[\"id\"].values)\n",
    "    area = tf.data.Dataset.from_tensor_slices(df[\"area\"].values)\n",
    "    Y = tf.data.Dataset.from_tensor_slices(df[[\"translErr\", \"rotErr\"]].values)\n",
    "\n",
    "    X = X.map(load_image, num_parallel_calls=AUTO)\n",
    "    \n",
    "    if augment:\n",
    "        X = X.map(lambda img: data_augmentation(img), num_parallel_calls=AUTO)\n",
    "\n",
    "    dataset = tf.data.Dataset.zip((X, area), Y)\n",
    "    dataset = dataset.shuffle(500)\n",
    "    dataset = dataset.batch(\n",
    "        batch_size=BATCH_SIZE,\n",
    "        num_parallel_calls=AUTO,\n",
    "        deterministic=False,\n",
    "        drop_remainder=False,\n",
    "    )\n",
    "    dataset = dataset.prefetch(AUTO)\n",
    "    return dataset\n",
    "\n",
    "\n",
    "train_data = load_dataset(train_df, augment=True)\n",
    "val_data = load_dataset(val_df)\n",
    "test_data = load_dataset(test_df)"
   ]
  },
  {
   "cell_type": "code",
   "execution_count": 89,
   "metadata": {},
   "outputs": [
    {
     "data": {
      "text/plain": [
       "((<tf.Tensor: shape=(64, 500, 500, 1), dtype=uint8, numpy=\n",
       "  array([[[[205],\n",
       "           [205],\n",
       "           [205],\n",
       "           ...,\n",
       "           [205],\n",
       "           [205],\n",
       "           [205]],\n",
       "  \n",
       "          [[205],\n",
       "           [205],\n",
       "           [205],\n",
       "           ...,\n",
       "           [205],\n",
       "           [205],\n",
       "           [205]],\n",
       "  \n",
       "          [[205],\n",
       "           [205],\n",
       "           [205],\n",
       "           ...,\n",
       "           [205],\n",
       "           [205],\n",
       "           [205]],\n",
       "  \n",
       "          ...,\n",
       "  \n",
       "          [[205],\n",
       "           [205],\n",
       "           [205],\n",
       "           ...,\n",
       "           [205],\n",
       "           [205],\n",
       "           [205]],\n",
       "  \n",
       "          [[205],\n",
       "           [205],\n",
       "           [205],\n",
       "           ...,\n",
       "           [205],\n",
       "           [205],\n",
       "           [205]],\n",
       "  \n",
       "          [[205],\n",
       "           [205],\n",
       "           [205],\n",
       "           ...,\n",
       "           [205],\n",
       "           [205],\n",
       "           [205]]],\n",
       "  \n",
       "  \n",
       "         [[[205],\n",
       "           [205],\n",
       "           [205],\n",
       "           ...,\n",
       "           [205],\n",
       "           [205],\n",
       "           [205]],\n",
       "  \n",
       "          [[205],\n",
       "           [205],\n",
       "           [205],\n",
       "           ...,\n",
       "           [205],\n",
       "           [205],\n",
       "           [205]],\n",
       "  \n",
       "          [[205],\n",
       "           [205],\n",
       "           [205],\n",
       "           ...,\n",
       "           [205],\n",
       "           [205],\n",
       "           [205]],\n",
       "  \n",
       "          ...,\n",
       "  \n",
       "          [[205],\n",
       "           [205],\n",
       "           [205],\n",
       "           ...,\n",
       "           [205],\n",
       "           [205],\n",
       "           [205]],\n",
       "  \n",
       "          [[205],\n",
       "           [205],\n",
       "           [205],\n",
       "           ...,\n",
       "           [205],\n",
       "           [205],\n",
       "           [205]],\n",
       "  \n",
       "          [[205],\n",
       "           [205],\n",
       "           [205],\n",
       "           ...,\n",
       "           [205],\n",
       "           [205],\n",
       "           [205]]],\n",
       "  \n",
       "  \n",
       "         [[[205],\n",
       "           [205],\n",
       "           [205],\n",
       "           ...,\n",
       "           [205],\n",
       "           [205],\n",
       "           [205]],\n",
       "  \n",
       "          [[205],\n",
       "           [205],\n",
       "           [205],\n",
       "           ...,\n",
       "           [205],\n",
       "           [205],\n",
       "           [205]],\n",
       "  \n",
       "          [[205],\n",
       "           [205],\n",
       "           [205],\n",
       "           ...,\n",
       "           [205],\n",
       "           [205],\n",
       "           [205]],\n",
       "  \n",
       "          ...,\n",
       "  \n",
       "          [[205],\n",
       "           [205],\n",
       "           [205],\n",
       "           ...,\n",
       "           [205],\n",
       "           [205],\n",
       "           [205]],\n",
       "  \n",
       "          [[205],\n",
       "           [205],\n",
       "           [205],\n",
       "           ...,\n",
       "           [205],\n",
       "           [205],\n",
       "           [205]],\n",
       "  \n",
       "          [[205],\n",
       "           [205],\n",
       "           [205],\n",
       "           ...,\n",
       "           [205],\n",
       "           [205],\n",
       "           [205]]],\n",
       "  \n",
       "  \n",
       "         ...,\n",
       "  \n",
       "  \n",
       "         [[[205],\n",
       "           [205],\n",
       "           [205],\n",
       "           ...,\n",
       "           [205],\n",
       "           [205],\n",
       "           [205]],\n",
       "  \n",
       "          [[205],\n",
       "           [205],\n",
       "           [205],\n",
       "           ...,\n",
       "           [205],\n",
       "           [205],\n",
       "           [205]],\n",
       "  \n",
       "          [[205],\n",
       "           [205],\n",
       "           [205],\n",
       "           ...,\n",
       "           [205],\n",
       "           [205],\n",
       "           [205]],\n",
       "  \n",
       "          ...,\n",
       "  \n",
       "          [[205],\n",
       "           [205],\n",
       "           [205],\n",
       "           ...,\n",
       "           [205],\n",
       "           [205],\n",
       "           [205]],\n",
       "  \n",
       "          [[205],\n",
       "           [205],\n",
       "           [205],\n",
       "           ...,\n",
       "           [205],\n",
       "           [205],\n",
       "           [205]],\n",
       "  \n",
       "          [[205],\n",
       "           [205],\n",
       "           [205],\n",
       "           ...,\n",
       "           [205],\n",
       "           [205],\n",
       "           [205]]],\n",
       "  \n",
       "  \n",
       "         [[[205],\n",
       "           [205],\n",
       "           [205],\n",
       "           ...,\n",
       "           [205],\n",
       "           [205],\n",
       "           [205]],\n",
       "  \n",
       "          [[205],\n",
       "           [205],\n",
       "           [205],\n",
       "           ...,\n",
       "           [205],\n",
       "           [205],\n",
       "           [205]],\n",
       "  \n",
       "          [[205],\n",
       "           [205],\n",
       "           [205],\n",
       "           ...,\n",
       "           [205],\n",
       "           [205],\n",
       "           [205]],\n",
       "  \n",
       "          ...,\n",
       "  \n",
       "          [[205],\n",
       "           [205],\n",
       "           [205],\n",
       "           ...,\n",
       "           [205],\n",
       "           [205],\n",
       "           [205]],\n",
       "  \n",
       "          [[205],\n",
       "           [205],\n",
       "           [205],\n",
       "           ...,\n",
       "           [205],\n",
       "           [205],\n",
       "           [205]],\n",
       "  \n",
       "          [[205],\n",
       "           [205],\n",
       "           [205],\n",
       "           ...,\n",
       "           [205],\n",
       "           [205],\n",
       "           [205]]],\n",
       "  \n",
       "  \n",
       "         [[[205],\n",
       "           [205],\n",
       "           [205],\n",
       "           ...,\n",
       "           [205],\n",
       "           [205],\n",
       "           [205]],\n",
       "  \n",
       "          [[205],\n",
       "           [205],\n",
       "           [205],\n",
       "           ...,\n",
       "           [205],\n",
       "           [205],\n",
       "           [205]],\n",
       "  \n",
       "          [[205],\n",
       "           [205],\n",
       "           [205],\n",
       "           ...,\n",
       "           [205],\n",
       "           [205],\n",
       "           [205]],\n",
       "  \n",
       "          ...,\n",
       "  \n",
       "          [[205],\n",
       "           [205],\n",
       "           [205],\n",
       "           ...,\n",
       "           [205],\n",
       "           [205],\n",
       "           [205]],\n",
       "  \n",
       "          [[205],\n",
       "           [205],\n",
       "           [205],\n",
       "           ...,\n",
       "           [205],\n",
       "           [205],\n",
       "           [205]],\n",
       "  \n",
       "          [[205],\n",
       "           [205],\n",
       "           [205],\n",
       "           ...,\n",
       "           [205],\n",
       "           [205],\n",
       "           [205]]]], dtype=uint8)>,\n",
       "  <tf.Tensor: shape=(64,), dtype=float64, numpy=\n",
       "  array([0.02986313, 0.0324859 , 0.0351553 , 0.12471196, 0.05012091,\n",
       "         0.02657799, 0.07041769, 0.01480015, 0.07087028, 0.04225523,\n",
       "         0.02852889, 0.0431964 , 0.11729191, 0.0389487 , 0.07007635,\n",
       "         0.05267033, 0.02710972, 0.16865647, 0.0412719 , 0.10458742,\n",
       "         0.05152209, 0.03594746, 0.05353692, 0.03281048, 0.05388745,\n",
       "         0.0414562 , 0.03727583, 0.02875032, 0.02724862, 0.03542082,\n",
       "         0.01610606, 0.02348324, 0.01578333, 0.04640325, 0.01173714,\n",
       "         0.03938331, 0.08746352, 0.04869248, 0.03057645, 0.03878734,\n",
       "         0.03624826, 0.09810693, 0.13450289, 0.09055502, 0.0301183 ,\n",
       "         0.04952571, 0.11695211, 0.09868437, 0.04988867, 0.11420087,\n",
       "         0.03638569, 0.08202133, 0.07253597, 0.02093359, 0.03556566,\n",
       "         0.03637017, 0.24347096, 0.02712794, 0.04452724, 0.01781808,\n",
       "         0.07745847, 0.04169681, 0.09393891, 0.02450162])>),\n",
       " <tf.Tensor: shape=(64, 2), dtype=float64, numpy=\n",
       " array([[0.10121602, 0.10650754],\n",
       "        [0.05290703, 0.03949612],\n",
       "        [0.07340384, 0.03801375],\n",
       "        [0.67225878, 0.74210067],\n",
       "        [0.21087441, 0.3557494 ],\n",
       "        [0.09228304, 0.17104156],\n",
       "        [0.16900741, 0.12549411],\n",
       "        [0.15152421, 0.65309733],\n",
       "        [0.23029993, 0.27411731],\n",
       "        [0.07470148, 0.08345967],\n",
       "        [0.16862938, 0.9033139 ],\n",
       "        [0.12377009, 0.12342285],\n",
       "        [0.02945468, 0.47630903],\n",
       "        [0.10673248, 0.04936508],\n",
       "        [0.32664416, 0.20294306],\n",
       "        [0.17975117, 0.21662963],\n",
       "        [0.09906751, 0.19012967],\n",
       "        [0.50138727, 0.40885087],\n",
       "        [0.2053307 , 0.41049569],\n",
       "        [0.02477962, 0.40227157],\n",
       "        [0.16384529, 0.22140166],\n",
       "        [0.08333701, 0.09822249],\n",
       "        [0.11610749, 0.06814858],\n",
       "        [0.15808352, 0.09200871],\n",
       "        [0.13034718, 0.08683055],\n",
       "        [0.14175931, 0.10415199],\n",
       "        [0.14995756, 0.03685628],\n",
       "        [0.08788528, 0.23291544],\n",
       "        [0.15477365, 0.54214267],\n",
       "        [0.14572216, 0.13444927],\n",
       "        [0.12402488, 0.14541477],\n",
       "        [0.22656817, 0.56177904],\n",
       "        [0.13122175, 0.54260972],\n",
       "        [0.08210336, 0.05267503],\n",
       "        [0.08507668, 0.1110765 ],\n",
       "        [0.15128009, 0.12336193],\n",
       "        [0.24768951, 0.17546838],\n",
       "        [0.25364799, 0.22643767],\n",
       "        [0.07103845, 0.08014972],\n",
       "        [0.16859975, 0.15278603],\n",
       "        [0.10833231, 0.10244624],\n",
       "        [0.02192362, 0.35717085],\n",
       "        [0.02270813, 0.30027207],\n",
       "        [0.09769521, 0.08766312],\n",
       "        [0.0507514 , 0.06686927],\n",
       "        [0.4079725 , 0.6968172 ],\n",
       "        [0.14924416, 0.07377348],\n",
       "        [0.49198026, 0.54244727],\n",
       "        [0.24095836, 0.12248875],\n",
       "        [0.23764493, 0.14645041],\n",
       "        [0.11027107, 0.10260869],\n",
       "        [0.17963503, 0.10831482],\n",
       "        [0.0249633 , 0.43996041],\n",
       "        [0.07867735, 0.05659419],\n",
       "        [0.07763332, 0.06711295],\n",
       "        [0.14843002, 0.38068577],\n",
       "        [0.27666068, 0.09584663],\n",
       "        [0.0787295 , 0.10238532],\n",
       "        [0.06047601, 0.015636  ],\n",
       "        [0.12919886, 0.5585097 ],\n",
       "        [0.1797014 , 0.11446768],\n",
       "        [0.3178759 , 0.81463546],\n",
       "        [0.00300176, 0.        ],\n",
       "        [0.09683722, 0.0829114 ]])>)"
      ]
     },
     "execution_count": 89,
     "metadata": {},
     "output_type": "execute_result"
    }
   ],
   "source": [
    "train_data.take(1).get_single_element()"
   ]
  },
  {
   "cell_type": "code",
   "execution_count": 90,
   "metadata": {},
   "outputs": [
    {
     "data": {
      "image/png": "[encoded data removed]",
      "text/plain": [
       "<Figure size 640x480 with 1 Axes>"
      ]
     },
     "metadata": {},
     "output_type": "display_data"
    }
   ],
   "source": [
    "for r in val_data.take(1).as_numpy_iterator():\n",
    "    r, l = r[0], r[1]\n",
    "    plt.imshow(r[0][0], cmap='gray')\n",
    "    plt.title(l[0])\n",
    "    plt.show()\n",
    "    break"
   ]
  },
  {
   "cell_type": "code",
   "execution_count": 91,
   "metadata": {},
   "outputs": [],
   "source": [
    "def plot_history(hst: keras.callbacks.History):\n",
    "    metrics = [\"loss\"]\n",
    "    _, ax = plt.subplots(1, len(metrics), figsize=(15, 5))\n",
    "    for _, metric in enumerate(metrics):\n",
    "        ax.plot(hst.history[metric])\n",
    "        ax.plot(hst.history[\"val_\" + metric])\n",
    "        ax.set(title=\"model \" + metric, ylabel=metric, xlabel=\"epoch\")\n",
    "        ax.legend([metric, \"val_\" + metric], loc=\"upper left\")\n",
    "    plt.show()"
   ]
  },
  {
   "cell_type": "markdown",
   "metadata": {},
   "source": [
    "## Define the CNN structure"
   ]
  },
  {
   "cell_type": "code",
   "execution_count": 92,
   "metadata": {},
   "outputs": [],
   "source": [
    "def _build_efficientNet(input: layers.Layer):\n",
    "    effNet = keras.applications.EfficientNetV2B3(include_top=False, pooling=\"avg\")\n",
    "    effNet.trainable = False\n",
    "    return effNet(input)\n",
    "\n",
    "\n",
    "def _build_mobileNet(input: layers.Layer):\n",
    "    mobNet = keras.applications.MobileNetV3Large(include_top=False, pooling=\"avg\")\n",
    "    mobNet.trainable = False\n",
    "    return mobNet(input)\n",
    "\n",
    "\n",
    "def build_model(config: dict) -> keras.Model:  # EfficientNetV2B3\n",
    "    backbone_builder = {\n",
    "        \"efficientnet\": _build_efficientNet,\n",
    "        \"mobilenet\": _build_mobileNet,\n",
    "    }\n",
    "    backbone = backbone_builder[BACKBONE_MODEL]\n",
    "\n",
    "    input_layer = layers.Input(shape=IM_SHAPE, name='image_input')\n",
    "    x = backbone(input_layer)\n",
    "\n",
    "    # skip connection\n",
    "    number_input = layers.Input(shape=(1,), name='number_input')\n",
    "    x = layers.Concatenate()([number_input, x])\n",
    "\n",
    "    for i in range(config[\"nLayers\"]):\n",
    "        x = layers.Dense(units=config[f\"layer{i}_units\"], name=f\"dense_{i}\")(x)\n",
    "        if config[\"batchNorm\"]:\n",
    "            x = layers.BatchNormalization()(x)\n",
    "\n",
    "        x = layers.Activation(\"relu\")(x)\n",
    "\n",
    "        if config[\"dropout\"]:\n",
    "            x = layers.Dropout(0.3)(x)\n",
    "\n",
    "    out = layers.Dense(2, \"relu\", name=\"out_layer\")(x)\n",
    "\n",
    "    model = keras.Model(inputs=[input_layer, number_input], outputs=out, name=f\"{BACKBONE_MODEL}_model\")\n",
    "\n",
    "    model.compile(\n",
    "        optimizer=keras.optimizers.Adam(learning_rate=config[\"lr\"]), loss=\"mse\"\n",
    "    )\n",
    "    return model"
   ]
  },
  {
   "cell_type": "code",
   "execution_count": 129,
   "metadata": {},
   "outputs": [
    {
     "name": "stdout",
     "output_type": "stream",
     "text": [
      "1/1 [==============================] - 33s 33s/step - loss: 0.2347 - val_loss: 0.1786\n"
     ]
    },
    {
     "data": {
      "text/plain": [
       "<keras.src.callbacks.History at 0x7e2d949487d0>"
      ]
     },
     "execution_count": 129,
     "metadata": {},
     "output_type": "execute_result"
    }
   ],
   "source": [
    "baselineHyperparameters = {\n",
    "    \"lr\": 1e-4,\n",
    "    \"nLayers\": 3,\n",
    "    \"batchNorm\": True,\n",
    "    \"dropout\": False,\n",
    "    \"layer0_units\": 1024,\n",
    "    \"layer1_units\": 512,\n",
    "    \"layer2_units\": 128,\n",
    "}\n",
    "m = build_model(baselineHyperparameters)\n",
    "\n",
    "# Sanity check to verify that dataset and model have been built correctly\n",
    "m.fit(train_data.take(1), batch_size=BATCH_SIZE, epochs=1, validation_data=val_data.take(1))"
   ]
  },
  {
   "cell_type": "markdown",
   "metadata": {},
   "source": [
    "### Hyperparameter tuning"
   ]
  },
  {
   "cell_type": "code",
   "execution_count": 48,
   "metadata": {},
   "outputs": [],
   "source": [
    "def objective(trial: optuna.Trial) -> float:\n",
    "    best_val_loss = np.inf\n",
    "    patience = 0\n",
    "    layerDim = [64, 128, 256, 512, 1024, 2048]\n",
    "    config = {\n",
    "        \"lr\": trial.suggest_float(\"lr\", 1e-5, 1e-2, log=True),\n",
    "        \"nLayers\": trial.suggest_int(\"nLayers\", 1, 7),\n",
    "        \"batchNorm\": trial.suggest_categorical(\"batchNorm\", [True, False]),\n",
    "        \"dropout\": trial.suggest_categorical(\"dropout\", [True, False]),\n",
    "        \"layer0_units\": trial.suggest_categorical(\"layer0_units\", layerDim[-3:]),\n",
    "    }\n",
    "    n = config[\"nLayers\"]\n",
    "    for i in range(1, n):\n",
    "        iMin, iMax = max(0, n - i - 3), max(n - i, 3)  # sliding window margins\n",
    "        config[f\"layer{i}units\"] = trial.suggest_categorical(\n",
    "            f\"layer{i}_units\", layerDim[iMin:iMax]\n",
    "        )\n",
    "\n",
    "    model = build_model(config)\n",
    "\n",
    "    for train_step in range(MAX_EPOCHS):\n",
    "        history = model.fit(train_data, batch_size=BATCH_SIZE, validation_data=val_data)\n",
    "        val_loss = history.history[\"val_loss\"][0]\n",
    "        # Implement earlystopping\n",
    "        if val_loss < best_val_loss:\n",
    "            best_val_loss = val_loss\n",
    "            patience = 0\n",
    "        else:\n",
    "            patience += 1\n",
    "\n",
    "        if patience > 5:\n",
    "            break\n",
    "\n",
    "        trial.report(val_loss, train_step)\n",
    "        if trial.should_prune():\n",
    "            raise optuna.TrialPruned()\n",
    "    del model\n",
    "    return best_val_loss"
   ]
  },
  {
   "cell_type": "code",
   "execution_count": 17,
   "metadata": {},
   "outputs": [],
   "source": [
    "def kFoldCV(hyperPar: dict, training_set: pd.DataFrame, k: int) -> float:\n",
    "    df = training_set.reset_index(drop=True)\n",
    "    kf = KFold(n_splits=k, shuffle=True)\n",
    "    scores = []\n",
    "    for trainIdx, valIdx in kf.split(df):\n",
    "        train_data = load_dataset(df.iloc[trainIdx], augment=True)\n",
    "        val_data = load_dataset(df.iloc[valIdx])\n",
    "\n",
    "        model = build_model(hyperPar)\n",
    "        es = keras.callbacks.EarlyStopping(patience=5, restore_best_weights=True)\n",
    "        model.fit(train_data, \n",
    "                  batch_size=BATCH_SIZE,\n",
    "                  validation_data=val_data,\n",
    "                  epochs=MAX_EPOCHS,\n",
    "                  callbacks=[es]\n",
    "                  )\n",
    "        \n",
    "        result = model.evaluate(val_data, batch_size=BATCH_SIZE)\n",
    "        del model\n",
    "        scores.append(result)\n",
    "    return np.avg(scores)   # TODO: magari ritorna tutto l'array così calcoli varianza sui fold?"
   ]
  },
  {
   "cell_type": "markdown",
   "metadata": {},
   "source": [
    "## Optimize EfficientNetV2"
   ]
  },
  {
   "cell_type": "code",
   "execution_count": null,
   "metadata": {},
   "outputs": [],
   "source": [
    "optuna.logging.get_logger(\"optuna\").addHandler(logging.StreamHandler(sys.stdout))\n",
    "study = optuna.create_study(\n",
    "    direction=\"minimize\",\n",
    "    sampler=optuna.samplers.TPESampler(),\n",
    "    pruner=optuna.pruners.HyperbandPruner(),\n",
    "    study_name='efficientNet_study'\n",
    ")\n",
    "\n",
    "study.enqueue_trial(baselineHyperparameters)    # Test on baseline parameters first and optimize from there\n",
    "study.optimize(objective, n_trials=MODEL_SELECTION_STEPS, gc_after_trial=True)"
   ]
  },
  {
   "cell_type": "code",
   "execution_count": null,
   "metadata": {},
   "outputs": [],
   "source": [
    "plot_slice(study)"
   ]
  },
  {
   "cell_type": "code",
   "execution_count": 23,
   "metadata": {},
   "outputs": [],
   "source": [
    "study.best_params"
   ]
  },
  {
   "cell_type": "code",
   "execution_count": null,
   "metadata": {},
   "outputs": [],
   "source": [
    "CV_loss_effNet = kFoldCV(study.best_params, train_df, 5)"
   ]
  },
  {
   "cell_type": "code",
   "execution_count": null,
   "metadata": {},
   "outputs": [],
   "source": [
    "model = build_model(study.best_params)\n",
    "es = keras.callbacks.EarlyStopping(patience=5, restore_best_weights=True)\n",
    "model.fit(test_data, epochs=MAX_EPOCHS, batch_size=BATCH_SIZE, callbacks=[es])\n",
    "model.save(f'models/efficientNet_model_{time.strftime(\"%d%b_%I_%M%p\")}.keras')\n",
    "\n",
    "test_loss_effNet = model.evaluate(test_data)\n",
    "\n",
    "del model\n",
    "keras.backend.clear_session()"
   ]
  },
  {
   "cell_type": "code",
   "execution_count": null,
   "metadata": {},
   "outputs": [],
   "source": [
    "print(f'CV loss over training set: {CV_loss_effNet}\\nLoss over the test set: {test_loss_effNet}')"
   ]
  },
  {
   "cell_type": "markdown",
   "metadata": {},
   "source": [
    "## Optimize MobileNetV3_large"
   ]
  },
  {
   "cell_type": "code",
   "execution_count": null,
   "metadata": {},
   "outputs": [],
   "source": [
    "BACKBONE_MODEL = 'mobilenet'"
   ]
  },
  {
   "cell_type": "code",
   "execution_count": null,
   "metadata": {},
   "outputs": [],
   "source": [
    "study = optuna.create_study(\n",
    "    direction=\"minimize\",\n",
    "    sampler=optuna.samplers.TPESampler(),\n",
    "    pruner=optuna.pruners.HyperbandPruner(),\n",
    "    study_name='mobileNet_study'\n",
    ")\n",
    "\n",
    "study.enqueue_trial(baselineHyperparameters)    # Test on baseline parameters first and optimize from there\n",
    "study.optimize(objective, n_trials=MODEL_SELECTION_STEPS, gc_after_trial=True)"
   ]
  },
  {
   "cell_type": "code",
   "execution_count": null,
   "metadata": {},
   "outputs": [],
   "source": [
    "plot_slice(study)"
   ]
  },
  {
   "cell_type": "code",
   "execution_count": null,
   "metadata": {},
   "outputs": [],
   "source": [
    "study.best_params"
   ]
  },
  {
   "cell_type": "code",
   "execution_count": null,
   "metadata": {},
   "outputs": [],
   "source": [
    "CV_loss_mobNet = kFoldCV(study.best_params, train_df, 5)"
   ]
  },
  {
   "cell_type": "code",
   "execution_count": null,
   "metadata": {},
   "outputs": [],
   "source": [
    "model = build_model(study.best_params)\n",
    "es = keras.callbacks.EarlyStopping(patience=5, restore_best_weights=True)\n",
    "model.fit(test_data, epochs=MAX_EPOCHS, batch_size=BATCH_SIZE, callbacks=[es])\n",
    "model.save(f'models/mobileNet_model_{time.strftime(\"%d%b_%I_%M%p\")}.keras')\n",
    "\n",
    "test_loss_mobNet = model.evaluate(test_data)\n",
    "\n",
    "del model\n",
    "keras.backend.clear_session()"
   ]
  },
  {
   "cell_type": "code",
   "execution_count": null,
   "metadata": {},
   "outputs": [],
   "source": [
    "print(f'CV loss over training set: {CV_loss_mobNet}\\nLoss over the test set: {test_loss_mobNet}')"
   ]
  },
  {
   "cell_type": "markdown",
   "metadata": {},
   "source": [
    "## Experimenting with Vision Transformers"
   ]
  },
  {
   "cell_type": "code",
   "execution_count": 64,
   "metadata": {},
   "outputs": [],
   "source": [
    "FINE_TUNE = False   #set to True to finetune the entire transformer"
   ]
  },
  {
   "cell_type": "code",
   "execution_count": 97,
   "metadata": {},
   "outputs": [],
   "source": [
    "def build_ViT(config):\n",
    "    VIT = hub.KerasLayer(\"https://www.kaggle.com/models/spsayakpaul/vision-transformer/TensorFlow2/vit-b16-fe/1\")\n",
    "    VIT.trainable = FINE_TUNE\n",
    "\n",
    "    input_layer = layers.Input(shape=IM_SHAPE)\n",
    "    number_input = layers.Input(shape=(1,), name='number_input')\n",
    "\n",
    "    x = layers.Resizing(224,224)(input_layer)\n",
    "    x = layers.Rescaling(1./127.5, offset=-1)(x)    # Rescaling to [-1, 1] as per ViT spec\n",
    "    x = VIT(x)\n",
    "    \n",
    "    # skip connection\n",
    "    x = layers.Concatenate()([number_input, x])\n",
    "    \n",
    "    x = layers.Dense(units=config['layer0_units'], activation='relu')(x)\n",
    "\n",
    "    if config['dropout']:\n",
    "        x = layers.Dropout(0.3)(x)\n",
    "\n",
    "    out = layers.Dense(2, \"relu\", name=\"out_layer\")(x)\n",
    "\n",
    "    model = keras.Model(inputs=[input_layer, number_input], outputs=out, name=f\"{BACKBONE_MODEL}_model\")\n",
    "\n",
    "    model.compile(\n",
    "        optimizer=keras.optimizers.Adam(learning_rate=config[\"lr\"]), loss=\"mse\"\n",
    "    )\n",
    "    return model"
   ]
  },
  {
   "cell_type": "code",
   "execution_count": 68,
   "metadata": {},
   "outputs": [],
   "source": [
    "def objective_ViT(trial: optuna.Trial):\n",
    "    best_val_loss = np.inf\n",
    "    patience = 0\n",
    "    config = {\n",
    "        \"lr\": trial.suggest_float(\"lr\", 1e-6, 1e-3, log=True),\n",
    "        \"dropout\": trial.suggest_categorical(\"dropout\", [True, False]),\n",
    "        \"layer0_units\": trial.suggest_categorical(\"layer0_units\", [64, 128, 256, 512]),\n",
    "    }\n",
    "\n",
    "    model = build_ViT(config)\n",
    "\n",
    "    for train_step in range(MAX_EPOCHS):\n",
    "        history = model.fit(train_data, batch_size=BATCH_SIZE, validation_data=val_data)\n",
    "        val_loss = history.history[\"val_loss\"][0]\n",
    "        # Implement earlystopping\n",
    "        if val_loss < best_val_loss:\n",
    "            best_val_loss = val_loss\n",
    "            patience = 0\n",
    "        else:\n",
    "            patience += 1\n",
    "\n",
    "        if patience > 5:\n",
    "            break\n",
    "\n",
    "        trial.report(val_loss, train_step)\n",
    "        if trial.should_prune():\n",
    "            raise optuna.TrialPruned()\n",
    "    \n",
    "    del model\n",
    "    return best_val_loss"
   ]
  },
  {
   "cell_type": "code",
   "execution_count": null,
   "metadata": {},
   "outputs": [],
   "source": [
    "baselineConfig = {\n",
    "        \"lr\": 1e-4,\n",
    "        \"dropout\": True,\n",
    "        \"layer0_units\": 256,\n",
    "    }\n",
    "\n",
    "optuna.logging.get_logger(\"optuna\").addHandler(logging.StreamHandler(sys.stdout))\n",
    "study = optuna.create_study(\n",
    "    direction=\"minimize\",\n",
    "    sampler=optuna.samplers.TPESampler(),\n",
    "    pruner=optuna.pruners.HyperbandPruner(),\n",
    "    study_name='ViT_study'\n",
    ")\n",
    "\n",
    "study.enqueue_trial(baselineConfig)    # Test on baseline parameters first and optimize from there\n",
    "study.optimize(objective_ViT, n_trials=MODEL_SELECTION_STEPS, gc_after_trial=True)"
   ]
  },
  {
   "cell_type": "code",
   "execution_count": 24,
   "metadata": {},
   "outputs": [],
   "source": [
    "plot_slice(study)"
   ]
  },
  {
   "cell_type": "code",
   "execution_count": null,
   "metadata": {},
   "outputs": [],
   "source": [
    "study.best_params"
   ]
  },
  {
   "cell_type": "code",
   "execution_count": 23,
   "metadata": {},
   "outputs": [
    {
     "name": "stdout",
     "output_type": "stream",
     "text": [
      "Model: \"model\"\n",
      "_________________________________________________________________\n",
      " Layer (type)                Output Shape              Param #   \n",
      "=================================================================\n",
      " input_6 (InputLayer)        [(None, 500, 500, 3)]     0         \n",
      "                                                                 \n",
      " resizing_2 (Resizing)       (None, 224, 224, 3)       0         \n",
      "                                                                 \n",
      " keras_layer (KerasLayer)    (None, 768)               85798656  \n",
      "                                                                 \n",
      " dense (Dense)               (None, 1024)              787456    \n",
      "                                                                 \n",
      " dense_1 (Dense)             (None, 256)               262400    \n",
      "                                                                 \n",
      " dense_2 (Dense)             (None, 2)                 514       \n",
      "                                                                 \n",
      "=================================================================\n",
      "Total params: 86849026 (331.30 MB)\n",
      "Trainable params: 1050370 (4.01 MB)\n",
      "Non-trainable params: 85798656 (327.30 MB)\n",
      "_________________________________________________________________\n"
     ]
    }
   ],
   "source": [
    "model = build_ViT(study.best_params)\n",
    "es = keras.callbacks.EarlyStopping(patience=5, restore_best_weights=True)\n",
    "hst = model.fit(test_data, epochs=MAX_EPOCHS, batch_size=BATCH_SIZE, callbacks=[es])\n",
    "model_name = f\"ViT_model{'_finetuned' if FINE_TUNE else ''}_{time.strftime(\"%d%b_%I_%M%p\")}\"\n",
    "model.save(f'models/{model_name}.keras')\n",
    "\n",
    "test_loss_ViT = model.evaluate(test_data)\n",
    "\n",
    "del model\n",
    "keras.backend.clear_session()"
   ]
  },
  {
   "cell_type": "code",
   "execution_count": null,
   "metadata": {},
   "outputs": [],
   "source": [
    "plot_history(hst)"
   ]
  },
  {
   "cell_type": "code",
   "execution_count": null,
   "metadata": {},
   "outputs": [],
   "source": [
    "print(f\"Vision transformer test loss: {test_loss_ViT}\")"
   ]
  }
 ],
 "metadata": {
  "kernelspec": {
   "display_name": "Python 3 (ipykernel)",
   "language": "python",
   "name": "python3"
  },
  "language_info": {
   "codemirror_mode": {
    "name": "ipython",
    "version": 3
   },
   "file_extension": ".py",
   "mimetype": "text/x-python",
   "name": "python",
   "nbconvert_exporter": "python",
   "pygments_lexer": "ipython3",
   "version": "3.11.0rc1"
  }
 },
 "nbformat": 4,
 "nbformat_minor": 4
}
