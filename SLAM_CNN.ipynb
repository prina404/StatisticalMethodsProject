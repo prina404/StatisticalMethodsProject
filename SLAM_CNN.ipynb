{
 "cells": [
  {
   "cell_type": "markdown",
   "metadata": {},
   "source": [
    "## Imports and global parameters"
   ]
  },
  {
   "cell_type": "code",
   "execution_count": 1,
   "metadata": {},
   "outputs": [
    {
     "name": "stderr",
     "output_type": "stream",
     "text": [
      "2024-08-24 11:27:26.373494: I external/local_tsl/tsl/cuda/cudart_stub.cc:31] Could not find cuda drivers on your machine, GPU will not be used.\n",
      "2024-08-24 11:27:26.650388: E external/local_xla/xla/stream_executor/cuda/cuda_dnn.cc:9261] Unable to register cuDNN factory: Attempting to register factory for plugin cuDNN when one has already been registered\n",
      "2024-08-24 11:27:26.650464: E external/local_xla/xla/stream_executor/cuda/cuda_fft.cc:607] Unable to register cuFFT factory: Attempting to register factory for plugin cuFFT when one has already been registered\n",
      "2024-08-24 11:27:26.708945: E external/local_xla/xla/stream_executor/cuda/cuda_blas.cc:1515] Unable to register cuBLAS factory: Attempting to register factory for plugin cuBLAS when one has already been registered\n",
      "2024-08-24 11:27:26.820772: I external/local_tsl/tsl/cuda/cudart_stub.cc:31] Could not find cuda drivers on your machine, GPU will not be used.\n",
      "2024-08-24 11:27:26.823555: I tensorflow/core/platform/cpu_feature_guard.cc:182] This TensorFlow binary is optimized to use available CPU instructions in performance-critical operations.\n",
      "To enable the following instructions: AVX2 FMA, in other operations, rebuild TensorFlow with the appropriate compiler flags.\n",
      "2024-08-24 11:27:28.246533: W tensorflow/compiler/tf2tensorrt/utils/py_utils.cc:38] TF-TRT Warning: Could not find TensorRT\n"
     ]
    }
   ],
   "source": [
    "import tensorflow as tf\n",
    "import tensorflow_hub as hub\n",
    "import keras\n",
    "import optuna\n",
    "import numpy as np\n",
    "import sklearn as sk\n",
    "import matplotlib.pyplot as plt\n",
    "import pandas as pd\n",
    "import cv2 \n",
    "import os\n",
    "import sys\n",
    "import random\n",
    "import logging\n",
    "from sklearn.model_selection import train_test_split, KFold\n",
    "from keras import layers\n",
    "from optuna.visualization import plot_slice"
   ]
  },
  {
   "cell_type": "code",
   "execution_count": 2,
   "metadata": {},
   "outputs": [
    {
     "name": "stdout",
     "output_type": "stream",
     "text": [
      "[]\n"
     ]
    }
   ],
   "source": [
    "print(tf.config.list_physical_devices('GPU'))"
   ]
  },
  {
   "cell_type": "code",
   "execution_count": 3,
   "metadata": {},
   "outputs": [],
   "source": [
    "IMG_PATH = 'data/img/'\n",
    "AUTO = tf.data.AUTOTUNE\n",
    "BATCH_SIZE = 128\n",
    "IM_SHAPE = (500,500, 3)\n",
    "MAX_EPOCHS = 40\n",
    "MODEL_SELECTION_STEPS = 50\n",
    "\n",
    "BACKBONE_MODEL = 'efficientnet'"
   ]
  },
  {
   "cell_type": "markdown",
   "metadata": {},
   "source": [
    "# Data preprocessing"
   ]
  },
  {
   "cell_type": "markdown",
   "metadata": {},
   "source": [
    "### Read csv files and create datasets"
   ]
  },
  {
   "cell_type": "code",
   "execution_count": 4,
   "metadata": {},
   "outputs": [
    {
     "data": {
      "text/html": [
       "<div>\n",
       "<style scoped>\n",
       "    .dataframe tbody tr th:only-of-type {\n",
       "        vertical-align: middle;\n",
       "    }\n",
       "\n",
       "    .dataframe tbody tr th {\n",
       "        vertical-align: top;\n",
       "    }\n",
       "\n",
       "    .dataframe thead th {\n",
       "        text-align: right;\n",
       "    }\n",
       "</style>\n",
       "<table border=\"1\" class=\"dataframe\">\n",
       "  <thead>\n",
       "    <tr style=\"text-align: right;\">\n",
       "      <th></th>\n",
       "      <th>id</th>\n",
       "      <th>translErr</th>\n",
       "      <th>rotErr</th>\n",
       "    </tr>\n",
       "  </thead>\n",
       "  <tbody>\n",
       "    <tr>\n",
       "      <th>0</th>\n",
       "      <td>data/img/32-G5.png</td>\n",
       "      <td>0.549900</td>\n",
       "      <td>0.049978</td>\n",
       "    </tr>\n",
       "    <tr>\n",
       "      <th>1</th>\n",
       "      <td>data/img/32-G7.png</td>\n",
       "      <td>0.655930</td>\n",
       "      <td>0.048543</td>\n",
       "    </tr>\n",
       "    <tr>\n",
       "      <th>2</th>\n",
       "      <td>data/img/32-G9.png</td>\n",
       "      <td>0.461634</td>\n",
       "      <td>0.035468</td>\n",
       "    </tr>\n",
       "    <tr>\n",
       "      <th>3</th>\n",
       "      <td>data/img/32-D8.png</td>\n",
       "      <td>0.518458</td>\n",
       "      <td>0.041766</td>\n",
       "    </tr>\n",
       "    <tr>\n",
       "      <th>4</th>\n",
       "      <td>data/img/W31-2.png</td>\n",
       "      <td>0.222666</td>\n",
       "      <td>0.017267</td>\n",
       "    </tr>\n",
       "  </tbody>\n",
       "</table>\n",
       "</div>"
      ],
      "text/plain": [
       "                   id  translErr    rotErr\n",
       "0  data/img/32-G5.png   0.549900  0.049978\n",
       "1  data/img/32-G7.png   0.655930  0.048543\n",
       "2  data/img/32-G9.png   0.461634  0.035468\n",
       "3  data/img/32-D8.png   0.518458  0.041766\n",
       "4  data/img/W31-2.png   0.222666  0.017267"
      ]
     },
     "execution_count": 4,
     "metadata": {},
     "output_type": "execute_result"
    }
   ],
   "source": [
    "df = pd.read_csv('data/data.csv')\n",
    "df['id'] = df['id'].apply(lambda id: os.path.join(IMG_PATH, id))\n",
    "df.head()"
   ]
  },
  {
   "cell_type": "code",
   "execution_count": 5,
   "metadata": {},
   "outputs": [
    {
     "data": {
      "image/png": "[encoded data removed]",
      "text/plain": [
       "<Figure size 1000x480 with 2 Axes>"
      ]
     },
     "metadata": {},
     "output_type": "display_data"
    }
   ],
   "source": [
    "fig, ax = plt.subplots(1, 2)\n",
    "fig.set_figwidth(10)\n",
    "df['translErr'].plot.hist(bins=60, title='Average translational error', ax=ax[0])\n",
    "df['rotErr'].plot.hist(bins=40, title='Average rotational error', ax=ax[1])\n",
    "plt.show()"
   ]
  },
  {
   "cell_type": "markdown",
   "metadata": {},
   "source": [
    "#### Data rescaling"
   ]
  },
  {
   "cell_type": "code",
   "execution_count": 6,
   "metadata": {},
   "outputs": [
    {
     "data": {
      "text/html": [
       "<div>\n",
       "<style scoped>\n",
       "    .dataframe tbody tr th:only-of-type {\n",
       "        vertical-align: middle;\n",
       "    }\n",
       "\n",
       "    .dataframe tbody tr th {\n",
       "        vertical-align: top;\n",
       "    }\n",
       "\n",
       "    .dataframe thead th {\n",
       "        text-align: right;\n",
       "    }\n",
       "</style>\n",
       "<table border=\"1\" class=\"dataframe\">\n",
       "  <thead>\n",
       "    <tr style=\"text-align: right;\">\n",
       "      <th></th>\n",
       "      <th>id</th>\n",
       "      <th>translErr</th>\n",
       "      <th>rotErr</th>\n",
       "    </tr>\n",
       "  </thead>\n",
       "  <tbody>\n",
       "    <tr>\n",
       "      <th>0</th>\n",
       "      <td>data/img/32-G5.png</td>\n",
       "      <td>0.266868</td>\n",
       "      <td>0.518146</td>\n",
       "    </tr>\n",
       "    <tr>\n",
       "      <th>1</th>\n",
       "      <td>data/img/32-G7.png</td>\n",
       "      <td>0.318330</td>\n",
       "      <td>0.503249</td>\n",
       "    </tr>\n",
       "    <tr>\n",
       "      <th>2</th>\n",
       "      <td>data/img/32-G9.png</td>\n",
       "      <td>0.224028</td>\n",
       "      <td>0.367515</td>\n",
       "    </tr>\n",
       "    <tr>\n",
       "      <th>3</th>\n",
       "      <td>data/img/32-D8.png</td>\n",
       "      <td>0.251607</td>\n",
       "      <td>0.432896</td>\n",
       "    </tr>\n",
       "    <tr>\n",
       "      <th>4</th>\n",
       "      <td>data/img/W31-2.png</td>\n",
       "      <td>0.108043</td>\n",
       "      <td>0.178567</td>\n",
       "    </tr>\n",
       "  </tbody>\n",
       "</table>\n",
       "</div>"
      ],
      "text/plain": [
       "                   id  translErr    rotErr\n",
       "0  data/img/32-G5.png   0.266868  0.518146\n",
       "1  data/img/32-G7.png   0.318330  0.503249\n",
       "2  data/img/32-G9.png   0.224028  0.367515\n",
       "3  data/img/32-D8.png   0.251607  0.432896\n",
       "4  data/img/W31-2.png   0.108043  0.178567"
      ]
     },
     "execution_count": 6,
     "metadata": {},
     "output_type": "execute_result"
    }
   ],
   "source": [
    "# TODO: ragiona bene su scaling dei dati\n",
    "rescaler_rot = sk.preprocessing.MinMaxScaler()\n",
    "rescaler_transl = sk.preprocessing.MinMaxScaler()\n",
    "df['rotErr'] = rescaler_rot.fit_transform(df['rotErr'].values.reshape(-1,1)).squeeze()\n",
    "df['translErr'] = rescaler_transl.fit_transform(df['translErr'].values.reshape(-1,1)).squeeze()\n",
    "df.head()"
   ]
  },
  {
   "cell_type": "markdown",
   "metadata": {},
   "source": [
    "##### Data partitioning and dataset creation"
   ]
  },
  {
   "cell_type": "code",
   "execution_count": 7,
   "metadata": {},
   "outputs": [],
   "source": [
    "train_df, test_df = train_test_split(df, test_size=0.3, random_state=42)\n",
    "val_df, test_df = train_test_split(test_df, test_size=0.5, random_state=42)"
   ]
  },
  {
   "cell_type": "code",
   "execution_count": 8,
   "metadata": {},
   "outputs": [],
   "source": [
    "def load_image(id: tf.types.experimental):\n",
    "    image = tf.io.read_file(id)\n",
    "    image = tf.image.decode_png(image)\n",
    "    return image\n",
    "\n",
    "def data_augmentation(img: np.ndarray):\n",
    "    rotation = random.randint(0, 3)\n",
    "    img = tf.image.rot90(img, k=rotation)\n",
    "    img = tf.image.random_flip_up_down(img)\n",
    "    img = tf.image.random_flip_left_right(img)\n",
    "    return img\n",
    "\n",
    "\n",
    "def load_dataset(df: pd.DataFrame, augment=False) -> tf.data.Dataset:\n",
    "    X = tf.data.Dataset.from_tensor_slices(df[\"id\"].values)\n",
    "    Y = tf.data.Dataset.from_tensor_slices(df[[\"translErr\", \"rotErr\"]].values)\n",
    "\n",
    "    X = X.map(load_image, num_parallel_calls=AUTO)\n",
    "    \n",
    "    if augment:\n",
    "        X = X.map(lambda img: data_augmentation(img), num_parallel_calls=AUTO)\n",
    "\n",
    "    dataset = tf.data.Dataset.zip(X, Y)\n",
    "    dataset = dataset.shuffle(500)\n",
    "    dataset = dataset.batch(\n",
    "        batch_size=BATCH_SIZE,\n",
    "        num_parallel_calls=AUTO,\n",
    "        deterministic=False,\n",
    "        drop_remainder=False,\n",
    "    )\n",
    "    dataset = dataset.prefetch(AUTO)\n",
    "    return dataset\n",
    "\n",
    "\n",
    "train_data = load_dataset(train_df, augment=True)\n",
    "val_data = load_dataset(val_df)\n",
    "test_data = load_dataset(test_df)"
   ]
  },
  {
   "cell_type": "code",
   "execution_count": 9,
   "metadata": {},
   "outputs": [
    {
     "data": {
      "text/plain": [
       "(<tf.Tensor: shape=(128, 500, 500, 1), dtype=uint8, numpy=\n",
       " array([[[[205],\n",
       "          [205],\n",
       "          [205],\n",
       "          ...,\n",
       "          [205],\n",
       "          [205],\n",
       "          [205]],\n",
       " \n",
       "         [[205],\n",
       "          [205],\n",
       "          [205],\n",
       "          ...,\n",
       "          [205],\n",
       "          [205],\n",
       "          [205]],\n",
       " \n",
       "         [[205],\n",
       "          [205],\n",
       "          [205],\n",
       "          ...,\n",
       "          [205],\n",
       "          [205],\n",
       "          [205]],\n",
       " \n",
       "         ...,\n",
       " \n",
       "         [[205],\n",
       "          [205],\n",
       "          [205],\n",
       "          ...,\n",
       "          [205],\n",
       "          [205],\n",
       "          [205]],\n",
       " \n",
       "         [[205],\n",
       "          [205],\n",
       "          [205],\n",
       "          ...,\n",
       "          [205],\n",
       "          [205],\n",
       "          [205]],\n",
       " \n",
       "         [[205],\n",
       "          [205],\n",
       "          [205],\n",
       "          ...,\n",
       "          [205],\n",
       "          [205],\n",
       "          [205]]],\n",
       " \n",
       " \n",
       "        [[[205],\n",
       "          [205],\n",
       "          [205],\n",
       "          ...,\n",
       "          [205],\n",
       "          [205],\n",
       "          [205]],\n",
       " \n",
       "         [[205],\n",
       "          [205],\n",
       "          [205],\n",
       "          ...,\n",
       "          [205],\n",
       "          [205],\n",
       "          [205]],\n",
       " \n",
       "         [[205],\n",
       "          [205],\n",
       "          [205],\n",
       "          ...,\n",
       "          [205],\n",
       "          [205],\n",
       "          [205]],\n",
       " \n",
       "         ...,\n",
       " \n",
       "         [[205],\n",
       "          [205],\n",
       "          [205],\n",
       "          ...,\n",
       "          [205],\n",
       "          [205],\n",
       "          [205]],\n",
       " \n",
       "         [[205],\n",
       "          [205],\n",
       "          [205],\n",
       "          ...,\n",
       "          [205],\n",
       "          [205],\n",
       "          [205]],\n",
       " \n",
       "         [[205],\n",
       "          [205],\n",
       "          [205],\n",
       "          ...,\n",
       "          [205],\n",
       "          [205],\n",
       "          [205]]],\n",
       " \n",
       " \n",
       "        [[[205],\n",
       "          [205],\n",
       "          [205],\n",
       "          ...,\n",
       "          [205],\n",
       "          [205],\n",
       "          [205]],\n",
       " \n",
       "         [[205],\n",
       "          [205],\n",
       "          [205],\n",
       "          ...,\n",
       "          [205],\n",
       "          [205],\n",
       "          [205]],\n",
       " \n",
       "         [[205],\n",
       "          [205],\n",
       "          [205],\n",
       "          ...,\n",
       "          [205],\n",
       "          [205],\n",
       "          [205]],\n",
       " \n",
       "         ...,\n",
       " \n",
       "         [[205],\n",
       "          [205],\n",
       "          [205],\n",
       "          ...,\n",
       "          [205],\n",
       "          [205],\n",
       "          [205]],\n",
       " \n",
       "         [[205],\n",
       "          [205],\n",
       "          [205],\n",
       "          ...,\n",
       "          [205],\n",
       "          [205],\n",
       "          [205]],\n",
       " \n",
       "         [[205],\n",
       "          [205],\n",
       "          [205],\n",
       "          ...,\n",
       "          [205],\n",
       "          [205],\n",
       "          [205]]],\n",
       " \n",
       " \n",
       "        ...,\n",
       " \n",
       " \n",
       "        [[[205],\n",
       "          [205],\n",
       "          [205],\n",
       "          ...,\n",
       "          [205],\n",
       "          [205],\n",
       "          [205]],\n",
       " \n",
       "         [[205],\n",
       "          [205],\n",
       "          [205],\n",
       "          ...,\n",
       "          [205],\n",
       "          [205],\n",
       "          [205]],\n",
       " \n",
       "         [[205],\n",
       "          [205],\n",
       "          [205],\n",
       "          ...,\n",
       "          [205],\n",
       "          [205],\n",
       "          [205]],\n",
       " \n",
       "         ...,\n",
       " \n",
       "         [[205],\n",
       "          [205],\n",
       "          [205],\n",
       "          ...,\n",
       "          [205],\n",
       "          [205],\n",
       "          [205]],\n",
       " \n",
       "         [[205],\n",
       "          [205],\n",
       "          [205],\n",
       "          ...,\n",
       "          [205],\n",
       "          [205],\n",
       "          [205]],\n",
       " \n",
       "         [[205],\n",
       "          [205],\n",
       "          [205],\n",
       "          ...,\n",
       "          [205],\n",
       "          [205],\n",
       "          [205]]],\n",
       " \n",
       " \n",
       "        [[[205],\n",
       "          [205],\n",
       "          [205],\n",
       "          ...,\n",
       "          [205],\n",
       "          [205],\n",
       "          [205]],\n",
       " \n",
       "         [[205],\n",
       "          [205],\n",
       "          [205],\n",
       "          ...,\n",
       "          [205],\n",
       "          [205],\n",
       "          [205]],\n",
       " \n",
       "         [[205],\n",
       "          [205],\n",
       "          [205],\n",
       "          ...,\n",
       "          [205],\n",
       "          [205],\n",
       "          [205]],\n",
       " \n",
       "         ...,\n",
       " \n",
       "         [[205],\n",
       "          [205],\n",
       "          [205],\n",
       "          ...,\n",
       "          [205],\n",
       "          [205],\n",
       "          [205]],\n",
       " \n",
       "         [[205],\n",
       "          [205],\n",
       "          [205],\n",
       "          ...,\n",
       "          [205],\n",
       "          [205],\n",
       "          [205]],\n",
       " \n",
       "         [[205],\n",
       "          [205],\n",
       "          [205],\n",
       "          ...,\n",
       "          [205],\n",
       "          [205],\n",
       "          [205]]],\n",
       " \n",
       " \n",
       "        [[[205],\n",
       "          [205],\n",
       "          [205],\n",
       "          ...,\n",
       "          [205],\n",
       "          [205],\n",
       "          [205]],\n",
       " \n",
       "         [[205],\n",
       "          [205],\n",
       "          [205],\n",
       "          ...,\n",
       "          [205],\n",
       "          [205],\n",
       "          [205]],\n",
       " \n",
       "         [[205],\n",
       "          [205],\n",
       "          [205],\n",
       "          ...,\n",
       "          [205],\n",
       "          [205],\n",
       "          [205]],\n",
       " \n",
       "         ...,\n",
       " \n",
       "         [[205],\n",
       "          [205],\n",
       "          [205],\n",
       "          ...,\n",
       "          [205],\n",
       "          [205],\n",
       "          [205]],\n",
       " \n",
       "         [[205],\n",
       "          [205],\n",
       "          [205],\n",
       "          ...,\n",
       "          [205],\n",
       "          [205],\n",
       "          [205]],\n",
       " \n",
       "         [[205],\n",
       "          [205],\n",
       "          [205],\n",
       "          ...,\n",
       "          [205],\n",
       "          [205],\n",
       "          [205]]]], dtype=uint8)>,\n",
       " <tf.Tensor: shape=(128, 2), dtype=float64, numpy=\n",
       " array([[7.53644164e-02, 7.45369986e-02],\n",
       "        [4.05741940e-02, 9.71991529e-02],\n",
       "        [4.70997875e-02, 1.25166099e-01],\n",
       "        [4.97551628e-02, 2.94057803e-01],\n",
       "        [5.52799550e-02, 5.85707167e-02],\n",
       "        [1.12186819e-01, 1.15760734e-01],\n",
       "        [1.00910089e-02, 2.32393489e-01],\n",
       "        [4.87213574e-02, 1.68383025e-02],\n",
       "        [1.95931369e-01, 1.88470642e-01],\n",
       "        [6.30718388e-02, 2.15088033e-01],\n",
       "        [1.11461699e-02, 2.65831326e-01],\n",
       "        [3.99835174e-02, 9.13233951e-02],\n",
       "        [1.67089653e-01, 3.56230795e-01],\n",
       "        [1.53522049e-01, 7.95822606e-02],\n",
       "        [1.01092097e-01, 2.39494228e-01],\n",
       "        [1.00377169e-01, 2.32995598e-01],\n",
       "        [6.33892608e-02, 2.77157213e-01],\n",
       "        [6.30524246e-02, 9.56419733e-02],\n",
       "        [1.01271192e-01, 2.10883648e-01],\n",
       "        [1.20634902e-02, 2.43501370e-01],\n",
       "        [4.91897247e-02, 7.02391828e-02],\n",
       "        [6.92188556e-02, 6.41558010e-02],\n",
       "        [2.69027238e-02, 4.20957562e-02],\n",
       "        [1.62361813e-01, 3.11581264e-01],\n",
       "        [4.44560606e-02, 7.03326136e-02],\n",
       "        [6.18715567e-02, 3.32800432e-01],\n",
       "        [5.90414537e-02, 3.51714974e-02],\n",
       "        [5.27400940e-02, 5.80412756e-02],\n",
       "        [7.33181611e-02, 7.72049664e-02],\n",
       "        [5.92928674e-02, 8.33713977e-02],\n",
       "        [1.03884342e-01, 1.15760734e-01],\n",
       "        [7.45776565e-02, 2.75361266e-01],\n",
       "        [1.22202598e-01, 2.58273814e-01],\n",
       "        [7.24440374e-03, 1.89176563e-01],\n",
       "        [1.99469604e-01, 3.48496803e-01],\n",
       "        [1.66221839e-01, 2.78060377e-01],\n",
       "        [9.12733716e-02, 1.89882485e-01],\n",
       "        [5.55944648e-02, 6.92010630e-02],\n",
       "        [3.74470539e-02, 4.81583756e-02],\n",
       "        [8.88203892e-02, 1.73552861e-01],\n",
       "        [8.12920529e-03, 1.73656673e-01],\n",
       "        [1.10094455e-01, 2.14984221e-01],\n",
       "        [6.18429208e-02, 4.71721618e-02],\n",
       "        [9.14019906e-03, 1.29443153e-01],\n",
       "        [2.35663958e-02, 1.76480359e-04],\n",
       "        [3.10792007e-02, 2.45100075e-02],\n",
       "        [5.33108711e-02, 5.84980483e-02],\n",
       "        [1.16522977e-01, 8.63611826e-02],\n",
       "        [1.92176180e-02, 3.00535670e-02],\n",
       "        [3.38311616e-02, 9.57354040e-02],\n",
       "        [5.21023380e-02, 7.12357778e-02],\n",
       "        [6.52704954e-02, 6.59725106e-02],\n",
       "        [9.72514851e-02, 2.65374554e-01],\n",
       "        [7.36511144e-02, 5.19994187e-02],\n",
       "        [4.76642549e-02, 7.56166431e-02],\n",
       "        [3.77901996e-02, 3.05518645e-02],\n",
       "        [1.43526655e-01, 3.15515738e-01],\n",
       "        [4.52564104e-02, 5.01204219e-02],\n",
       "        [7.79562103e-02, 3.50853334e-01],\n",
       "        [6.93033074e-02, 2.87995183e-01],\n",
       "        [7.83124607e-02, 2.14060294e-01],\n",
       "        [1.51799040e-01, 5.46341666e-01],\n",
       "        [4.64979477e-02, 4.12341168e-02],\n",
       "        [6.07979522e-02, 1.43997592e-01],\n",
       "        [8.40857544e-02, 1.83487667e-01],\n",
       "        [4.12677658e-02, 9.53824433e-02],\n",
       "        [1.00765938e-01, 2.40034050e-01],\n",
       "        [1.47950663e-02, 1.78868034e-01],\n",
       "        [4.12803850e-02, 7.92812059e-02],\n",
       "        [1.32162075e-01, 2.64118429e-01],\n",
       "        [5.00735555e-02, 2.75309360e-02],\n",
       "        [6.19584352e-02, 6.30657753e-02],\n",
       "        [2.48757856e-01, 2.20766548e-01],\n",
       "        [5.90249516e-02, 3.84000498e-02],\n",
       "        [6.14167794e-02, 1.88418736e-02],\n",
       "        [1.32263515e-01, 3.05030728e-01],\n",
       "        [2.73837102e-02, 6.16746948e-02],\n",
       "        [1.90953086e-02, 3.42683332e-02],\n",
       "        [4.95323850e-02, 3.98845611e-02],\n",
       "        [9.43218843e-02, 1.40135786e-01],\n",
       "        [1.11188444e-01, 3.20540238e-01],\n",
       "        [4.31543394e-02, 4.76600781e-02],\n",
       "        [6.52044872e-02, 3.10999917e-01],\n",
       "        [6.00718616e-02, 2.85856656e-01],\n",
       "        [6.86378861e-02, 1.76366166e-01],\n",
       "        [7.74043621e-02, 5.58819865e-02],\n",
       "        [3.69068541e-02, 6.57856490e-02],\n",
       "        [7.32497261e-02, 6.77684578e-02],\n",
       "        [4.82607558e-02, 4.67257703e-02],\n",
       "        [7.91657142e-02, 2.22510589e-01],\n",
       "        [1.05230716e-01, 2.96414334e-01],\n",
       "        [4.16919658e-02, 3.76629848e-02],\n",
       "        [9.27935025e-02, 2.87195831e-01],\n",
       "        [6.18031217e-02, 6.49655344e-02],\n",
       "        [5.84837811e-02, 9.81230795e-02],\n",
       "        [4.10144107e-02, 8.90602940e-02],\n",
       "        [6.88640614e-02, 6.12283033e-02],\n",
       "        [5.13966323e-02, 1.45274479e-01],\n",
       "        [6.14099844e-02, 7.15056889e-02],\n",
       "        [4.78064639e-02, 4.89369654e-02],\n",
       "        [8.91708152e-02, 2.36992359e-01],\n",
       "        [4.73026657e-02, 7.09243418e-02],\n",
       "        [6.94833739e-03, 4.43277136e-03],\n",
       "        [7.36190810e-02, 1.10746616e-01],\n",
       "        [2.05348705e-01, 2.09015032e-01],\n",
       "        [3.78683417e-02, 5.27468649e-02],\n",
       "        [3.04458128e-02, 6.24844282e-02],\n",
       "        [2.74322457e-02, 1.44765800e-01],\n",
       "        [3.90962890e-02, 4.61755668e-02],\n",
       "        [4.68148843e-02, 8.80014118e-02],\n",
       "        [7.68520285e-02, 5.32451624e-02],\n",
       "        [4.51627370e-02, 5.24561913e-02],\n",
       "        [1.56496302e-01, 8.50323893e-02],\n",
       "        [4.75531087e-02, 3.48392991e-02],\n",
       "        [7.44388451e-03, 1.83394236e-01],\n",
       "        [3.62543433e-01, 2.03959389e-01],\n",
       "        [2.16686590e-02, 2.01914293e-02],\n",
       "        [2.31339448e-02, 2.41778092e-02],\n",
       "        [1.46856673e-01, 1.00137032e-01],\n",
       "        [1.03421799e-01, 5.05979570e-02],\n",
       "        [9.15762330e-02, 3.23509260e-01],\n",
       "        [3.53765309e-02, 4.04762893e-02],\n",
       "        [7.69340534e-02, 7.79731750e-02],\n",
       "        [3.77955385e-02, 8.74408272e-02],\n",
       "        [8.13731072e-02, 1.01808405e-01],\n",
       "        [2.24141638e-02, 2.92438336e-02],\n",
       "        [1.35705650e-01, 3.23260111e-01],\n",
       "        [3.22231816e-02, 2.89323976e-02]])>)"
      ]
     },
     "execution_count": 9,
     "metadata": {},
     "output_type": "execute_result"
    }
   ],
   "source": [
    "train_data.take(1).get_single_element()"
   ]
  },
  {
   "cell_type": "code",
   "execution_count": 10,
   "metadata": {},
   "outputs": [
    {
     "data": {
      "image/png": "[encoded data removed]",
      "text/plain": [
       "<Figure size 640x480 with 1 Axes>"
      ]
     },
     "metadata": {},
     "output_type": "display_data"
    }
   ],
   "source": [
    "for r in val_data.take(1).as_numpy_iterator():\n",
    "    r, l = r[0], r[1]\n",
    "    plt.imshow(r[0], cmap='gray')\n",
    "    plt.title(l[0])\n",
    "    plt.show()\n",
    "    break"
   ]
  },
  {
   "cell_type": "code",
   "execution_count": 11,
   "metadata": {},
   "outputs": [],
   "source": [
    "def plot_history(hst: keras.callbacks.History):\n",
    "    metrics = [\"loss\"]\n",
    "    _, ax = plt.subplots(1, len(metrics), figsize=(15, 5))\n",
    "    for _, metric in enumerate(metrics):\n",
    "        ax.plot(hst.history[metric])\n",
    "        ax.plot(hst.history[\"val_\" + metric])\n",
    "        ax.set(title=\"model \" + metric, ylabel=metric, xlabel=\"epoch\")\n",
    "        ax.legend([metric, \"val_\" + metric], loc=\"upper left\")\n",
    "    plt.show()"
   ]
  },
  {
   "cell_type": "markdown",
   "metadata": {},
   "source": [
    "## Define the CNN structure"
   ]
  },
  {
   "cell_type": "code",
   "execution_count": 12,
   "metadata": {},
   "outputs": [],
   "source": [
    "def _build_efficientNet(input: layers.Layer):\n",
    "    effNet = keras.applications.EfficientNetV2B3(include_top=False, pooling=\"avg\")\n",
    "    effNet.trainable = False\n",
    "    return effNet(input)\n",
    "\n",
    "\n",
    "def _build_mobileNet(input: layers.Layer):\n",
    "    mobNet = keras.applications.MobileNetV3Large(include_top=False, pooling=\"avg\")\n",
    "    mobNet.trainable = False\n",
    "    return mobNet(input)\n",
    "\n",
    "\n",
    "def build_model(config: dict) -> keras.Model:  # EfficientNetV2B3\n",
    "    backbone_builder = {\n",
    "        \"efficientnet\": _build_efficientNet,\n",
    "        \"mobilenet\": _build_mobileNet,\n",
    "    }\n",
    "    backbone = backbone_builder[BACKBONE_MODEL]\n",
    "\n",
    "    input_layer = layers.Input(shape=IM_SHAPE)\n",
    "    x = backbone(input_layer)\n",
    "\n",
    "    for i in range(config[\"nLayers\"]):\n",
    "        x = layers.Dense(units=config[f\"layer{i}_units\"], name=f\"dense_{i}\")(x)\n",
    "        if config[\"batchNorm\"]:\n",
    "            x = layers.BatchNormalization()(x)\n",
    "\n",
    "        x = layers.Activation(\"relu\")(x)\n",
    "\n",
    "        if config[\"dropout\"]:\n",
    "            x = layers.Dropout(0.3)(x)\n",
    "\n",
    "    out = layers.Dense(2, \"sigmoid\", name=\"out_layer\")(x)\n",
    "\n",
    "    model = keras.Model(input_layer, out, name=f\"{BACKBONE_MODEL}_model\")\n",
    "\n",
    "    model.compile(\n",
    "        optimizer=keras.optimizers.Adam(learning_rate=config[\"lr\"]), loss=\"mse\"\n",
    "    )\n",
    "    return model"
   ]
  },
  {
   "cell_type": "code",
   "execution_count": 13,
   "metadata": {},
   "outputs": [
    {
     "name": "stderr",
     "output_type": "stream",
     "text": [
      "2024-08-24 11:27:54.565122: W external/local_tsl/tsl/framework/cpu_allocator_impl.cc:83] Allocation of 1280000000 exceeds 10% of free system memory.\n",
      "2024-08-24 11:27:55.193877: W external/local_tsl/tsl/framework/cpu_allocator_impl.cc:83] Allocation of 1280000000 exceeds 10% of free system memory.\n",
      "2024-08-24 11:27:58.294198: W external/local_tsl/tsl/framework/cpu_allocator_impl.cc:83] Allocation of 1280000000 exceeds 10% of free system memory.\n",
      "2024-08-24 11:27:59.411336: W external/local_tsl/tsl/framework/cpu_allocator_impl.cc:83] Allocation of 1280000000 exceeds 10% of free system memory.\n",
      "2024-08-24 11:28:00.394972: W external/local_tsl/tsl/framework/cpu_allocator_impl.cc:83] Allocation of 1280000000 exceeds 10% of free system memory.\n"
     ]
    },
    {
     "name": "stdout",
     "output_type": "stream",
     "text": [
      "1/1 [==============================] - 70s 70s/step - loss: 0.1261 - val_loss: 0.0654\n"
     ]
    },
    {
     "data": {
      "text/plain": [
       "<keras.src.callbacks.History at 0x79c77015a110>"
      ]
     },
     "execution_count": 13,
     "metadata": {},
     "output_type": "execute_result"
    }
   ],
   "source": [
    "baselineHyperparameters = {\n",
    "    \"lr\": 1e-4,\n",
    "    \"nLayers\": 3,\n",
    "    \"batchNorm\": False,\n",
    "    \"dropout\": True,\n",
    "    \"layer0_units\": 1024,\n",
    "    \"layer1_units\": 512,\n",
    "    \"layer2_units\": 128,\n",
    "}\n",
    "m = build_model(baselineHyperparameters)\n",
    "\n",
    "# Sanity check to verify that dataset and model have been built correctly\n",
    "m.fit(train_data.take(1), batch_size=BATCH_SIZE, epochs=1, validation_data=val_data.take(1))"
   ]
  },
  {
   "cell_type": "markdown",
   "metadata": {},
   "source": [
    "### Hyperparameter tuning"
   ]
  },
  {
   "cell_type": "code",
   "execution_count": 28,
   "metadata": {},
   "outputs": [],
   "source": [
    "def objective(trial: optuna.Trial) -> float:\n",
    "    best_val_loss = np.inf\n",
    "    patience = 0\n",
    "    config = {\n",
    "        \"lr\": trial.suggest_float(\"lr\", 1e-6, 1e-3, log=True),\n",
    "        \"nLayers\": trial.suggest_int(\"nLayers\", 1, 7),\n",
    "        \"batchNorm\": trial.suggest_categorical(\"batchNorm\", [True, False]),\n",
    "        \"dropout\": trial.suggest_categorical(\"dropout\", [True, False]),\n",
    "    }\n",
    "    for i in range(config[\"nLayers\"]):\n",
    "        config[f\"layer{i}_units\"] = trial.suggest_categorical(\n",
    "            f\"layer{i}_units\", [64, 128, 256, 512, 1024]\n",
    "        )\n",
    "\n",
    "    model = build_model(config)\n",
    "\n",
    "    for train_step in range(MAX_EPOCHS):\n",
    "        history = model.fit(train_data, batch_size=BATCH_SIZE, validation_data=val_data)\n",
    "        val_loss = history.history[\"val_loss\"][0]\n",
    "        # Implement earlystopping\n",
    "        if val_loss < best_val_loss:\n",
    "            best_val_loss = val_loss\n",
    "            patience = 0\n",
    "        else:\n",
    "            patience += 1\n",
    "\n",
    "        if patience > 5:\n",
    "            break\n",
    "\n",
    "        trial.report(val_loss, train_step)\n",
    "        if trial.should_prune():\n",
    "            raise optuna.TrialPruned()\n",
    "\n",
    "    return best_val_loss"
   ]
  },
  {
   "cell_type": "code",
   "execution_count": 31,
   "metadata": {},
   "outputs": [],
   "source": [
    "def kFoldCV(hyperPar: dict, training_set: pd.DataFrame, k: int) -> float:\n",
    "    df = training_set.reset_index(drop=True)\n",
    "    kf = KFold(n_splits=k, shuffle=True)\n",
    "    scores = []\n",
    "    for trainIdx, valIdx in kf.split(df):\n",
    "        train_data = load_dataset(df.iloc[trainIdx], augment=True)\n",
    "        val_data = load_dataset(df.iloc[valIdx])\n",
    "\n",
    "        model = build_model(hyperPar)\n",
    "        es = keras.callbacks.EarlyStopping(patience=5, restore_best_weights=True)\n",
    "        model.fit(train_data, \n",
    "                  batch_size=BATCH_SIZE,\n",
    "                  validation_data=val_data,\n",
    "                  epochs=MAX_EPOCHS,\n",
    "                  callbacks=[es]\n",
    "                  )\n",
    "        \n",
    "        result = model.evaluate(val_data, batch_size=BATCH_SIZE)\n",
    "        scores.append(result)\n",
    "    return np.avg(scores)   # TODO: magari ritorna tutto l'array così calcoli varianza sui fold?"
   ]
  },
  {
   "cell_type": "markdown",
   "metadata": {},
   "source": [
    "#### Optimize EfficientNetV2"
   ]
  },
  {
   "cell_type": "code",
   "execution_count": null,
   "metadata": {},
   "outputs": [],
   "source": [
    "optuna.logging.get_logger(\"optuna\").addHandler(logging.StreamHandler(sys.stdout))\n",
    "study = optuna.create_study(\n",
    "    direction=\"minimize\",\n",
    "    sampler=optuna.samplers.TPESampler(),\n",
    "    pruner=optuna.pruners.HyperbandPruner(),\n",
    "    study_name='efficientNet_study'\n",
    ")\n",
    "\n",
    "study.enqueue_trial(baselineHyperparameters)    # Test on baseline parameters first and optimize from there\n",
    "study.optimize(objective, n_trials=MODEL_SELECTION_STEPS, gc_after_trial=True)"
   ]
  },
  {
   "cell_type": "code",
   "execution_count": 15,
   "metadata": {},
   "outputs": [
    {
     "data": {
      "application/vnd.plotly.v1+json": {
       "config": {
        "plotlyServerURL": "https://plot.ly"
       },
       "data": [
        {
         "marker": {
          "color": [
           0
          ],
          "colorbar": {
           "title": {
            "text": "Trial"
           },
           "x": 1,
           "xpad": 40
          },
          "colorscale": [
           [
            0,
            "rgb(247,251,255)"
           ],
           [
            0.125,
            "rgb(222,235,247)"
           ],
           [
            0.25,
            "rgb(198,219,239)"
           ],
           [
            0.375,
            "rgb(158,202,225)"
           ],
           [
            0.5,
            "rgb(107,174,214)"
           ],
           [
            0.625,
            "rgb(66,146,198)"
           ],
           [
            0.75,
            "rgb(33,113,181)"
           ],
           [
            0.875,
            "rgb(8,81,156)"
           ],
           [
            1,
            "rgb(8,48,107)"
           ]
          ],
          "line": {
           "color": "Grey",
           "width": 0.5
          },
          "showscale": true
         },
         "mode": "markers",
         "name": "Feasible Trial",
         "showlegend": false,
         "type": "scatter",
         "x": [
          true
         ],
         "xaxis": "x",
         "y": [
          0.018668627366423607
         ],
         "yaxis": "y"
        },
        {
         "marker": {
          "color": [
           0
          ],
          "colorbar": {
           "title": {
            "text": "Trial"
           },
           "x": 1,
           "xpad": 40
          },
          "colorscale": [
           [
            0,
            "rgb(247,251,255)"
           ],
           [
            0.125,
            "rgb(222,235,247)"
           ],
           [
            0.25,
            "rgb(198,219,239)"
           ],
           [
            0.375,
            "rgb(158,202,225)"
           ],
           [
            0.5,
            "rgb(107,174,214)"
           ],
           [
            0.625,
            "rgb(66,146,198)"
           ],
           [
            0.75,
            "rgb(33,113,181)"
           ],
           [
            0.875,
            "rgb(8,81,156)"
           ],
           [
            1,
            "rgb(8,48,107)"
           ]
          ],
          "line": {
           "color": "Grey",
           "width": 0.5
          },
          "showscale": false
         },
         "mode": "markers",
         "name": "Feasible Trial",
         "showlegend": false,
         "type": "scatter",
         "x": [
          false
         ],
         "xaxis": "x2",
         "y": [
          0.018668627366423607
         ],
         "yaxis": "y2"
        },
        {
         "marker": {
          "color": [
           0
          ],
          "colorbar": {
           "title": {
            "text": "Trial"
           },
           "x": 1,
           "xpad": 40
          },
          "colorscale": [
           [
            0,
            "rgb(247,251,255)"
           ],
           [
            0.125,
            "rgb(222,235,247)"
           ],
           [
            0.25,
            "rgb(198,219,239)"
           ],
           [
            0.375,
            "rgb(158,202,225)"
           ],
           [
            0.5,
            "rgb(107,174,214)"
           ],
           [
            0.625,
            "rgb(66,146,198)"
           ],
           [
            0.75,
            "rgb(33,113,181)"
           ],
           [
            0.875,
            "rgb(8,81,156)"
           ],
           [
            1,
            "rgb(8,48,107)"
           ]
          ],
          "line": {
           "color": "Grey",
           "width": 0.5
          },
          "showscale": false
         },
         "mode": "markers",
         "name": "Feasible Trial",
         "showlegend": false,
         "type": "scatter",
         "x": [
          896
         ],
         "xaxis": "x3",
         "y": [
          0.018668627366423607
         ],
         "yaxis": "y3"
        },
        {
         "marker": {
          "color": [
           0
          ],
          "colorbar": {
           "title": {
            "text": "Trial"
           },
           "x": 1,
           "xpad": 40
          },
          "colorscale": [
           [
            0,
            "rgb(247,251,255)"
           ],
           [
            0.125,
            "rgb(222,235,247)"
           ],
           [
            0.25,
            "rgb(198,219,239)"
           ],
           [
            0.375,
            "rgb(158,202,225)"
           ],
           [
            0.5,
            "rgb(107,174,214)"
           ],
           [
            0.625,
            "rgb(66,146,198)"
           ],
           [
            0.75,
            "rgb(33,113,181)"
           ],
           [
            0.875,
            "rgb(8,81,156)"
           ],
           [
            1,
            "rgb(8,48,107)"
           ]
          ],
          "line": {
           "color": "Grey",
           "width": 0.5
          },
          "showscale": false
         },
         "mode": "markers",
         "name": "Feasible Trial",
         "showlegend": false,
         "type": "scatter",
         "x": [
          896
         ],
         "xaxis": "x4",
         "y": [
          0.018668627366423607
         ],
         "yaxis": "y4"
        },
        {
         "marker": {
          "color": [
           0
          ],
          "colorbar": {
           "title": {
            "text": "Trial"
           },
           "x": 1,
           "xpad": 40
          },
          "colorscale": [
           [
            0,
            "rgb(247,251,255)"
           ],
           [
            0.125,
            "rgb(222,235,247)"
           ],
           [
            0.25,
            "rgb(198,219,239)"
           ],
           [
            0.375,
            "rgb(158,202,225)"
           ],
           [
            0.5,
            "rgb(107,174,214)"
           ],
           [
            0.625,
            "rgb(66,146,198)"
           ],
           [
            0.75,
            "rgb(33,113,181)"
           ],
           [
            0.875,
            "rgb(8,81,156)"
           ],
           [
            1,
            "rgb(8,48,107)"
           ]
          ],
          "line": {
           "color": "Grey",
           "width": 0.5
          },
          "showscale": false
         },
         "mode": "markers",
         "name": "Feasible Trial",
         "showlegend": false,
         "type": "scatter",
         "x": [
          192
         ],
         "xaxis": "x5",
         "y": [
          0.018668627366423607
         ],
         "yaxis": "y5"
        },
        {
         "marker": {
          "color": [
           0
          ],
          "colorbar": {
           "title": {
            "text": "Trial"
           },
           "x": 1,
           "xpad": 40
          },
          "colorscale": [
           [
            0,
            "rgb(247,251,255)"
           ],
           [
            0.125,
            "rgb(222,235,247)"
           ],
           [
            0.25,
            "rgb(198,219,239)"
           ],
           [
            0.375,
            "rgb(158,202,225)"
           ],
           [
            0.5,
            "rgb(107,174,214)"
           ],
           [
            0.625,
            "rgb(66,146,198)"
           ],
           [
            0.75,
            "rgb(33,113,181)"
           ],
           [
            0.875,
            "rgb(8,81,156)"
           ],
           [
            1,
            "rgb(8,48,107)"
           ]
          ],
          "line": {
           "color": "Grey",
           "width": 0.5
          },
          "showscale": false
         },
         "mode": "markers",
         "name": "Feasible Trial",
         "showlegend": false,
         "type": "scatter",
         "x": [
          0.00013819486436156665
         ],
         "xaxis": "x6",
         "y": [
          0.018668627366423607
         ],
         "yaxis": "y6"
        },
        {
         "marker": {
          "color": [
           0
          ],
          "colorbar": {
           "title": {
            "text": "Trial"
           },
           "x": 1,
           "xpad": 40
          },
          "colorscale": [
           [
            0,
            "rgb(247,251,255)"
           ],
           [
            0.125,
            "rgb(222,235,247)"
           ],
           [
            0.25,
            "rgb(198,219,239)"
           ],
           [
            0.375,
            "rgb(158,202,225)"
           ],
           [
            0.5,
            "rgb(107,174,214)"
           ],
           [
            0.625,
            "rgb(66,146,198)"
           ],
           [
            0.75,
            "rgb(33,113,181)"
           ],
           [
            0.875,
            "rgb(8,81,156)"
           ],
           [
            1,
            "rgb(8,48,107)"
           ]
          ],
          "line": {
           "color": "Grey",
           "width": 0.5
          },
          "showscale": false
         },
         "mode": "markers",
         "name": "Feasible Trial",
         "showlegend": false,
         "type": "scatter",
         "x": [
          3
         ],
         "xaxis": "x7",
         "y": [
          0.018668627366423607
         ],
         "yaxis": "y7"
        }
       ],
       "layout": {
        "template": {
         "data": {
          "bar": [
           {
            "error_x": {
             "color": "#2a3f5f"
            },
            "error_y": {
             "color": "#2a3f5f"
            },
            "marker": {
             "line": {
              "color": "#E5ECF6",
              "width": 0.5
             },
             "pattern": {
              "fillmode": "overlay",
              "size": 10,
              "solidity": 0.2
             }
            },
            "type": "bar"
           }
          ],
          "barpolar": [
           {
            "marker": {
             "line": {
              "color": "#E5ECF6",
              "width": 0.5
             },
             "pattern": {
              "fillmode": "overlay",
              "size": 10,
              "solidity": 0.2
             }
            },
            "type": "barpolar"
           }
          ],
          "carpet": [
           {
            "aaxis": {
             "endlinecolor": "#2a3f5f",
             "gridcolor": "white",
             "linecolor": "white",
             "minorgridcolor": "white",
             "startlinecolor": "#2a3f5f"
            },
            "baxis": {
             "endlinecolor": "#2a3f5f",
             "gridcolor": "white",
             "linecolor": "white",
             "minorgridcolor": "white",
             "startlinecolor": "#2a3f5f"
            },
            "type": "carpet"
           }
          ],
          "choropleth": [
           {
            "colorbar": {
             "outlinewidth": 0,
             "ticks": ""
            },
            "type": "choropleth"
           }
          ],
          "contour": [
           {
            "colorbar": {
             "outlinewidth": 0,
             "ticks": ""
            },
            "colorscale": [
             [
              0,
              "#0d0887"
             ],
             [
              0.1111111111111111,
              "#46039f"
             ],
             [
              0.2222222222222222,
              "#7201a8"
             ],
             [
              0.3333333333333333,
              "#9c179e"
             ],
             [
              0.4444444444444444,
              "#bd3786"
             ],
             [
              0.5555555555555556,
              "#d8576b"
             ],
             [
              0.6666666666666666,
              "#ed7953"
             ],
             [
              0.7777777777777778,
              "#fb9f3a"
             ],
             [
              0.8888888888888888,
              "#fdca26"
             ],
             [
              1,
              "#f0f921"
             ]
            ],
            "type": "contour"
           }
          ],
          "contourcarpet": [
           {
            "colorbar": {
             "outlinewidth": 0,
             "ticks": ""
            },
            "type": "contourcarpet"
           }
          ],
          "heatmap": [
           {
            "colorbar": {
             "outlinewidth": 0,
             "ticks": ""
            },
            "colorscale": [
             [
              0,
              "#0d0887"
             ],
             [
              0.1111111111111111,
              "#46039f"
             ],
             [
              0.2222222222222222,
              "#7201a8"
             ],
             [
              0.3333333333333333,
              "#9c179e"
             ],
             [
              0.4444444444444444,
              "#bd3786"
             ],
             [
              0.5555555555555556,
              "#d8576b"
             ],
             [
              0.6666666666666666,
              "#ed7953"
             ],
             [
              0.7777777777777778,
              "#fb9f3a"
             ],
             [
              0.8888888888888888,
              "#fdca26"
             ],
             [
              1,
              "#f0f921"
             ]
            ],
            "type": "heatmap"
           }
          ],
          "heatmapgl": [
           {
            "colorbar": {
             "outlinewidth": 0,
             "ticks": ""
            },
            "colorscale": [
             [
              0,
              "#0d0887"
             ],
             [
              0.1111111111111111,
              "#46039f"
             ],
             [
              0.2222222222222222,
              "#7201a8"
             ],
             [
              0.3333333333333333,
              "#9c179e"
             ],
             [
              0.4444444444444444,
              "#bd3786"
             ],
             [
              0.5555555555555556,
              "#d8576b"
             ],
             [
              0.6666666666666666,
              "#ed7953"
             ],
             [
              0.7777777777777778,
              "#fb9f3a"
             ],
             [
              0.8888888888888888,
              "#fdca26"
             ],
             [
              1,
              "#f0f921"
             ]
            ],
            "type": "heatmapgl"
           }
          ],
          "histogram": [
           {
            "marker": {
             "pattern": {
              "fillmode": "overlay",
              "size": 10,
              "solidity": 0.2
             }
            },
            "type": "histogram"
           }
          ],
          "histogram2d": [
           {
            "colorbar": {
             "outlinewidth": 0,
             "ticks": ""
            },
            "colorscale": [
             [
              0,
              "#0d0887"
             ],
             [
              0.1111111111111111,
              "#46039f"
             ],
             [
              0.2222222222222222,
              "#7201a8"
             ],
             [
              0.3333333333333333,
              "#9c179e"
             ],
             [
              0.4444444444444444,
              "#bd3786"
             ],
             [
              0.5555555555555556,
              "#d8576b"
             ],
             [
              0.6666666666666666,
              "#ed7953"
             ],
             [
              0.7777777777777778,
              "#fb9f3a"
             ],
             [
              0.8888888888888888,
              "#fdca26"
             ],
             [
              1,
              "#f0f921"
             ]
            ],
            "type": "histogram2d"
           }
          ],
          "histogram2dcontour": [
           {
            "colorbar": {
             "outlinewidth": 0,
             "ticks": ""
            },
            "colorscale": [
             [
              0,
              "#0d0887"
             ],
             [
              0.1111111111111111,
              "#46039f"
             ],
             [
              0.2222222222222222,
              "#7201a8"
             ],
             [
              0.3333333333333333,
              "#9c179e"
             ],
             [
              0.4444444444444444,
              "#bd3786"
             ],
             [
              0.5555555555555556,
              "#d8576b"
             ],
             [
              0.6666666666666666,
              "#ed7953"
             ],
             [
              0.7777777777777778,
              "#fb9f3a"
             ],
             [
              0.8888888888888888,
              "#fdca26"
             ],
             [
              1,
              "#f0f921"
             ]
            ],
            "type": "histogram2dcontour"
           }
          ],
          "mesh3d": [
           {
            "colorbar": {
             "outlinewidth": 0,
             "ticks": ""
            },
            "type": "mesh3d"
           }
          ],
          "parcoords": [
           {
            "line": {
             "colorbar": {
              "outlinewidth": 0,
              "ticks": ""
             }
            },
            "type": "parcoords"
           }
          ],
          "pie": [
           {
            "automargin": true,
            "type": "pie"
           }
          ],
          "scatter": [
           {
            "fillpattern": {
             "fillmode": "overlay",
             "size": 10,
             "solidity": 0.2
            },
            "type": "scatter"
           }
          ],
          "scatter3d": [
           {
            "line": {
             "colorbar": {
              "outlinewidth": 0,
              "ticks": ""
             }
            },
            "marker": {
             "colorbar": {
              "outlinewidth": 0,
              "ticks": ""
             }
            },
            "type": "scatter3d"
           }
          ],
          "scattercarpet": [
           {
            "marker": {
             "colorbar": {
              "outlinewidth": 0,
              "ticks": ""
             }
            },
            "type": "scattercarpet"
           }
          ],
          "scattergeo": [
           {
            "marker": {
             "colorbar": {
              "outlinewidth": 0,
              "ticks": ""
             }
            },
            "type": "scattergeo"
           }
          ],
          "scattergl": [
           {
            "marker": {
             "colorbar": {
              "outlinewidth": 0,
              "ticks": ""
             }
            },
            "type": "scattergl"
           }
          ],
          "scattermapbox": [
           {
            "marker": {
             "colorbar": {
              "outlinewidth": 0,
              "ticks": ""
             }
            },
            "type": "scattermapbox"
           }
          ],
          "scatterpolar": [
           {
            "marker": {
             "colorbar": {
              "outlinewidth": 0,
              "ticks": ""
             }
            },
            "type": "scatterpolar"
           }
          ],
          "scatterpolargl": [
           {
            "marker": {
             "colorbar": {
              "outlinewidth": 0,
              "ticks": ""
             }
            },
            "type": "scatterpolargl"
           }
          ],
          "scatterternary": [
           {
            "marker": {
             "colorbar": {
              "outlinewidth": 0,
              "ticks": ""
             }
            },
            "type": "scatterternary"
           }
          ],
          "surface": [
           {
            "colorbar": {
             "outlinewidth": 0,
             "ticks": ""
            },
            "colorscale": [
             [
              0,
              "#0d0887"
             ],
             [
              0.1111111111111111,
              "#46039f"
             ],
             [
              0.2222222222222222,
              "#7201a8"
             ],
             [
              0.3333333333333333,
              "#9c179e"
             ],
             [
              0.4444444444444444,
              "#bd3786"
             ],
             [
              0.5555555555555556,
              "#d8576b"
             ],
             [
              0.6666666666666666,
              "#ed7953"
             ],
             [
              0.7777777777777778,
              "#fb9f3a"
             ],
             [
              0.8888888888888888,
              "#fdca26"
             ],
             [
              1,
              "#f0f921"
             ]
            ],
            "type": "surface"
           }
          ],
          "table": [
           {
            "cells": {
             "fill": {
              "color": "#EBF0F8"
             },
             "line": {
              "color": "white"
             }
            },
            "header": {
             "fill": {
              "color": "#C8D4E3"
             },
             "line": {
              "color": "white"
             }
            },
            "type": "table"
           }
          ]
         },
         "layout": {
          "annotationdefaults": {
           "arrowcolor": "#2a3f5f",
           "arrowhead": 0,
           "arrowwidth": 1
          },
          "autotypenumbers": "strict",
          "coloraxis": {
           "colorbar": {
            "outlinewidth": 0,
            "ticks": ""
           }
          },
          "colorscale": {
           "diverging": [
            [
             0,
             "#8e0152"
            ],
            [
             0.1,
             "#c51b7d"
            ],
            [
             0.2,
             "#de77ae"
            ],
            [
             0.3,
             "#f1b6da"
            ],
            [
             0.4,
             "#fde0ef"
            ],
            [
             0.5,
             "#f7f7f7"
            ],
            [
             0.6,
             "#e6f5d0"
            ],
            [
             0.7,
             "#b8e186"
            ],
            [
             0.8,
             "#7fbc41"
            ],
            [
             0.9,
             "#4d9221"
            ],
            [
             1,
             "#276419"
            ]
           ],
           "sequential": [
            [
             0,
             "#0d0887"
            ],
            [
             0.1111111111111111,
             "#46039f"
            ],
            [
             0.2222222222222222,
             "#7201a8"
            ],
            [
             0.3333333333333333,
             "#9c179e"
            ],
            [
             0.4444444444444444,
             "#bd3786"
            ],
            [
             0.5555555555555556,
             "#d8576b"
            ],
            [
             0.6666666666666666,
             "#ed7953"
            ],
            [
             0.7777777777777778,
             "#fb9f3a"
            ],
            [
             0.8888888888888888,
             "#fdca26"
            ],
            [
             1,
             "#f0f921"
            ]
           ],
           "sequentialminus": [
            [
             0,
             "#0d0887"
            ],
            [
             0.1111111111111111,
             "#46039f"
            ],
            [
             0.2222222222222222,
             "#7201a8"
            ],
            [
             0.3333333333333333,
             "#9c179e"
            ],
            [
             0.4444444444444444,
             "#bd3786"
            ],
            [
             0.5555555555555556,
             "#d8576b"
            ],
            [
             0.6666666666666666,
             "#ed7953"
            ],
            [
             0.7777777777777778,
             "#fb9f3a"
            ],
            [
             0.8888888888888888,
             "#fdca26"
            ],
            [
             1,
             "#f0f921"
            ]
           ]
          },
          "colorway": [
           "#636efa",
           "#EF553B",
           "#00cc96",
           "#ab63fa",
           "#FFA15A",
           "#19d3f3",
           "#FF6692",
           "#B6E880",
           "#FF97FF",
           "#FECB52"
          ],
          "font": {
           "color": "#2a3f5f"
          },
          "geo": {
           "bgcolor": "white",
           "lakecolor": "white",
           "landcolor": "#E5ECF6",
           "showlakes": true,
           "showland": true,
           "subunitcolor": "white"
          },
          "hoverlabel": {
           "align": "left"
          },
          "hovermode": "closest",
          "mapbox": {
           "style": "light"
          },
          "paper_bgcolor": "white",
          "plot_bgcolor": "#E5ECF6",
          "polar": {
           "angularaxis": {
            "gridcolor": "white",
            "linecolor": "white",
            "ticks": ""
           },
           "bgcolor": "#E5ECF6",
           "radialaxis": {
            "gridcolor": "white",
            "linecolor": "white",
            "ticks": ""
           }
          },
          "scene": {
           "xaxis": {
            "backgroundcolor": "#E5ECF6",
            "gridcolor": "white",
            "gridwidth": 2,
            "linecolor": "white",
            "showbackground": true,
            "ticks": "",
            "zerolinecolor": "white"
           },
           "yaxis": {
            "backgroundcolor": "#E5ECF6",
            "gridcolor": "white",
            "gridwidth": 2,
            "linecolor": "white",
            "showbackground": true,
            "ticks": "",
            "zerolinecolor": "white"
           },
           "zaxis": {
            "backgroundcolor": "#E5ECF6",
            "gridcolor": "white",
            "gridwidth": 2,
            "linecolor": "white",
            "showbackground": true,
            "ticks": "",
            "zerolinecolor": "white"
           }
          },
          "shapedefaults": {
           "line": {
            "color": "#2a3f5f"
           }
          },
          "ternary": {
           "aaxis": {
            "gridcolor": "white",
            "linecolor": "white",
            "ticks": ""
           },
           "baxis": {
            "gridcolor": "white",
            "linecolor": "white",
            "ticks": ""
           },
           "bgcolor": "#E5ECF6",
           "caxis": {
            "gridcolor": "white",
            "linecolor": "white",
            "ticks": ""
           }
          },
          "title": {
           "x": 0.05
          },
          "xaxis": {
           "automargin": true,
           "gridcolor": "white",
           "linecolor": "white",
           "ticks": "",
           "title": {
            "standoff": 15
           },
           "zerolinecolor": "white",
           "zerolinewidth": 2
          },
          "yaxis": {
           "automargin": true,
           "gridcolor": "white",
           "linecolor": "white",
           "ticks": "",
           "title": {
            "standoff": 15
           },
           "zerolinecolor": "white",
           "zerolinewidth": 2
          }
         }
        },
        "title": {
         "text": "Slice Plot"
        },
        "width": 2100,
        "xaxis": {
         "anchor": "y",
         "categoryarray": [
          true,
          false
         ],
         "categoryorder": "array",
         "domain": [
          0,
          0.1183673469387755
         ],
         "title": {
          "text": "bNorm"
         },
         "type": "category"
        },
        "xaxis2": {
         "anchor": "y2",
         "categoryarray": [
          true,
          false
         ],
         "categoryorder": "array",
         "domain": [
          0.14693877551020407,
          0.26530612244897955
         ],
         "title": {
          "text": "dropout"
         },
         "type": "category"
        },
        "xaxis3": {
         "anchor": "y3",
         "domain": [
          0.29387755102040813,
          0.4122448979591836
         ],
         "title": {
          "text": "layer1_units"
         }
        },
        "xaxis4": {
         "anchor": "y4",
         "domain": [
          0.4408163265306122,
          0.5591836734693877
         ],
         "title": {
          "text": "layer2_units"
         }
        },
        "xaxis5": {
         "anchor": "y5",
         "domain": [
          0.5877551020408163,
          0.7061224489795918
         ],
         "title": {
          "text": "layer3_units"
         }
        },
        "xaxis6": {
         "anchor": "y6",
         "domain": [
          0.7346938775510204,
          0.8530612244897959
         ],
         "title": {
          "text": "lr"
         },
         "type": "log"
        },
        "xaxis7": {
         "anchor": "y7",
         "domain": [
          0.8816326530612244,
          0.9999999999999999
         ],
         "title": {
          "text": "nLayers"
         }
        },
        "yaxis": {
         "anchor": "x",
         "domain": [
          0,
          1
         ],
         "title": {
          "text": "Objective Value"
         }
        },
        "yaxis2": {
         "anchor": "x2",
         "domain": [
          0,
          1
         ],
         "matches": "y",
         "showticklabels": false
        },
        "yaxis3": {
         "anchor": "x3",
         "domain": [
          0,
          1
         ],
         "matches": "y",
         "showticklabels": false
        },
        "yaxis4": {
         "anchor": "x4",
         "domain": [
          0,
          1
         ],
         "matches": "y",
         "showticklabels": false
        },
        "yaxis5": {
         "anchor": "x5",
         "domain": [
          0,
          1
         ],
         "matches": "y",
         "showticklabels": false
        },
        "yaxis6": {
         "anchor": "x6",
         "domain": [
          0,
          1
         ],
         "matches": "y",
         "showticklabels": false
        },
        "yaxis7": {
         "anchor": "x7",
         "domain": [
          0,
          1
         ],
         "matches": "y",
         "showticklabels": false
        }
       }
      }
     },
     "metadata": {},
     "output_type": "display_data"
    }
   ],
   "source": [
    "plot_slice(study)"
   ]
  },
  {
   "cell_type": "code",
   "execution_count": 23,
   "metadata": {},
   "outputs": [],
   "source": [
    "study.best_params"
   ]
  },
  {
   "cell_type": "code",
   "execution_count": null,
   "metadata": {},
   "outputs": [],
   "source": [
    "CV_loss_effNet = kFoldCV(study.best_params, train_df, 5)"
   ]
  },
  {
   "cell_type": "code",
   "execution_count": null,
   "metadata": {},
   "outputs": [],
   "source": [
    "model = build_model(study.best_params)\n",
    "es = keras.callbacks.EarlyStopping(patience=5, restore_best_weights=True)\n",
    "model.fit(test_data, epochs=MAX_EPOCHS, batch_size=BATCH_SIZE, callbacks=[es])\n",
    "model.save('models/efficientNet_model.keras')\n",
    "\n",
    "test_loss_effNet = model.evaluate(test_data)"
   ]
  },
  {
   "cell_type": "code",
   "execution_count": null,
   "metadata": {},
   "outputs": [],
   "source": [
    "print(f'CV loss over training set: {CV_loss_effNet}\\nLoss over the test set: {test_loss_effNet}')"
   ]
  },
  {
   "cell_type": "markdown",
   "metadata": {},
   "source": [
    "#### Optimize MobileNetV3_large"
   ]
  },
  {
   "cell_type": "code",
   "execution_count": null,
   "metadata": {},
   "outputs": [],
   "source": [
    "BACKBONE_MODEL = 'mobilenet'"
   ]
  },
  {
   "cell_type": "code",
   "execution_count": null,
   "metadata": {},
   "outputs": [],
   "source": [
    "study = optuna.create_study(\n",
    "    direction=\"minimize\",\n",
    "    sampler=optuna.samplers.TPESampler(),\n",
    "    pruner=optuna.pruners.HyperbandPruner(),\n",
    "    study_name='mobileNet_study'\n",
    ")\n",
    "\n",
    "study.enqueue_trial(baselineHyperparameters)    # Test on baseline parameters first and optimize from there\n",
    "study.optimize(objective, n_trials=MODEL_SELECTION_STEPS, gc_after_trial=True)"
   ]
  },
  {
   "cell_type": "code",
   "execution_count": null,
   "metadata": {},
   "outputs": [],
   "source": [
    "plot_slice(study)"
   ]
  },
  {
   "cell_type": "code",
   "execution_count": null,
   "metadata": {},
   "outputs": [],
   "source": [
    "study.best_params"
   ]
  },
  {
   "cell_type": "code",
   "execution_count": null,
   "metadata": {},
   "outputs": [],
   "source": [
    "CV_loss_mobNet = kFoldCV(study.best_params, train_df, 5)"
   ]
  },
  {
   "cell_type": "code",
   "execution_count": null,
   "metadata": {},
   "outputs": [],
   "source": [
    "model = build_model(study.best_params)\n",
    "es = keras.callbacks.EarlyStopping(patience=5, restore_best_weights=True)\n",
    "model.fit(test_data, epochs=MAX_EPOCHS, batch_size=BATCH_SIZE, callbacks=[es])\n",
    "model.save('models/mobileNet_model.keras')\n",
    "\n",
    "test_loss_mobNet = model.evaluate(test_data)"
   ]
  },
  {
   "cell_type": "code",
   "execution_count": null,
   "metadata": {},
   "outputs": [],
   "source": [
    "print(f'CV loss over training set: {CV_loss_mobNet}\\nLoss over the test set: {test_loss_mobNet}')"
   ]
  },
  {
   "cell_type": "markdown",
   "metadata": {},
   "source": [
    "## Experimenting with Vision Transformers"
   ]
  },
  {
   "cell_type": "code",
   "execution_count": null,
   "metadata": {},
   "outputs": [],
   "source": [
    "def build_ViT(config):\n",
    "    VIT = hub.KerasLayer(\"https://www.kaggle.com/models/spsayakpaul/vision-transformer/TensorFlow2/vit-b16-fe/1\")\n",
    "    VIT.trainable = config[\"fine_tune\"]\n",
    "\n",
    "    input_layer = layers.Input(shape=IM_SHAPE)\n",
    "    x = layers.Resizing(224,224)(input_layer)\n",
    "    x = layers.Rescaling(1./127.5, offset=-1)(x)    # Rescaling to [-1, 1] as per ViT spec\n",
    "    x = VIT(x)\n",
    "    x = layers.Dense(units=config['layer0_units'], activation='relu')(x)\n",
    "\n",
    "    if config['dropout']:\n",
    "        x = layers.Dropout(0.3)(x)\n",
    "\n",
    "    out = layers.Dense(2, \"sigmoid\", name=\"out_layer\")(x)\n",
    "\n",
    "    model = keras.Model(input_layer, out, name=f\"{BACKBONE_MODEL}_model\")\n",
    "\n",
    "    model.compile(\n",
    "        optimizer=keras.optimizers.Adam(learning_rate=config[\"lr\"]), loss=\"mse\"\n",
    "    )\n",
    "    return model"
   ]
  },
  {
   "cell_type": "code",
   "execution_count": null,
   "metadata": {},
   "outputs": [],
   "source": [
    "def objective_ViT(trial: optuna.Trial):\n",
    "    best_val_loss = np.inf\n",
    "    patience = 0\n",
    "    config = {\n",
    "        \"lr\": trial.suggest_float(\"lr\", 1e-6, 1e-3, log=True),\n",
    "        \"dropout\": trial.suggest_categorical(\"dropout\", [True, False]),\n",
    "        \"layer0_units\": trial.suggest_categorical(\"layer0_units\", [64, 128, 256, 512]),\n",
    "        \"fine_tune\": trial.suggest_categorical(\"fine_tune\", [True, False]),\n",
    "    }\n",
    "\n",
    "    model = build_ViT(config)\n",
    "\n",
    "    for train_step in range(MAX_EPOCHS):\n",
    "        history = model.fit(train_data, batch_size=BATCH_SIZE, validation_data=val_data)\n",
    "        val_loss = history.history[\"val_loss\"][0]\n",
    "        # Implement earlystopping\n",
    "        if val_loss < best_val_loss:\n",
    "            best_val_loss = val_loss\n",
    "            patience = 0\n",
    "        else:\n",
    "            patience += 1\n",
    "\n",
    "        if patience > 5:\n",
    "            break\n",
    "\n",
    "        trial.report(val_loss, train_step)\n",
    "        if trial.should_prune():\n",
    "            raise optuna.TrialPruned()\n",
    "\n",
    "    return best_val_loss"
   ]
  },
  {
   "cell_type": "code",
   "execution_count": 14,
   "metadata": {},
   "outputs": [],
   "source": [
    "baselineConfig = {\n",
    "        \"lr\": 1e-4,\n",
    "        \"dropout\": True,\n",
    "        \"layer0_units\": 256,\n",
    "        \"fine_tune\": True\n",
    "    }\n",
    "\n",
    "optuna.logging.get_logger(\"optuna\").addHandler(logging.StreamHandler(sys.stdout))\n",
    "study = optuna.create_study(\n",
    "    direction=\"minimize\",\n",
    "    sampler=optuna.samplers.TPESampler(),\n",
    "    pruner=optuna.pruners.HyperbandPruner(),\n",
    "    study_name='ViT_study'\n",
    ")\n",
    "\n",
    "study.enqueue_trial(baselineConfig)    # Test on baseline parameters first and optimize from there\n",
    "study.optimize(objective, n_trials=MODEL_SELECTION_STEPS, gc_after_trial=True)"
   ]
  },
  {
   "cell_type": "code",
   "execution_count": 24,
   "metadata": {},
   "outputs": [],
   "source": [
    "plot_slice(study)"
   ]
  },
  {
   "cell_type": "code",
   "execution_count": null,
   "metadata": {},
   "outputs": [],
   "source": [
    "study.best_params"
   ]
  },
  {
   "cell_type": "code",
   "execution_count": 23,
   "metadata": {},
   "outputs": [
    {
     "name": "stdout",
     "output_type": "stream",
     "text": [
      "Model: \"model\"\n",
      "_________________________________________________________________\n",
      " Layer (type)                Output Shape              Param #   \n",
      "=================================================================\n",
      " input_6 (InputLayer)        [(None, 500, 500, 3)]     0         \n",
      "                                                                 \n",
      " resizing_2 (Resizing)       (None, 224, 224, 3)       0         \n",
      "                                                                 \n",
      " keras_layer (KerasLayer)    (None, 768)               85798656  \n",
      "                                                                 \n",
      " dense (Dense)               (None, 1024)              787456    \n",
      "                                                                 \n",
      " dense_1 (Dense)             (None, 256)               262400    \n",
      "                                                                 \n",
      " dense_2 (Dense)             (None, 2)                 514       \n",
      "                                                                 \n",
      "=================================================================\n",
      "Total params: 86849026 (331.30 MB)\n",
      "Trainable params: 1050370 (4.01 MB)\n",
      "Non-trainable params: 85798656 (327.30 MB)\n",
      "_________________________________________________________________\n"
     ]
    }
   ],
   "source": [
    "model = build_ViT(study.best_params)\n",
    "es = keras.callbacks.EarlyStopping(patience=5, restore_best_weights=True)\n",
    "hst = model.fit(test_data, epochs=MAX_EPOCHS, batch_size=BATCH_SIZE, callbacks=[es])\n",
    "model.save('models/ViT_model.keras')\n",
    "\n",
    "test_loss_ViT = model.evaluate(test_data)"
   ]
  },
  {
   "cell_type": "code",
   "execution_count": null,
   "metadata": {},
   "outputs": [],
   "source": [
    "plot_history(hst)"
   ]
  },
  {
   "cell_type": "code",
   "execution_count": null,
   "metadata": {},
   "outputs": [],
   "source": [
    "print(f\"Vision transformer test loss: {test_loss_ViT}\")"
   ]
  }
 ],
 "metadata": {
  "kernelspec": {
   "display_name": "Python 3 (ipykernel)",
   "language": "python",
   "name": "python3"
  },
  "language_info": {
   "codemirror_mode": {
    "name": "ipython",
    "version": 3
   },
   "file_extension": ".py",
   "mimetype": "text/x-python",
   "name": "python",
   "nbconvert_exporter": "python",
   "pygments_lexer": "ipython3",
   "version": "3.11.0rc1"
  }
 },
 "nbformat": 4,
 "nbformat_minor": 4
}
