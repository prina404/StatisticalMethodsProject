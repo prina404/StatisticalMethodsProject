{
 "cells": [
  {
   "cell_type": "markdown",
   "metadata": {},
   "source": [
    "## Imports and global parameters"
   ]
  },
  {
   "cell_type": "code",
   "execution_count": 1,
   "metadata": {},
   "outputs": [],
   "source": [
    "import logging\n",
    "logging.getLogger('tensorflow').setLevel(logging.FATAL)"
   ]
  },
  {
   "cell_type": "code",
   "execution_count": 2,
   "metadata": {},
   "outputs": [
    {
     "name": "stderr",
     "output_type": "stream",
     "text": [
      "2024-09-26 14:54:19.641455: E external/local_xla/xla/stream_executor/cuda/cuda_dnn.cc:9261] Unable to register cuDNN factory: Attempting to register factory for plugin cuDNN when one has already been registered\n",
      "2024-09-26 14:54:19.641475: E external/local_xla/xla/stream_executor/cuda/cuda_fft.cc:607] Unable to register cuFFT factory: Attempting to register factory for plugin cuFFT when one has already been registered\n",
      "2024-09-26 14:54:19.642364: E external/local_xla/xla/stream_executor/cuda/cuda_blas.cc:1515] Unable to register cuBLAS factory: Attempting to register factory for plugin cuBLAS when one has already been registered\n",
      "2024-09-26 14:54:19.647338: I tensorflow/core/platform/cpu_feature_guard.cc:182] This TensorFlow binary is optimized to use available CPU instructions in performance-critical operations.\n",
      "To enable the following instructions: AVX2 FMA, in other operations, rebuild TensorFlow with the appropriate compiler flags.\n",
      "Matplotlib created a temporary cache directory at /tmp/matplotlib-3o98jpit because the default path (/.config/matplotlib) is not a writable directory; it is highly recommended to set the MPLCONFIGDIR environment variable to a writable directory, in particular to speed up the import of Matplotlib and to better support multiprocessing.\n"
     ]
    }
   ],
   "source": [
    "import tensorflow as tf\n",
    "import tensorflow_hub as hub\n",
    "import keras\n",
    "import optuna\n",
    "import numpy as np\n",
    "import sklearn as sk\n",
    "import matplotlib.pyplot as plt\n",
    "import plotly\n",
    "import time\n",
    "import pandas as pd\n",
    "import os\n",
    "import sys\n",
    "import random\n",
    "import math\n",
    "import logging\n",
    "from sklearn.model_selection import train_test_split, KFold\n",
    "from keras import layers\n",
    "from optuna.visualization import plot_slice"
   ]
  },
  {
   "cell_type": "code",
   "execution_count": 3,
   "metadata": {},
   "outputs": [
    {
     "name": "stdout",
     "output_type": "stream",
     "text": [
      "[PhysicalDevice(name='/physical_device:GPU:0', device_type='GPU')]\n"
     ]
    },
    {
     "name": "stderr",
     "output_type": "stream",
     "text": [
      "2024-09-26 14:54:21.937723: I external/local_xla/xla/stream_executor/cuda/cuda_executor.cc:901] successful NUMA node read from SysFS had negative value (-1), but there must be at least one NUMA node, so returning NUMA node zero. See more at https://github.com/torvalds/linux/blob/v6.0/Documentation/ABI/testing/sysfs-bus-pci#L344-L355\n",
      "2024-09-26 14:54:21.945106: I external/local_xla/xla/stream_executor/cuda/cuda_executor.cc:901] successful NUMA node read from SysFS had negative value (-1), but there must be at least one NUMA node, so returning NUMA node zero. See more at https://github.com/torvalds/linux/blob/v6.0/Documentation/ABI/testing/sysfs-bus-pci#L344-L355\n",
      "2024-09-26 14:54:21.946696: I external/local_xla/xla/stream_executor/cuda/cuda_executor.cc:901] successful NUMA node read from SysFS had negative value (-1), but there must be at least one NUMA node, so returning NUMA node zero. See more at https://github.com/torvalds/linux/blob/v6.0/Documentation/ABI/testing/sysfs-bus-pci#L344-L355\n"
     ]
    }
   ],
   "source": [
    "!mkdir -p models\n",
    "\n",
    "gpus = tf.config.experimental.list_physical_devices('GPU')\n",
    "print(gpus)\n",
    "\n",
    "if len(gpus) > 0:\n",
    "    tf.config.experimental.set_memory_growth(gpus[0], True)"
   ]
  },
  {
   "cell_type": "code",
   "execution_count": 4,
   "metadata": {},
   "outputs": [],
   "source": [
    "IMG_PATH = 'data/img/'\n",
    "AUTO = tf.data.AUTOTUNE\n",
    "BATCH_SIZE = 64\n",
    "IM_SHAPE = (500, 500, 3)\n",
    "MAX_EPOCHS = 40\n",
    "MODEL_SELECTION_STEPS = 50\n",
    "\n",
    "BACKBONE_MODEL = 'efficientnet'"
   ]
  },
  {
   "cell_type": "markdown",
   "metadata": {},
   "source": [
    "# Data preprocessing"
   ]
  },
  {
   "cell_type": "markdown",
   "metadata": {},
   "source": [
    "### Read csv files and create datasets"
   ]
  },
  {
   "cell_type": "code",
   "execution_count": 5,
   "metadata": {},
   "outputs": [
    {
     "data": {
      "text/plain": [
       "0.04335412000000012"
      ]
     },
     "execution_count": 5,
     "metadata": {},
     "output_type": "execute_result"
    }
   ],
   "source": [
    "df = pd.read_csv('data/data.csv')\n",
    "df['id'] = df['id'].apply(lambda id: os.path.join(IMG_PATH, id))"
   ]
  },
  {
   "cell_type": "code",
   "execution_count": 6,
   "metadata": {},
   "outputs": [
    {
     "data": {
      "image/png": "[encoded data removed]",
      "text/plain": [
       "<Figure size 1000x480 with 2 Axes>"
      ]
     },
     "metadata": {},
     "output_type": "display_data"
    }
   ],
   "source": [
    "fig, ax = plt.subplots(1, 2)\n",
    "fig.set_figwidth(10)\n",
    "df['translErr'].plot.hist(bins=60, title='Average translational error', ax=ax[0])\n",
    "df['rotErr'].plot.hist(bins=40, title='Average rotational error', ax=ax[1])\n",
    "plt.show()"
   ]
  },
  {
   "cell_type": "markdown",
   "metadata": {},
   "source": [
    "#### Feature Clipping\n",
    "To perform data rescaling, every value that is above $k = 99th\\ percentile$ is clipped to $k$."
   ]
  },
  {
   "cell_type": "code",
   "execution_count": 7,
   "metadata": {},
   "outputs": [],
   "source": [
    "rot = df['rotErr'].copy()\n",
    "rot[rot > rot.quantile(.995)] = rot.quantile(.995)\n",
    "df['rotErr'] = rot\n",
    "\n",
    "transl = df['translErr'].copy()\n",
    "transl[transl > transl.quantile(.995)] = transl.quantile(.995)\n",
    "df['translErr'] = transl\n"
   ]
  },
  {
   "cell_type": "markdown",
   "metadata": {},
   "source": [
    "#### Data rescaling"
   ]
  },
  {
   "cell_type": "code",
   "execution_count": 8,
   "metadata": {},
   "outputs": [
    {
     "data": {
      "text/html": [
       "<div>\n",
       "<style scoped>\n",
       "    .dataframe tbody tr th:only-of-type {\n",
       "        vertical-align: middle;\n",
       "    }\n",
       "\n",
       "    .dataframe tbody tr th {\n",
       "        vertical-align: top;\n",
       "    }\n",
       "\n",
       "    .dataframe thead th {\n",
       "        text-align: right;\n",
       "    }\n",
       "</style>\n",
       "<table border=\"1\" class=\"dataframe\">\n",
       "  <thead>\n",
       "    <tr style=\"text-align: right;\">\n",
       "      <th></th>\n",
       "      <th>id</th>\n",
       "      <th>translErr</th>\n",
       "      <th>rotErr</th>\n",
       "      <th>area</th>\n",
       "    </tr>\n",
       "  </thead>\n",
       "  <tbody>\n",
       "    <tr>\n",
       "      <th>0</th>\n",
       "      <td>data/img/32-G5.png</td>\n",
       "      <td>0.651595</td>\n",
       "      <td>1.000000</td>\n",
       "      <td>0.097354</td>\n",
       "    </tr>\n",
       "    <tr>\n",
       "      <th>1</th>\n",
       "      <td>data/img/32-G7.png</td>\n",
       "      <td>0.777247</td>\n",
       "      <td>0.984398</td>\n",
       "      <td>0.193957</td>\n",
       "    </tr>\n",
       "    <tr>\n",
       "      <th>2</th>\n",
       "      <td>data/img/32-G9.png</td>\n",
       "      <td>0.546994</td>\n",
       "      <td>0.718890</td>\n",
       "      <td>0.101897</td>\n",
       "    </tr>\n",
       "    <tr>\n",
       "      <th>3</th>\n",
       "      <td>data/img/32-D8.png</td>\n",
       "      <td>0.614334</td>\n",
       "      <td>0.846781</td>\n",
       "      <td>0.147976</td>\n",
       "    </tr>\n",
       "    <tr>\n",
       "      <th>4</th>\n",
       "      <td>data/img/W31-2.png</td>\n",
       "      <td>0.263803</td>\n",
       "      <td>0.349292</td>\n",
       "      <td>0.081962</td>\n",
       "    </tr>\n",
       "  </tbody>\n",
       "</table>\n",
       "</div>"
      ],
      "text/plain": [
       "                   id  translErr    rotErr      area\n",
       "0  data/img/32-G5.png   0.651595  1.000000  0.097354\n",
       "1  data/img/32-G7.png   0.777247  0.984398  0.193957\n",
       "2  data/img/32-G9.png   0.546994  0.718890  0.101897\n",
       "3  data/img/32-D8.png   0.614334  0.846781  0.147976\n",
       "4  data/img/W31-2.png   0.263803  0.349292  0.081962"
      ]
     },
     "execution_count": 8,
     "metadata": {},
     "output_type": "execute_result"
    }
   ],
   "source": [
    "rescaler_rot = sk.preprocessing.MinMaxScaler()\n",
    "rescaler_transl = sk.preprocessing.MinMaxScaler()\n",
    "df['rotErr'] = rescaler_rot.fit_transform(df['rotErr'].values.reshape(-1,1)).squeeze()\n",
    "df['translErr'] = rescaler_transl.fit_transform(df['translErr'].values.reshape(-1,1)).squeeze()\n",
    "df['area'] /= df['area'].max()\n",
    "df.head()"
   ]
  },
  {
   "cell_type": "code",
   "execution_count": 9,
   "metadata": {},
   "outputs": [
    {
     "data": {
      "image/png": "[encoded data removed]",
      "text/plain": [
       "<Figure size 1000x480 with 2 Axes>"
      ]
     },
     "metadata": {},
     "output_type": "display_data"
    }
   ],
   "source": [
    "fig, ax = plt.subplots(1, 2)\n",
    "fig.set_figwidth(10)\n",
    "df['translErr'].plot.hist(bins=60, title='Average translational error', ax=ax[0])\n",
    "df['rotErr'].plot.hist(bins=40, title='Average rotational error', ax=ax[1])\n",
    "plt.show()"
   ]
  },
  {
   "cell_type": "markdown",
   "metadata": {},
   "source": [
    "##### Data partitioning and dataset creation"
   ]
  },
  {
   "cell_type": "code",
   "execution_count": 10,
   "metadata": {},
   "outputs": [],
   "source": [
    "train_df, test_df = train_test_split(df, test_size=0.3, random_state=42)\n",
    "val_df, test_df = train_test_split(test_df, test_size=0.5, random_state=42)"
   ]
  },
  {
   "cell_type": "code",
   "execution_count": 11,
   "metadata": {},
   "outputs": [
    {
     "name": "stderr",
     "output_type": "stream",
     "text": [
      "2024-09-26 14:54:22.537337: I external/local_xla/xla/stream_executor/cuda/cuda_executor.cc:901] successful NUMA node read from SysFS had negative value (-1), but there must be at least one NUMA node, so returning NUMA node zero. See more at https://github.com/torvalds/linux/blob/v6.0/Documentation/ABI/testing/sysfs-bus-pci#L344-L355\n",
      "2024-09-26 14:54:22.539368: I external/local_xla/xla/stream_executor/cuda/cuda_executor.cc:901] successful NUMA node read from SysFS had negative value (-1), but there must be at least one NUMA node, so returning NUMA node zero. See more at https://github.com/torvalds/linux/blob/v6.0/Documentation/ABI/testing/sysfs-bus-pci#L344-L355\n",
      "2024-09-26 14:54:22.541463: I external/local_xla/xla/stream_executor/cuda/cuda_executor.cc:901] successful NUMA node read from SysFS had negative value (-1), but there must be at least one NUMA node, so returning NUMA node zero. See more at https://github.com/torvalds/linux/blob/v6.0/Documentation/ABI/testing/sysfs-bus-pci#L344-L355\n",
      "2024-09-26 14:54:22.695365: I external/local_xla/xla/stream_executor/cuda/cuda_executor.cc:901] successful NUMA node read from SysFS had negative value (-1), but there must be at least one NUMA node, so returning NUMA node zero. See more at https://github.com/torvalds/linux/blob/v6.0/Documentation/ABI/testing/sysfs-bus-pci#L344-L355\n",
      "2024-09-26 14:54:22.696409: I external/local_xla/xla/stream_executor/cuda/cuda_executor.cc:901] successful NUMA node read from SysFS had negative value (-1), but there must be at least one NUMA node, so returning NUMA node zero. See more at https://github.com/torvalds/linux/blob/v6.0/Documentation/ABI/testing/sysfs-bus-pci#L344-L355\n",
      "2024-09-26 14:54:22.697324: I external/local_xla/xla/stream_executor/cuda/cuda_executor.cc:901] successful NUMA node read from SysFS had negative value (-1), but there must be at least one NUMA node, so returning NUMA node zero. See more at https://github.com/torvalds/linux/blob/v6.0/Documentation/ABI/testing/sysfs-bus-pci#L344-L355\n",
      "2024-09-26 14:54:22.698205: I tensorflow/core/common_runtime/gpu/gpu_device.cc:1929] Created device /job:localhost/replica:0/task:0/device:GPU:0 with 5507 MB memory:  -> device: 0, name: NVIDIA GeForce RTX 2080, pci bus id: 0000:01:00.0, compute capability: 7.5\n"
     ]
    }
   ],
   "source": [
    "def load_image(id: tf.types.experimental):\n",
    "    image = tf.io.read_file(id)\n",
    "    image = tf.image.decode_png(image, channels=3)\n",
    "    return image\n",
    "\n",
    "def data_augmentation(img: np.ndarray):\n",
    "    rotation = random.randint(0, 3)\n",
    "    img = tf.image.rot90(img, k=rotation)\n",
    "    img = tf.image.random_flip_up_down(img)\n",
    "    img = tf.image.random_flip_left_right(img)\n",
    "    return img\n",
    "\n",
    "\n",
    "def load_dataset(df: pd.DataFrame, augment=False) -> tf.data.Dataset:\n",
    "    X = tf.data.Dataset.from_tensor_slices(df[\"id\"].values)\n",
    "    area = tf.data.Dataset.from_tensor_slices(df[\"area\"].values)\n",
    "    Y = tf.data.Dataset.from_tensor_slices(df[[\"translErr\", \"rotErr\"]].values)\n",
    "\n",
    "    X = X.map(load_image, num_parallel_calls=AUTO)\n",
    "    \n",
    "    if augment:\n",
    "        X = X.map(lambda img: data_augmentation(img), num_parallel_calls=AUTO)\n",
    "\n",
    "    dataset = tf.data.Dataset.zip((X, area), Y)\n",
    "    dataset = dataset.shuffle(500)\n",
    "    dataset = dataset.batch(\n",
    "        batch_size=BATCH_SIZE,\n",
    "        num_parallel_calls=AUTO,\n",
    "        deterministic=False,\n",
    "        drop_remainder=False,\n",
    "    )\n",
    "    dataset = dataset.prefetch(AUTO)\n",
    "    return dataset\n",
    "\n",
    "\n",
    "train_data = load_dataset(train_df, augment=True)\n",
    "val_data = load_dataset(val_df)\n",
    "test_data = load_dataset(test_df)"
   ]
  },
  {
   "cell_type": "code",
   "execution_count": 12,
   "metadata": {},
   "outputs": [
    {
     "data": {
      "text/plain": [
       "((<tf.Tensor: shape=(64, 500, 500, 3), dtype=uint8, numpy=\n",
       "  array([[[[205, 205, 205],\n",
       "           [205, 205, 205],\n",
       "           [205, 205, 205],\n",
       "           ...,\n",
       "           [205, 205, 205],\n",
       "           [205, 205, 205],\n",
       "           [205, 205, 205]],\n",
       "  \n",
       "          [[205, 205, 205],\n",
       "           [205, 205, 205],\n",
       "           [205, 205, 205],\n",
       "           ...,\n",
       "           [205, 205, 205],\n",
       "           [205, 205, 205],\n",
       "           [205, 205, 205]],\n",
       "  \n",
       "          [[205, 205, 205],\n",
       "           [205, 205, 205],\n",
       "           [205, 205, 205],\n",
       "           ...,\n",
       "           [205, 205, 205],\n",
       "           [205, 205, 205],\n",
       "           [205, 205, 205]],\n",
       "  \n",
       "          ...,\n",
       "  \n",
       "          [[205, 205, 205],\n",
       "           [205, 205, 205],\n",
       "           [205, 205, 205],\n",
       "           ...,\n",
       "           [205, 205, 205],\n",
       "           [205, 205, 205],\n",
       "           [205, 205, 205]],\n",
       "  \n",
       "          [[205, 205, 205],\n",
       "           [205, 205, 205],\n",
       "           [205, 205, 205],\n",
       "           ...,\n",
       "           [205, 205, 205],\n",
       "           [205, 205, 205],\n",
       "           [205, 205, 205]],\n",
       "  \n",
       "          [[205, 205, 205],\n",
       "           [205, 205, 205],\n",
       "           [205, 205, 205],\n",
       "           ...,\n",
       "           [205, 205, 205],\n",
       "           [205, 205, 205],\n",
       "           [205, 205, 205]]],\n",
       "  \n",
       "  \n",
       "         [[[205, 205, 205],\n",
       "           [205, 205, 205],\n",
       "           [205, 205, 205],\n",
       "           ...,\n",
       "           [205, 205, 205],\n",
       "           [205, 205, 205],\n",
       "           [205, 205, 205]],\n",
       "  \n",
       "          [[205, 205, 205],\n",
       "           [205, 205, 205],\n",
       "           [205, 205, 205],\n",
       "           ...,\n",
       "           [205, 205, 205],\n",
       "           [205, 205, 205],\n",
       "           [205, 205, 205]],\n",
       "  \n",
       "          [[205, 205, 205],\n",
       "           [205, 205, 205],\n",
       "           [205, 205, 205],\n",
       "           ...,\n",
       "           [205, 205, 205],\n",
       "           [205, 205, 205],\n",
       "           [205, 205, 205]],\n",
       "  \n",
       "          ...,\n",
       "  \n",
       "          [[205, 205, 205],\n",
       "           [205, 205, 205],\n",
       "           [205, 205, 205],\n",
       "           ...,\n",
       "           [205, 205, 205],\n",
       "           [205, 205, 205],\n",
       "           [205, 205, 205]],\n",
       "  \n",
       "          [[205, 205, 205],\n",
       "           [205, 205, 205],\n",
       "           [205, 205, 205],\n",
       "           ...,\n",
       "           [205, 205, 205],\n",
       "           [205, 205, 205],\n",
       "           [205, 205, 205]],\n",
       "  \n",
       "          [[205, 205, 205],\n",
       "           [205, 205, 205],\n",
       "           [205, 205, 205],\n",
       "           ...,\n",
       "           [205, 205, 205],\n",
       "           [205, 205, 205],\n",
       "           [205, 205, 205]]],\n",
       "  \n",
       "  \n",
       "         [[[205, 205, 205],\n",
       "           [205, 205, 205],\n",
       "           [205, 205, 205],\n",
       "           ...,\n",
       "           [205, 205, 205],\n",
       "           [205, 205, 205],\n",
       "           [205, 205, 205]],\n",
       "  \n",
       "          [[205, 205, 205],\n",
       "           [205, 205, 205],\n",
       "           [205, 205, 205],\n",
       "           ...,\n",
       "           [205, 205, 205],\n",
       "           [205, 205, 205],\n",
       "           [205, 205, 205]],\n",
       "  \n",
       "          [[205, 205, 205],\n",
       "           [205, 205, 205],\n",
       "           [205, 205, 205],\n",
       "           ...,\n",
       "           [205, 205, 205],\n",
       "           [205, 205, 205],\n",
       "           [205, 205, 205]],\n",
       "  \n",
       "          ...,\n",
       "  \n",
       "          [[205, 205, 205],\n",
       "           [205, 205, 205],\n",
       "           [205, 205, 205],\n",
       "           ...,\n",
       "           [205, 205, 205],\n",
       "           [205, 205, 205],\n",
       "           [205, 205, 205]],\n",
       "  \n",
       "          [[205, 205, 205],\n",
       "           [205, 205, 205],\n",
       "           [205, 205, 205],\n",
       "           ...,\n",
       "           [205, 205, 205],\n",
       "           [205, 205, 205],\n",
       "           [205, 205, 205]],\n",
       "  \n",
       "          [[205, 205, 205],\n",
       "           [205, 205, 205],\n",
       "           [205, 205, 205],\n",
       "           ...,\n",
       "           [205, 205, 205],\n",
       "           [205, 205, 205],\n",
       "           [205, 205, 205]]],\n",
       "  \n",
       "  \n",
       "         ...,\n",
       "  \n",
       "  \n",
       "         [[[205, 205, 205],\n",
       "           [205, 205, 205],\n",
       "           [205, 205, 205],\n",
       "           ...,\n",
       "           [205, 205, 205],\n",
       "           [205, 205, 205],\n",
       "           [205, 205, 205]],\n",
       "  \n",
       "          [[205, 205, 205],\n",
       "           [205, 205, 205],\n",
       "           [205, 205, 205],\n",
       "           ...,\n",
       "           [205, 205, 205],\n",
       "           [205, 205, 205],\n",
       "           [205, 205, 205]],\n",
       "  \n",
       "          [[205, 205, 205],\n",
       "           [205, 205, 205],\n",
       "           [205, 205, 205],\n",
       "           ...,\n",
       "           [205, 205, 205],\n",
       "           [205, 205, 205],\n",
       "           [205, 205, 205]],\n",
       "  \n",
       "          ...,\n",
       "  \n",
       "          [[205, 205, 205],\n",
       "           [205, 205, 205],\n",
       "           [205, 205, 205],\n",
       "           ...,\n",
       "           [205, 205, 205],\n",
       "           [205, 205, 205],\n",
       "           [205, 205, 205]],\n",
       "  \n",
       "          [[205, 205, 205],\n",
       "           [205, 205, 205],\n",
       "           [205, 205, 205],\n",
       "           ...,\n",
       "           [205, 205, 205],\n",
       "           [205, 205, 205],\n",
       "           [205, 205, 205]],\n",
       "  \n",
       "          [[205, 205, 205],\n",
       "           [205, 205, 205],\n",
       "           [205, 205, 205],\n",
       "           ...,\n",
       "           [205, 205, 205],\n",
       "           [205, 205, 205],\n",
       "           [205, 205, 205]]],\n",
       "  \n",
       "  \n",
       "         [[[205, 205, 205],\n",
       "           [205, 205, 205],\n",
       "           [205, 205, 205],\n",
       "           ...,\n",
       "           [205, 205, 205],\n",
       "           [205, 205, 205],\n",
       "           [205, 205, 205]],\n",
       "  \n",
       "          [[205, 205, 205],\n",
       "           [205, 205, 205],\n",
       "           [205, 205, 205],\n",
       "           ...,\n",
       "           [205, 205, 205],\n",
       "           [205, 205, 205],\n",
       "           [205, 205, 205]],\n",
       "  \n",
       "          [[205, 205, 205],\n",
       "           [205, 205, 205],\n",
       "           [205, 205, 205],\n",
       "           ...,\n",
       "           [205, 205, 205],\n",
       "           [205, 205, 205],\n",
       "           [205, 205, 205]],\n",
       "  \n",
       "          ...,\n",
       "  \n",
       "          [[205, 205, 205],\n",
       "           [205, 205, 205],\n",
       "           [205, 205, 205],\n",
       "           ...,\n",
       "           [205, 205, 205],\n",
       "           [205, 205, 205],\n",
       "           [205, 205, 205]],\n",
       "  \n",
       "          [[205, 205, 205],\n",
       "           [205, 205, 205],\n",
       "           [205, 205, 205],\n",
       "           ...,\n",
       "           [205, 205, 205],\n",
       "           [205, 205, 205],\n",
       "           [205, 205, 205]],\n",
       "  \n",
       "          [[205, 205, 205],\n",
       "           [205, 205, 205],\n",
       "           [205, 205, 205],\n",
       "           ...,\n",
       "           [205, 205, 205],\n",
       "           [205, 205, 205],\n",
       "           [205, 205, 205]]],\n",
       "  \n",
       "  \n",
       "         [[[205, 205, 205],\n",
       "           [205, 205, 205],\n",
       "           [205, 205, 205],\n",
       "           ...,\n",
       "           [205, 205, 205],\n",
       "           [205, 205, 205],\n",
       "           [205, 205, 205]],\n",
       "  \n",
       "          [[205, 205, 205],\n",
       "           [205, 205, 205],\n",
       "           [205, 205, 205],\n",
       "           ...,\n",
       "           [205, 205, 205],\n",
       "           [205, 205, 205],\n",
       "           [205, 205, 205]],\n",
       "  \n",
       "          [[205, 205, 205],\n",
       "           [205, 205, 205],\n",
       "           [205, 205, 205],\n",
       "           ...,\n",
       "           [205, 205, 205],\n",
       "           [205, 205, 205],\n",
       "           [205, 205, 205]],\n",
       "  \n",
       "          ...,\n",
       "  \n",
       "          [[205, 205, 205],\n",
       "           [205, 205, 205],\n",
       "           [205, 205, 205],\n",
       "           ...,\n",
       "           [205, 205, 205],\n",
       "           [205, 205, 205],\n",
       "           [205, 205, 205]],\n",
       "  \n",
       "          [[205, 205, 205],\n",
       "           [205, 205, 205],\n",
       "           [205, 205, 205],\n",
       "           ...,\n",
       "           [205, 205, 205],\n",
       "           [205, 205, 205],\n",
       "           [205, 205, 205]],\n",
       "  \n",
       "          [[205, 205, 205],\n",
       "           [205, 205, 205],\n",
       "           [205, 205, 205],\n",
       "           ...,\n",
       "           [205, 205, 205],\n",
       "           [205, 205, 205],\n",
       "           [205, 205, 205]]]], dtype=uint8)>,\n",
       "  <tf.Tensor: shape=(64,), dtype=float64, numpy=\n",
       "  array([0.07274616, 0.09668877, 0.05768841, 0.24347096, 0.05267033,\n",
       "         0.05193376, 0.06118086, 0.03992732, 0.04225523, 0.0412719 ,\n",
       "         0.04988867, 0.0307335 , 0.04543143, 0.01953164, 0.12471196,\n",
       "         0.02954588, 0.05005914, 0.10229533, 0.10251291, 0.04659704,\n",
       "         0.02527733, 0.03573135, 0.04869688, 0.03006479, 0.16335127,\n",
       "         0.03205029, 0.0744607 , 0.05177788, 0.03571853, 0.02625425,\n",
       "         0.01839251, 0.04548686, 0.06419623, 0.2195291 , 0.0186666 ,\n",
       "         0.04111818, 0.0381753 , 0.03120524, 0.05752296, 0.04557565,\n",
       "         0.06618775, 0.07431964, 0.05537903, 0.02664493, 0.01691003,\n",
       "         0.20325394, 0.03137216, 0.03451941, 0.08154156, 0.01777777,\n",
       "         0.04749513, 0.12972956, 0.06331058, 0.05353692, 0.04964924,\n",
       "         0.08715145, 0.02149459, 0.03638569, 0.0368335 , 0.05107165,\n",
       "         0.04440093, 0.02512716, 0.03629953, 0.0228062 ])>),\n",
       " <tf.Tensor: shape=(64, 2), dtype=float64, numpy=\n",
       " array([[0.25783481, 0.56750547],\n",
       "        [0.17696983, 0.17215842],\n",
       "        [0.32096417, 0.57428784],\n",
       "        [0.27666068, 0.09584663],\n",
       "        [0.17975117, 0.21662963],\n",
       "        [0.17961252, 0.0907294 ],\n",
       "        [0.14869429, 0.15095845],\n",
       "        [0.13574158, 0.13536306],\n",
       "        [0.07470148, 0.08345967],\n",
       "        [0.2053307 , 0.41049569],\n",
       "        [0.24095836, 0.12248875],\n",
       "        [0.14337218, 0.33607241],\n",
       "        [0.19503015, 0.39593594],\n",
       "        [0.05234294, 0.00771647],\n",
       "        [0.67225878, 0.74210067],\n",
       "        [0.21310944, 0.39567196],\n",
       "        [0.34671909, 0.14661286],\n",
       "        [0.25251863, 0.09897383],\n",
       "        [0.35857088, 0.1958764 ],\n",
       "        [0.13383126, 0.04656278],\n",
       "        [0.18494647, 0.32723908],\n",
       "        [0.16266023, 0.23470241],\n",
       "        [0.18264509, 0.22988977],\n",
       "        [0.18481019, 0.18848484],\n",
       "        [0.3066913 , 0.20083119],\n",
       "        [0.18401265, 0.1458006 ],\n",
       "        [0.22342184, 0.10082172],\n",
       "        [0.25078607, 0.40095164],\n",
       "        [0.10014236, 0.17420938],\n",
       "        [0.22448009, 0.55115875],\n",
       "        [0.37063835, 1.        ],\n",
       "        [0.07810379, 0.16657414],\n",
       "        [0.13378623, 0.08945009],\n",
       "        [0.02721492, 0.51998829],\n",
       "        [0.13423536, 0.3519927 ],\n",
       "        [0.06938648, 0.10069988],\n",
       "        [0.06427294, 0.06621946],\n",
       "        [0.14575889, 0.06827042],\n",
       "        [0.15090087, 0.12707801],\n",
       "        [0.16758889, 0.34498696],\n",
       "        [0.30801264, 0.62363261],\n",
       "        [0.14670102, 0.11704661],\n",
       "        [0.07126125, 0.07306275],\n",
       "        [0.08640987, 0.06587425],\n",
       "        [0.05690068, 0.08303324],\n",
       "        [0.53917411, 0.32327932],\n",
       "        [0.18784513, 0.15252205],\n",
       "        [0.07114985, 0.0669505 ],\n",
       "        [0.24998141, 0.1292305 ],\n",
       "        [0.09057655, 0.32171572],\n",
       "        [0.08394139, 0.06658498],\n",
       "        [0.21260934, 0.13067226],\n",
       "        [0.08717187, 0.0966995 ],\n",
       "        [0.11610749, 0.06814858],\n",
       "        [0.22851997, 0.05354821],\n",
       "        [0.48703263, 0.68168887],\n",
       "        [0.24195855, 0.77109834],\n",
       "        [0.11027107, 0.10260869],\n",
       "        [0.3233177 , 0.65809273],\n",
       "        [0.09000179, 0.08670871],\n",
       "        [0.36762119, 0.84885189],\n",
       "        [0.10658435, 0.02518005],\n",
       "        [0.19529087, 0.51434308],\n",
       "        [0.05604388, 0.06910299]])>)"
      ]
     },
     "execution_count": 12,
     "metadata": {},
     "output_type": "execute_result"
    }
   ],
   "source": [
    "train_data.take(1).get_single_element()"
   ]
  },
  {
   "cell_type": "code",
   "execution_count": 13,
   "metadata": {},
   "outputs": [
    {
     "data": {
      "image/png": "[encoded data removed]",
      "text/plain": [
       "<Figure size 640x480 with 1 Axes>"
      ]
     },
     "metadata": {},
     "output_type": "display_data"
    }
   ],
   "source": [
    "for r in val_data.take(1).as_numpy_iterator():\n",
    "    r, l = r[0], r[1]\n",
    "    plt.imshow(r[0][0], cmap='gray')\n",
    "    plt.title(l[0])\n",
    "    plt.show()\n",
    "    break"
   ]
  },
  {
   "cell_type": "code",
   "execution_count": 14,
   "metadata": {},
   "outputs": [],
   "source": [
    "def plot_history(hst: keras.callbacks.History):\n",
    "    metrics = [\"loss\"]\n",
    "    _, ax = plt.subplots(1, len(metrics), figsize=(15, 5))\n",
    "    for _, metric in enumerate(metrics):\n",
    "        ax.plot(hst.history[metric])\n",
    "        ax.plot(hst.history[\"val_\" + metric])\n",
    "        ax.set(title=\"model \" + metric, ylabel=metric, xlabel=\"epoch\")\n",
    "        ax.legend([metric, \"val_\" + metric], loc=\"upper left\")\n",
    "    plt.show()"
   ]
  },
  {
   "cell_type": "markdown",
   "metadata": {},
   "source": [
    "## Define the CNN structure"
   ]
  },
  {
   "cell_type": "code",
   "execution_count": 15,
   "metadata": {},
   "outputs": [],
   "source": [
    "def _build_efficientNet(input: layers.Layer):\n",
    "    effNet = keras.applications.EfficientNetV2B3(include_top=False, pooling=\"avg\")\n",
    "    effNet.trainable = False\n",
    "    return effNet(input)\n",
    "\n",
    "\n",
    "def _build_mobileNet(input: layers.Layer):\n",
    "    mobNet = keras.applications.MobileNetV3Large(include_top=False, pooling=\"avg\")\n",
    "    mobNet.trainable = False\n",
    "    return mobNet(input)\n",
    "\n",
    "\n",
    "def build_model(config: dict) -> keras.Model:  # EfficientNetV2B3\n",
    "    backbone_builder = {\n",
    "        \"efficientnet\": _build_efficientNet,\n",
    "        \"mobilenet\": _build_mobileNet,\n",
    "    }\n",
    "    backbone = backbone_builder[BACKBONE_MODEL]\n",
    "\n",
    "    input_layer = layers.Input(shape=IM_SHAPE, name='image_input')\n",
    "    x = backbone(input_layer)\n",
    "\n",
    "    # skip connection\n",
    "    number_input = layers.Input(shape=(1,), name='number_input')\n",
    "    x = layers.Concatenate()([number_input, x])\n",
    "\n",
    "    for i in range(config[\"nLayers\"]):\n",
    "        x = layers.Dense(units=config[f\"layer{i}_units\"], name=f\"dense_{i}\")(x)\n",
    "        if config[\"batchNorm\"]:\n",
    "            x = layers.BatchNormalization()(x)\n",
    "\n",
    "        x = layers.Activation(\"relu\")(x)\n",
    "\n",
    "        if config[\"dropout\"]:\n",
    "            x = layers.Dropout(0.3)(x)\n",
    "\n",
    "    out = layers.Dense(2, \"relu\", name=\"out_layer\")(x)\n",
    "\n",
    "    model = keras.Model(inputs=[input_layer, number_input], outputs=out, name=f\"{BACKBONE_MODEL}_model\")\n",
    "\n",
    "    model.compile(\n",
    "        optimizer=keras.optimizers.Adam(learning_rate=config[\"lr\"]), loss=\"mse\"\n",
    "    )\n",
    "    return model"
   ]
  },
  {
   "cell_type": "code",
   "execution_count": 16,
   "metadata": {},
   "outputs": [
    {
     "name": "stdout",
     "output_type": "stream",
     "text": [
      "Downloading data from https://storage.googleapis.com/tensorflow/keras-applications/efficientnet_v2/efficientnetv2-b3_notop.h5\n",
      "52606240/52606240 [==============================] - 2s 0us/step\n"
     ]
    },
    {
     "name": "stderr",
     "output_type": "stream",
     "text": [
      "2024-09-26 14:54:36.001487: E tensorflow/core/grappler/optimizers/meta_optimizer.cc:961] layout failed: INVALID_ARGUMENT: Size of values 0 does not match size of permutation 4 @ fanin shape inefficientnet_model/efficientnetv2-b3/block1b_drop/dropout/SelectV2-2-TransposeNHWCToNCHW-LayoutOptimizer\n",
      "2024-09-26 14:54:36.828030: I external/local_xla/xla/stream_executor/cuda/cuda_dnn.cc:454] Loaded cuDNN version 8906\n",
      "2024-09-26 14:54:37.529471: W external/local_tsl/tsl/framework/bfc_allocator.cc:296] Allocator (GPU_0_bfc) ran out of memory trying to allocate 5.38GiB with freed_by_count=0. The caller indicates that this is not a failure, but this may mean that there could be performance gains if more memory were available.\n",
      "2024-09-26 14:54:37.969611: W external/local_tsl/tsl/framework/bfc_allocator.cc:296] Allocator (GPU_0_bfc) ran out of memory trying to allocate 5.38GiB with freed_by_count=0. The caller indicates that this is not a failure, but this may mean that there could be performance gains if more memory were available.\n",
      "2024-09-26 14:54:38.213802: W external/local_tsl/tsl/framework/bfc_allocator.cc:366] Garbage collection: deallocate free memory regions (i.e., allocations) so that we can re-allocate a larger region to avoid OOM due to memory fragmentation. If you see this message frequently, you are running near the threshold of the available device memory and re-allocation may incur great performance overhead. You may try smaller batch sizes to observe the performance impact. Set TF_ENABLE_GPU_GARBAGE_COLLECTION=false if you'd like to disable this feature.\n",
      "2024-09-26 14:54:41.401449: I external/local_xla/xla/service/service.cc:168] XLA service 0x40496c10 initialized for platform CUDA (this does not guarantee that XLA will be used). Devices:\n",
      "2024-09-26 14:54:41.401468: I external/local_xla/xla/service/service.cc:176]   StreamExecutor device (0): NVIDIA GeForce RTX 2080, Compute Capability 7.5\n",
      "2024-09-26 14:54:41.404804: I tensorflow/compiler/mlir/tensorflow/utils/dump_mlir_util.cc:269] disabling MLIR crash reproducer, set env var `MLIR_CRASH_REPRODUCER_DIRECTORY` to enable.\n",
      "WARNING: All log messages before absl::InitializeLog() is called are written to STDERR\n",
      "I0000 00:00:1727362481.460124      97 device_compiler.h:186] Compiled cluster using XLA!  This line is logged at most once for the lifetime of the process.\n"
     ]
    },
    {
     "name": "stdout",
     "output_type": "stream",
     "text": [
      "1/1 [==============================] - 17s 17s/step - loss: 0.2781 - val_loss: 0.0774\n"
     ]
    },
    {
     "data": {
      "text/plain": [
       "<keras.src.callbacks.History at 0x77b64db70850>"
      ]
     },
     "execution_count": 16,
     "metadata": {},
     "output_type": "execute_result"
    }
   ],
   "source": [
    "baselineHyperparameters = {\n",
    "    \"lr\": 1e-4,\n",
    "    \"nLayers\": 3,\n",
    "    \"batchNorm\": True,\n",
    "    \"dropout\": False,\n",
    "    \"layer0_units\": 1024,\n",
    "    \"layer1_units\": 512,\n",
    "    \"layer2_units\": 128,\n",
    "}\n",
    "m = build_model(baselineHyperparameters)\n",
    "\n",
    "# Sanity check to verify that dataset and model have been built correctly\n",
    "m.fit(train_data.take(1), batch_size=BATCH_SIZE, epochs=1, validation_data=val_data.take(1))"
   ]
  },
  {
   "cell_type": "markdown",
   "metadata": {},
   "source": [
    "### Hyperparameter tuning"
   ]
  },
  {
   "cell_type": "code",
   "execution_count": 20,
   "metadata": {},
   "outputs": [],
   "source": [
    "def objective(trial: optuna.Trial) -> float:\n",
    "    best_val_loss = np.inf\n",
    "    patience = 0\n",
    "    config = {\n",
    "        \"lr\": trial.suggest_float(\"lr\", 1e-5, 1e-2, log=True),\n",
    "        \"nLayers\": trial.suggest_int(\"nLayers\", 1, 6),\n",
    "        \"batchNorm\": trial.suggest_categorical(\"batchNorm\", [True, False]),\n",
    "        \"dropout\": trial.suggest_categorical(\"dropout\", [True, False]),\n",
    "    }\n",
    "    \n",
    "    layerDim = [64, 128, 256, 512, 1024, 2048]\n",
    "    for i in range(config[\"nLayers\"]):\n",
    "        config[f\"layer{i}_units\"] = trial.suggest_categorical(\n",
    "            f\"layer{i}_units\", layerDim\n",
    "        )\n",
    "\n",
    "    model = build_model(config)\n",
    "\n",
    "    for train_step in range(MAX_EPOCHS):\n",
    "        history = model.fit(train_data, batch_size=BATCH_SIZE, validation_data=val_data)\n",
    "        val_loss = history.history[\"val_loss\"][0]\n",
    "        # Implement earlystopping\n",
    "        if val_loss < best_val_loss:\n",
    "            best_val_loss = val_loss\n",
    "            patience = 0\n",
    "        else:\n",
    "            patience += 1\n",
    "\n",
    "        if patience > 5:\n",
    "            break\n",
    "\n",
    "        trial.report(val_loss, train_step)\n",
    "        if trial.should_prune():\n",
    "            raise optuna.TrialPruned()\n",
    "    del model\n",
    "    return best_val_loss"
   ]
  },
  {
   "cell_type": "code",
   "execution_count": 21,
   "metadata": {},
   "outputs": [],
   "source": [
    "def kFoldCV(hyperPar: dict, training_set: pd.DataFrame, k: int) -> float:\n",
    "    df = training_set.reset_index(drop=True)\n",
    "    kf = KFold(n_splits=k, shuffle=True)\n",
    "    scores = []\n",
    "    for trainIdx, valIdx in kf.split(df):\n",
    "        train_data = load_dataset(df.iloc[trainIdx], augment=True)\n",
    "        val_data = load_dataset(df.iloc[valIdx])\n",
    "\n",
    "        model = build_model(hyperPar)\n",
    "        es = keras.callbacks.EarlyStopping(patience=5, restore_best_weights=True)\n",
    "        model.fit(train_data, \n",
    "                  batch_size=BATCH_SIZE,\n",
    "                  validation_data=val_data,\n",
    "                  epochs=MAX_EPOCHS,\n",
    "                  callbacks=[es]\n",
    "                  )\n",
    "        \n",
    "        result = model.evaluate(val_data, batch_size=BATCH_SIZE)\n",
    "        del model\n",
    "        scores.append(result)\n",
    "    return np.avg(scores)   # TODO: magari ritorna tutto l'array così calcoli varianza sui fold?"
   ]
  },
  {
   "cell_type": "markdown",
   "metadata": {},
   "source": [
    "## Optimize EfficientNetV2"
   ]
  },
  {
   "cell_type": "code",
   "execution_count": null,
   "metadata": {},
   "outputs": [
    {
     "name": "stderr",
     "output_type": "stream",
     "text": [
      "[I 2024-09-26 14:56:24,423] A new study created in memory with name: efficientNet_study\n"
     ]
    },
    {
     "name": "stdout",
     "output_type": "stream",
     "text": [
      "A new study created in memory with name: efficientNet_study\n",
      "A new study created in memory with name: efficientNet_study\n"
     ]
    },
    {
     "name": "stderr",
     "output_type": "stream",
     "text": [
      "2024-09-26 14:56:33.993539: E tensorflow/core/grappler/optimizers/meta_optimizer.cc:961] layout failed: INVALID_ARGUMENT: Size of values 0 does not match size of permutation 4 @ fanin shape inefficientnet_model/efficientnetv2-b3/block1b_drop/dropout/SelectV2-2-TransposeNHWCToNCHW-LayoutOptimizer\n"
     ]
    },
    {
     "name": "stdout",
     "output_type": "stream",
     "text": [
      "64/65 [============================>.] - ETA: 0s - loss: 0.1256"
     ]
    },
    {
     "name": "stderr",
     "output_type": "stream",
     "text": [
      "2024-09-26 14:57:09.201501: W external/local_tsl/tsl/framework/bfc_allocator.cc:296] Allocator (GPU_0_bfc) ran out of memory trying to allocate 4.79GiB with freed_by_count=0. The caller indicates that this is not a failure, but this may mean that there could be performance gains if more memory were available.\n",
      "2024-09-26 14:57:09.642017: W external/local_tsl/tsl/framework/bfc_allocator.cc:296] Allocator (GPU_0_bfc) ran out of memory trying to allocate 4.79GiB with freed_by_count=0. The caller indicates that this is not a failure, but this may mean that there could be performance gains if more memory were available.\n"
     ]
    },
    {
     "name": "stdout",
     "output_type": "stream",
     "text": [
      "65/65 [==============================] - ETA: 0s - loss: 0.1248"
     ]
    },
    {
     "name": "stderr",
     "output_type": "stream",
     "text": [
      "2024-09-26 14:57:19.615627: W external/local_tsl/tsl/framework/bfc_allocator.cc:296] Allocator (GPU_0_bfc) ran out of memory trying to allocate 4.88GiB with freed_by_count=0. The caller indicates that this is not a failure, but this may mean that there could be performance gains if more memory were available.\n",
      "2024-09-26 14:57:20.031857: W external/local_tsl/tsl/framework/bfc_allocator.cc:296] Allocator (GPU_0_bfc) ran out of memory trying to allocate 4.88GiB with freed_by_count=0. The caller indicates that this is not a failure, but this may mean that there could be performance gains if more memory were available.\n"
     ]
    },
    {
     "name": "stdout",
     "output_type": "stream",
     "text": [
      "65/65 [==============================] - 57s 757ms/step - loss: 0.1248 - val_loss: 0.0695\n",
      "65/65 [==============================] - 40s 612ms/step - loss: 0.0758 - val_loss: 0.0687\n",
      "18/65 [=======>......................] - ETA: 24s - loss: 0.0729"
     ]
    }
   ],
   "source": [
    "optuna.logging.get_logger(\"optuna\").addHandler(logging.StreamHandler(sys.stdout))\n",
    "study = optuna.create_study(\n",
    "    direction=\"minimize\",\n",
    "    sampler=optuna.samplers.TPESampler(),\n",
    "    pruner=optuna.pruners.HyperbandPruner(),\n",
    "    study_name='efficientNet_study'\n",
    ")\n",
    "\n",
    "study.enqueue_trial(baselineHyperparameters)    # Test on baseline parameters first and optimize from there\n",
    "study.optimize(objective, n_trials=MODEL_SELECTION_STEPS, gc_after_trial=True)"
   ]
  },
  {
   "cell_type": "code",
   "execution_count": null,
   "metadata": {},
   "outputs": [],
   "source": [
    "plot_slice(study)"
   ]
  },
  {
   "cell_type": "code",
   "execution_count": 23,
   "metadata": {},
   "outputs": [],
   "source": [
    "study.best_params"
   ]
  },
  {
   "cell_type": "code",
   "execution_count": null,
   "metadata": {},
   "outputs": [],
   "source": [
    "CV_loss_effNet = kFoldCV(study.best_params, train_df, 5)"
   ]
  },
  {
   "cell_type": "code",
   "execution_count": null,
   "metadata": {},
   "outputs": [],
   "source": [
    "model = build_model(study.best_params)\n",
    "es = keras.callbacks.EarlyStopping(patience=5, restore_best_weights=True)\n",
    "model.fit(test_data, epochs=MAX_EPOCHS, batch_size=BATCH_SIZE, callbacks=[es])\n",
    "model.save(f'models/efficientNet_model_{time.strftime(\"%d%b_%I_%M%p\")}.keras')\n",
    "\n",
    "test_loss_effNet = model.evaluate(test_data)\n",
    "\n",
    "del model\n",
    "keras.backend.clear_session()"
   ]
  },
  {
   "cell_type": "code",
   "execution_count": null,
   "metadata": {},
   "outputs": [],
   "source": [
    "print(f'CV loss over training set: {CV_loss_effNet}\\nLoss over the test set: {test_loss_effNet}')"
   ]
  },
  {
   "cell_type": "markdown",
   "metadata": {},
   "source": [
    "## Optimize MobileNetV3_large"
   ]
  },
  {
   "cell_type": "code",
   "execution_count": null,
   "metadata": {},
   "outputs": [],
   "source": [
    "BACKBONE_MODEL = 'mobilenet'"
   ]
  },
  {
   "cell_type": "code",
   "execution_count": null,
   "metadata": {},
   "outputs": [],
   "source": [
    "study = optuna.create_study(\n",
    "    direction=\"minimize\",\n",
    "    sampler=optuna.samplers.TPESampler(),\n",
    "    pruner=optuna.pruners.HyperbandPruner(),\n",
    "    study_name='mobileNet_study'\n",
    ")\n",
    "\n",
    "study.enqueue_trial(baselineHyperparameters)    # Test on baseline parameters first and optimize from there\n",
    "study.optimize(objective, n_trials=MODEL_SELECTION_STEPS, gc_after_trial=True)"
   ]
  },
  {
   "cell_type": "code",
   "execution_count": null,
   "metadata": {},
   "outputs": [],
   "source": [
    "plot_slice(study)"
   ]
  },
  {
   "cell_type": "code",
   "execution_count": null,
   "metadata": {},
   "outputs": [],
   "source": [
    "study.best_params"
   ]
  },
  {
   "cell_type": "code",
   "execution_count": null,
   "metadata": {},
   "outputs": [],
   "source": [
    "CV_loss_mobNet = kFoldCV(study.best_params, train_df, 5)"
   ]
  },
  {
   "cell_type": "code",
   "execution_count": null,
   "metadata": {},
   "outputs": [],
   "source": [
    "model = build_model(study.best_params)\n",
    "es = keras.callbacks.EarlyStopping(patience=5, restore_best_weights=True)\n",
    "model.fit(test_data, epochs=MAX_EPOCHS, batch_size=BATCH_SIZE, callbacks=[es])\n",
    "model.save(f'models/mobileNet_model_{time.strftime(\"%d%b_%I_%M%p\")}.keras')\n",
    "\n",
    "test_loss_mobNet = model.evaluate(test_data)\n",
    "\n",
    "del model\n",
    "keras.backend.clear_session()"
   ]
  },
  {
   "cell_type": "code",
   "execution_count": null,
   "metadata": {},
   "outputs": [],
   "source": [
    "print(f'CV loss over training set: {CV_loss_mobNet}\\nLoss over the test set: {test_loss_mobNet}')"
   ]
  },
  {
   "cell_type": "markdown",
   "metadata": {},
   "source": [
    "## Experimenting with Vision Transformers"
   ]
  },
  {
   "cell_type": "code",
   "execution_count": 24,
   "metadata": {},
   "outputs": [],
   "source": [
    "FINE_TUNE = False   #set to True to finetune the entire transformer"
   ]
  },
  {
   "cell_type": "code",
   "execution_count": 25,
   "metadata": {},
   "outputs": [],
   "source": [
    "def build_ViT(config):\n",
    "    VIT = hub.KerasLayer(\"https://www.kaggle.com/models/spsayakpaul/vision-transformer/TensorFlow2/vit-b16-fe/1\")\n",
    "    VIT.trainable = FINE_TUNE\n",
    "\n",
    "    input_layer = layers.Input(shape=IM_SHAPE)\n",
    "\n",
    "    x = layers.Resizing(224,224)(input_layer)\n",
    "    x = layers.Rescaling(1./127.5, offset=-1)(x)    # Rescaling to [-1, 1] as per ViT spec\n",
    "    x = VIT(x)\n",
    "    \n",
    "    number_input = layers.Input(shape=(1,), name='number_input')\n",
    "    # skip connection\n",
    "    x = layers.Concatenate(axis=-1)([x, number_input])\n",
    "    \n",
    "    x = layers.Dense(units=config['layer0_units'], activation='relu')(x)\n",
    "\n",
    "    if config['dropout']:\n",
    "        x = layers.Dropout(0.3)(x)\n",
    "\n",
    "    out = layers.Dense(2, \"relu\", name=\"out_layer\")(x)\n",
    "\n",
    "    model = keras.Model(inputs=[input_layer, number_input], outputs=out, name=f\"{BACKBONE_MODEL}_model\")\n",
    "\n",
    "    model.compile(\n",
    "        optimizer=keras.optimizers.Adam(learning_rate=config[\"lr\"]), loss=\"mse\"\n",
    "    )\n",
    "    return model"
   ]
  },
  {
   "cell_type": "code",
   "execution_count": 26,
   "metadata": {},
   "outputs": [],
   "source": [
    "def objective_ViT(trial: optuna.Trial):\n",
    "    best_val_loss = np.inf\n",
    "    patience = 0\n",
    "    config = {\n",
    "        \"lr\": trial.suggest_float(\"lr\", 1e-6, 1e-3, log=True),\n",
    "        \"dropout\": trial.suggest_categorical(\"dropout\", [True, False]),\n",
    "        \"layer0_units\": trial.suggest_categorical(\"layer0_units\", [64, 128, 256, 512]),\n",
    "    }\n",
    "\n",
    "    model = build_ViT(config)\n",
    "\n",
    "    for train_step in range(MAX_EPOCHS):\n",
    "        history = model.fit(train_data, batch_size=BATCH_SIZE, validation_data=val_data)\n",
    "        val_loss = history.history[\"val_loss\"][0]\n",
    "        # Implement earlystopping\n",
    "        if val_loss < best_val_loss:\n",
    "            best_val_loss = val_loss\n",
    "            patience = 0\n",
    "        else:\n",
    "            patience += 1\n",
    "\n",
    "        if patience > 5:\n",
    "            break\n",
    "\n",
    "        trial.report(val_loss, train_step)\n",
    "        if trial.should_prune():\n",
    "            raise optuna.TrialPruned()\n",
    "    \n",
    "    del model\n",
    "    return best_val_loss"
   ]
  },
  {
   "cell_type": "code",
   "execution_count": 27,
   "metadata": {},
   "outputs": [],
   "source": [
    "baselineConfig = {\n",
    "        \"lr\": 1e-4,\n",
    "        \"dropout\": True,\n",
    "        \"layer0_units\": 256,\n",
    "    }\n",
    "m = build_ViT(baselineConfig)\n"
   ]
  },
  {
   "cell_type": "code",
   "execution_count": 28,
   "metadata": {},
   "outputs": [
    {
     "name": "stdout",
     "output_type": "stream",
     "text": [
      "Model: \"efficientnet_model\"\n",
      "__________________________________________________________________________________________________\n",
      " Layer (type)                Output Shape                 Param #   Connected to                  \n",
      "==================================================================================================\n",
      " input_5 (InputLayer)        [(None, 500, 500, 3)]        0         []                            \n",
      "                                                                                                  \n",
      " resizing (Resizing)         (None, 224, 224, 3)          0         ['input_5[0][0]']             \n",
      "                                                                                                  \n",
      " rescaling_4 (Rescaling)     (None, 224, 224, 3)          0         ['resizing[0][0]']            \n",
      "                                                                                                  \n",
      " keras_layer (KerasLayer)    (None, 768)                  8579865   ['rescaling_4[0][0]']         \n",
      "                                                          6                                       \n",
      "                                                                                                  \n",
      " number_input (InputLayer)   [(None, 1)]                  0         []                            \n",
      "                                                                                                  \n",
      " concatenate_4 (Concatenate  (None, 769)                  0         ['keras_layer[0][0]',         \n",
      " )                                                                   'number_input[0][0]']        \n",
      "                                                                                                  \n",
      " dense (Dense)               (None, 256)                  197120    ['concatenate_4[0][0]']       \n",
      "                                                                                                  \n",
      " dropout (Dropout)           (None, 256)                  0         ['dense[0][0]']               \n",
      "                                                                                                  \n",
      " out_layer (Dense)           (None, 2)                    514       ['dropout[0][0]']             \n",
      "                                                                                                  \n",
      "==================================================================================================\n",
      "Total params: 85996290 (328.05 MB)\n",
      "Trainable params: 197634 (772.01 KB)\n",
      "Non-trainable params: 85798656 (327.30 MB)\n",
      "__________________________________________________________________________________________________\n"
     ]
    }
   ],
   "source": [
    "m.summary()"
   ]
  },
  {
   "cell_type": "code",
   "execution_count": 31,
   "metadata": {},
   "outputs": [
    {
     "name": "stdout",
     "output_type": "stream",
     "text": [
      "1/1 [==============================] - 1s 1s/step - loss: 0.5751 - val_loss: 0.0976\n"
     ]
    },
    {
     "data": {
      "text/plain": [
       "<keras.src.callbacks.History at 0x777d63b48690>"
      ]
     },
     "execution_count": 31,
     "metadata": {},
     "output_type": "execute_result"
    }
   ],
   "source": [
    "m.fit(train_data.take(1), batch_size=BATCH_SIZE, epochs=1, validation_data=val_data.take(1))"
   ]
  },
  {
   "cell_type": "code",
   "execution_count": null,
   "metadata": {},
   "outputs": [],
   "source": [
    "baselineConfig = {\n",
    "        \"lr\": 1e-4,\n",
    "        \"dropout\": True,\n",
    "        \"layer0_units\": 256,\n",
    "    }\n",
    "\n",
    "optuna.logging.get_logger(\"optuna\").addHandler(logging.StreamHandler(sys.stdout))\n",
    "study = optuna.create_study(\n",
    "    direction=\"minimize\",\n",
    "    sampler=optuna.samplers.TPESampler(),\n",
    "    pruner=optuna.pruners.HyperbandPruner(),\n",
    "    study_name='ViT_study'\n",
    ")\n",
    "\n",
    "study.enqueue_trial(baselineConfig)    # Test on baseline parameters first and optimize from there\n",
    "study.optimize(objective_ViT, n_trials=MODEL_SELECTION_STEPS, gc_after_trial=True)"
   ]
  },
  {
   "cell_type": "code",
   "execution_count": 24,
   "metadata": {},
   "outputs": [],
   "source": [
    "plot_slice(study)"
   ]
  },
  {
   "cell_type": "code",
   "execution_count": null,
   "metadata": {},
   "outputs": [],
   "source": [
    "study.best_params"
   ]
  },
  {
   "cell_type": "code",
   "execution_count": 23,
   "metadata": {},
   "outputs": [
    {
     "name": "stdout",
     "output_type": "stream",
     "text": [
      "Model: \"model\"\n",
      "_________________________________________________________________\n",
      " Layer (type)                Output Shape              Param #   \n",
      "=================================================================\n",
      " input_6 (InputLayer)        [(None, 500, 500, 3)]     0         \n",
      "                                                                 \n",
      " resizing_2 (Resizing)       (None, 224, 224, 3)       0         \n",
      "                                                                 \n",
      " keras_layer (KerasLayer)    (None, 768)               85798656  \n",
      "                                                                 \n",
      " dense (Dense)               (None, 1024)              787456    \n",
      "                                                                 \n",
      " dense_1 (Dense)             (None, 256)               262400    \n",
      "                                                                 \n",
      " dense_2 (Dense)             (None, 2)                 514       \n",
      "                                                                 \n",
      "=================================================================\n",
      "Total params: 86849026 (331.30 MB)\n",
      "Trainable params: 1050370 (4.01 MB)\n",
      "Non-trainable params: 85798656 (327.30 MB)\n",
      "_________________________________________________________________\n"
     ]
    }
   ],
   "source": [
    "model = build_ViT(study.best_params)\n",
    "es = keras.callbacks.EarlyStopping(patience=5, restore_best_weights=True)\n",
    "hst = model.fit(test_data, epochs=MAX_EPOCHS, batch_size=BATCH_SIZE, callbacks=[es])\n",
    "model_name = f\"ViT_model{'_finetuned' if FINE_TUNE else ''}_{time.strftime(\"%d%b_%I_%M%p\")}\"\n",
    "model.save(f'models/{model_name}.keras')\n",
    "\n",
    "test_loss_ViT = model.evaluate(test_data)\n",
    "\n",
    "del model\n",
    "keras.backend.clear_session()"
   ]
  },
  {
   "cell_type": "code",
   "execution_count": null,
   "metadata": {},
   "outputs": [],
   "source": [
    "plot_history(hst)"
   ]
  },
  {
   "cell_type": "code",
   "execution_count": null,
   "metadata": {},
   "outputs": [],
   "source": [
    "print(f\"Vision transformer test loss: {test_loss_ViT}\")"
   ]
  }
 ],
 "metadata": {
  "kernelspec": {
   "display_name": "Python 3 (ipykernel)",
   "language": "python",
   "name": "python3"
  },
  "language_info": {
   "codemirror_mode": {
    "name": "ipython",
    "version": 3
   },
   "file_extension": ".py",
   "mimetype": "text/x-python",
   "name": "python",
   "nbconvert_exporter": "python",
   "pygments_lexer": "ipython3",
   "version": "3.11.0"
  }
 },
 "nbformat": 4,
 "nbformat_minor": 4
}
